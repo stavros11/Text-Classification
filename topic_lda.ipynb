{
 "cells": [
  {
   "cell_type": "code",
   "execution_count": 1,
   "metadata": {},
   "outputs": [],
   "source": [
    "import os\n",
    "import numpy as np\n",
    "import pandas as pd\n",
    "from time import time\n",
    "\n",
    "import matplotlib.pyplot as plt\n",
    "import matplotlib\n",
    "import seaborn as sns\n",
    "matplotlib.rcParams['mathtext.fontset'] = 'cm'\n",
    "matplotlib.rcParams['font.family'] = 'STIXGeneral'\n",
    "matplotlib.rcParams[\"font.size\"] = 26\n",
    "\n",
    "data_dir = \"/home/stavros/DATA/AirbnbReviews\"\n",
    "#data_dir = \"D:/\""
   ]
  },
  {
   "cell_type": "code",
   "execution_count": 2,
   "metadata": {},
   "outputs": [
    {
     "name": "stdout",
     "output_type": "stream",
     "text": [
      "(20000, 8)\n",
      "Index(['Unnamed: 0', 'listing_id', 'id', 'date', 'reviewer_id',\n",
      "       'reviewer_name', 'comments', 'normalized_comments'],\n",
      "      dtype='object')\n"
     ]
    }
   ],
   "source": [
    "area = \"nyc\"\n",
    "area_dir = os.path.join(data_dir, area)\n",
    "\n",
    "reviews = pd.read_csv(os.path.join(area_dir, \"nyc_reviews_nostopwords_en_20000samples.csv\"))\n",
    "\n",
    "print(reviews.shape)\n",
    "print(reviews.columns)"
   ]
  },
  {
   "cell_type": "code",
   "execution_count": 3,
   "metadata": {},
   "outputs": [
    {
     "name": "stdout",
     "output_type": "stream",
     "text": [
      "(20000, 8)\n",
      "(19739, 8)\n"
     ]
    }
   ],
   "source": [
    "clean_reviews = reviews[pd.notnull(reviews.normalized_comments)]\n",
    "print(clean_reviews.shape)\n",
    "\n",
    "is_automated = [\"canceled\" not in review for review in clean_reviews.comments]\n",
    "clean_reviews = clean_reviews[is_automated]\n",
    "print(clean_reviews.shape)"
   ]
  },
  {
   "cell_type": "markdown",
   "metadata": {},
   "source": [
    "Tokenize the documents"
   ]
  },
  {
   "cell_type": "code",
   "execution_count": 4,
   "metadata": {},
   "outputs": [],
   "source": [
    "from nltk.tokenize import RegexpTokenizer\n",
    "\n",
    "# Split the documents into tokens.\n",
    "tokenizer = RegexpTokenizer(r'\\w+')\n",
    "docs = [tokenizer.tokenize(review) for review in clean_reviews.normalized_comments]\n",
    "# Remove words that are only one character.\n",
    "docs = [[token for token in doc if len(token) > 1] for doc in docs]"
   ]
  },
  {
   "cell_type": "markdown",
   "metadata": {},
   "source": [
    "Create dictionary and bag-of-words corpus"
   ]
  },
  {
   "cell_type": "code",
   "execution_count": 6,
   "metadata": {},
   "outputs": [
    {
     "name": "stdout",
     "output_type": "stream",
     "text": [
      "14933\n"
     ]
    }
   ],
   "source": [
    "from gensim import corpora, models\n",
    "dictionary = corpora.Dictionary(docs)\n",
    "print(len(dictionary))\n",
    "#dictionary.filter_extremes(no_below=10, no_above=0.)\n",
    "#print(len(dictionary))"
   ]
  },
  {
   "cell_type": "code",
   "execution_count": 8,
   "metadata": {},
   "outputs": [],
   "source": [
    "# Bag-of-words representation of the documents.\n",
    "corpus = [dictionary.doc2bow(doc) for doc in docs]\n",
    "\n",
    "_ = dictionary[0]\n",
    "id2word = dictionary.id2token"
   ]
  },
  {
   "cell_type": "markdown",
   "metadata": {},
   "source": [
    "Check how many times each word in the dictionary appears"
   ]
  },
  {
   "cell_type": "code",
   "execution_count": 5,
   "metadata": {},
   "outputs": [
    {
     "name": "stdout",
     "output_type": "stream",
     "text": [
      "14933\n"
     ]
    }
   ],
   "source": [
    "mydict = {}\n",
    "for doc in docs:\n",
    "    for word in doc:\n",
    "        if word in mydict:\n",
    "            mydict[word] += 1\n",
    "        else:\n",
    "            mydict[word] = 1\n",
    "print(len(mydict))"
   ]
  },
  {
   "cell_type": "markdown",
   "metadata": {},
   "source": [
    "see that this has the same length as the dictionary created by `gensim`"
   ]
  },
  {
   "cell_type": "code",
   "execution_count": 10,
   "metadata": {},
   "outputs": [
    {
     "name": "stdout",
     "output_type": "stream",
     "text": [
      "Appears more than 10: 3030\n",
      "Appears 10 times: 145\n",
      "Appears 9 times: 166\n",
      "Appears 8 times: 174\n",
      "Appears 7 times: 231\n",
      "Appears 6 times: 310\n",
      "Appears 5 times: 398\n",
      "Appears 4 times: 598\n",
      "Appears 3 times: 951\n",
      "Appears 2 times: 1836\n",
      "Appears 1 times: 7094\n"
     ]
    }
   ],
   "source": [
    "words, appearances = [], []\n",
    "for word, app in mydict.items():\n",
    "    words.append(word)\n",
    "    appearances.append(app)\n",
    "\n",
    "appearances = np.array(appearances)\n",
    "start = 10\n",
    "\n",
    "apps = (appearances > start).sum()\n",
    "print(\"Appears more than {}: {}\".format(start, apps))\n",
    "for i in range(10, 0, -1):\n",
    "    apps = (appearances == i).sum()\n",
    "    print(\"Appears {} times: {}\".format(i, apps))"
   ]
  },
  {
   "cell_type": "code",
   "execution_count": 19,
   "metadata": {},
   "outputs": [
    {
     "name": "stdout",
     "output_type": "stream",
     "text": [
      "3030\n"
     ]
    }
   ],
   "source": [
    "words_more_than10 = set(words[i] for i in np.where(appearances > 10)[0])\n",
    "print(len(words_more_than10))"
   ]
  },
  {
   "cell_type": "code",
   "execution_count": 40,
   "metadata": {},
   "outputs": [
    {
     "data": {
      "text/plain": [
       "True"
      ]
     },
     "execution_count": 40,
     "metadata": {},
     "output_type": "execute_result"
    }
   ],
   "source": [
    "\"bathroom\" in words_more_than10"
   ]
  },
  {
   "cell_type": "markdown",
   "metadata": {},
   "source": [
    "Apply `gensim` LDA model"
   ]
  },
  {
   "cell_type": "code",
   "execution_count": 11,
   "metadata": {},
   "outputs": [],
   "source": [
    "model = models.LdaModel(corpus=corpus, id2word=dictionary.id2token, num_topics=3, passes=20)"
   ]
  },
  {
   "cell_type": "code",
   "execution_count": 12,
   "metadata": {},
   "outputs": [
    {
     "data": {
      "text/plain": [
       "[(0,\n",
       "  '0.029*\"not\" + 0.015*\"room\" + 0.012*\"apartment\" + 0.010*\"stay\" + 0.010*\"place\" + 0.010*\"us\" + 0.009*\"get\" + 0.008*\"bed\" + 0.007*\"night\" + 0.007*\"good\"'),\n",
       " (1,\n",
       "  '0.040*\"stay\" + 0.036*\"great\" + 0.029*\"place\" + 0.023*\"host\" + 0.019*\"apartment\" + 0.017*\"location\" + 0.015*\"would\" + 0.014*\"clean\" + 0.014*\"recommend\" + 0.011*\"nice\"'),\n",
       " (2,\n",
       "  '0.023*\"subway\" + 0.021*\"walk\" + 0.020*\"restaurant\" + 0.016*\"great\" + 0.014*\"manhattan\" + 0.013*\"close\" + 0.012*\"minute\" + 0.010*\"station\" + 0.010*\"apartment\" + 0.009*\"park\"')]"
      ]
     },
     "execution_count": 12,
     "metadata": {},
     "output_type": "execute_result"
    }
   ],
   "source": [
    "model.print_topics()"
   ]
  },
  {
   "cell_type": "code",
   "execution_count": null,
   "metadata": {},
   "outputs": [],
   "source": []
  }
 ],
 "metadata": {
  "kernelspec": {
   "display_name": "Python 3",
   "language": "python",
   "name": "python3"
  },
  "language_info": {
   "codemirror_mode": {
    "name": "ipython",
    "version": 3
   },
   "file_extension": ".py",
   "mimetype": "text/x-python",
   "name": "python",
   "nbconvert_exporter": "python",
   "pygments_lexer": "ipython3",
   "version": "3.6.8"
  }
 },
 "nbformat": 4,
 "nbformat_minor": 2
}
