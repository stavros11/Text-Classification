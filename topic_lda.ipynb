{
 "cells": [
  {
   "cell_type": "code",
   "execution_count": 1,
   "metadata": {},
   "outputs": [],
   "source": [
    "import os\n",
    "import numpy as np\n",
    "import pandas as pd\n",
    "from time import time\n",
    "\n",
    "import matplotlib.pyplot as plt\n",
    "import matplotlib\n",
    "import seaborn as sns\n",
    "matplotlib.rcParams['mathtext.fontset'] = 'cm'\n",
    "matplotlib.rcParams['font.family'] = 'STIXGeneral'\n",
    "matplotlib.rcParams[\"font.size\"] = 26\n",
    "\n",
    "data_dir = \"/home/stavros/DATA/AirbnbReviews\"\n",
    "#data_dir = \"D:/\""
   ]
  },
  {
   "cell_type": "code",
   "execution_count": 4,
   "metadata": {},
   "outputs": [
    {
     "name": "stdout",
     "output_type": "stream",
     "text": [
      "(20000, 8)\n",
      "Index(['Unnamed: 0', 'listing_id', 'id', 'date', 'reviewer_id',\n",
      "       'reviewer_name', 'comments', 'normalized_comments'],\n",
      "      dtype='object')\n"
     ]
    }
   ],
   "source": [
    "area = \"nyc\"\n",
    "area_dir = os.path.join(data_dir, area)\n",
    "\n",
    "reviews = pd.read_csv(os.path.join(area_dir, \"nyc_reviews_nostopwords_en_20000samples.csv\"))\n",
    "\n",
    "print(reviews.shape)\n",
    "print(reviews.columns)"
   ]
  },
  {
   "cell_type": "code",
   "execution_count": 5,
   "metadata": {},
   "outputs": [
    {
     "data": {
      "text/plain": [
       "(20000, 8)"
      ]
     },
     "execution_count": 5,
     "metadata": {},
     "output_type": "execute_result"
    }
   ],
   "source": [
    "clean_reviews = reviews[pd.notnull(reviews.normalized_comments)]\n",
    "clean_reviews.shape"
   ]
  },
  {
   "cell_type": "markdown",
   "metadata": {},
   "source": [
    "Tokenize the documents"
   ]
  },
  {
   "cell_type": "code",
   "execution_count": 6,
   "metadata": {},
   "outputs": [],
   "source": [
    "from nltk.tokenize import RegexpTokenizer\n",
    "\n",
    "# Split the documents into tokens.\n",
    "tokenizer = RegexpTokenizer(r'\\w+')\n",
    "docs = [tokenizer.tokenize(review) for review in clean_reviews.normalized_comments]\n",
    "# Remove words that are only one character.\n",
    "docs = [[token for token in doc if len(token) > 1] for doc in docs]"
   ]
  },
  {
   "cell_type": "markdown",
   "metadata": {},
   "source": [
    "Create dictionary and bag-of-words corpus"
   ]
  },
  {
   "cell_type": "code",
   "execution_count": 9,
   "metadata": {},
   "outputs": [
    {
     "name": "stdout",
     "output_type": "stream",
     "text": [
      "14946\n"
     ]
    }
   ],
   "source": [
    "from gensim import corpora, models\n",
    "dictionary = corpora.Dictionary(docs)\n",
    "print(len(dictionary))\n",
    "#dictionary.filter_extremes(no_below=10, no_above=0.)\n",
    "#print(len(dictionary))"
   ]
  },
  {
   "cell_type": "code",
   "execution_count": 10,
   "metadata": {},
   "outputs": [],
   "source": [
    "# Bag-of-words representation of the documents.\n",
    "corpus = [dictionary.doc2bow(doc) for doc in docs]"
   ]
  },
  {
   "cell_type": "markdown",
   "metadata": {},
   "source": [
    "Apply `gensim` LDA model"
   ]
  },
  {
   "cell_type": "code",
   "execution_count": 11,
   "metadata": {},
   "outputs": [],
   "source": [
    "_ = dictionary[0]\n",
    "id2word = dictionary.id2token\n",
    "\n",
    "model = models.LdaModel(corpus=corpus, id2word=dictionary.id2token, num_topics=3, passes=20)"
   ]
  },
  {
   "cell_type": "code",
   "execution_count": 12,
   "metadata": {},
   "outputs": [
    {
     "data": {
      "text/plain": [
       "[(0,\n",
       "  '0.029*\"not\" + 0.015*\"room\" + 0.012*\"apartment\" + 0.010*\"stay\" + 0.010*\"place\" + 0.010*\"us\" + 0.009*\"get\" + 0.008*\"bed\" + 0.007*\"night\" + 0.007*\"good\"'),\n",
       " (1,\n",
       "  '0.040*\"stay\" + 0.036*\"great\" + 0.029*\"place\" + 0.023*\"host\" + 0.019*\"apartment\" + 0.017*\"location\" + 0.015*\"would\" + 0.014*\"clean\" + 0.014*\"recommend\" + 0.011*\"nice\"'),\n",
       " (2,\n",
       "  '0.023*\"subway\" + 0.021*\"walk\" + 0.020*\"restaurant\" + 0.016*\"great\" + 0.014*\"manhattan\" + 0.013*\"close\" + 0.012*\"minute\" + 0.010*\"station\" + 0.010*\"apartment\" + 0.009*\"park\"')]"
      ]
     },
     "execution_count": 12,
     "metadata": {},
     "output_type": "execute_result"
    }
   ],
   "source": [
    "model.print_topics()"
   ]
  },
  {
   "cell_type": "code",
   "execution_count": null,
   "metadata": {},
   "outputs": [],
   "source": []
  }
 ],
 "metadata": {
  "kernelspec": {
   "display_name": "Python 3",
   "language": "python",
   "name": "python3"
  },
  "language_info": {
   "codemirror_mode": {
    "name": "ipython",
    "version": 3
   },
   "file_extension": ".py",
   "mimetype": "text/x-python",
   "name": "python",
   "nbconvert_exporter": "python",
   "pygments_lexer": "ipython3",
   "version": "3.6.8"
  }
 },
 "nbformat": 4,
 "nbformat_minor": 2
}
