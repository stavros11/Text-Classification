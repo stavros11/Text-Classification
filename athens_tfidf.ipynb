{
 "cells": [
  {
   "cell_type": "code",
   "execution_count": 8,
   "metadata": {},
   "outputs": [],
   "source": [
    "import os\n",
    "import numpy as np\n",
    "import pandas as pd\n",
    "from time import time\n",
    "from utils import dependencies, aspect_tools\n",
    "\n",
    "data_dir = \"/home/stavros/DATA/AirbnbReviews\"\n",
    "#data_dir = \"D:/\""
   ]
  },
  {
   "cell_type": "code",
   "execution_count": 9,
   "metadata": {},
   "outputs": [
    {
     "name": "stderr",
     "output_type": "stream",
     "text": [
      "/home/stavros/PythonEvironments/nlp-env/lib/python3.6/site-packages/IPython/core/interactiveshell.py:3058: DtypeWarning: Columns (61,62) have mixed types. Specify dtype option on import or set low_memory=False.\n",
      "  interactivity=interactivity, compiler=compiler, result=result)\n"
     ]
    }
   ],
   "source": [
    "area = \"athens\"\n",
    "area_dir = os.path.join(data_dir, area)\n",
    "listings = pd.read_csv(os.path.join(area_dir, \"listings.csv.gz\"))\n",
    "\n",
    "for column in listings.columns: print(column)"
   ]
  },
  {
   "cell_type": "code",
   "execution_count": 10,
   "metadata": {},
   "outputs": [
    {
     "name": "stdout",
     "output_type": "stream",
     "text": [
      "(379118, 8)\n",
      "(294403, 8)\n"
     ]
    }
   ],
   "source": [
    "reviews = pd.read_pickle(os.path.join(area_dir, \"reviews_with_aspects_379118samples.pkl\"))\n",
    "print(reviews.shape)\n",
    "reviews = reviews[pd.notnull(reviews[\"processed_comments\"])]\n",
    "print(reviews.shape)"
   ]
  },
  {
   "cell_type": "code",
   "execution_count": 11,
   "metadata": {},
   "outputs": [],
   "source": [
    "import re\n",
    "def remove_special_characters(review):\n",
    "    # Substitute all special characters with spaces\n",
    "    text = re.sub(\"[^a-zA-z\\s]\", \" \", review)\n",
    "    # Substitute any white space character with a single space\n",
    "    text = \" \".join(text.split())\n",
    "    return text.lower()"
   ]
  },
  {
   "cell_type": "code",
   "execution_count": 39,
   "metadata": {},
   "outputs": [
    {
     "name": "stdout",
     "output_type": "stream",
     "text": [
      "(294403, 9)\n",
      "(294401, 9)\n"
     ]
    }
   ],
   "source": [
    "listings = listings[pd.notnull(listings[\"neighbourhood\"])]\n",
    "ids2neighborhood = {k: v for k, v in zip(listings[\"id\"], listings[\"neighbourhood\"])}\n",
    "\n",
    "reviews[\"neighborhood\"] = reviews[\"listing_id\"].map(lambda x: ids2neighborhood[x] if x in ids2neighborhood else None)\n",
    "print(reviews.shape)\n",
    "\n",
    "reviews = reviews[pd.notnull(reviews[\"neighborhood\"])]\n",
    "print(reviews.shape)"
   ]
  },
  {
   "cell_type": "code",
   "execution_count": 40,
   "metadata": {},
   "outputs": [],
   "source": [
    "from sklearn import feature_extraction\n",
    "import nltk\n",
    "\n",
    "stopwords = nltk.corpus.stopwords.words(\"english\")"
   ]
  },
  {
   "cell_type": "code",
   "execution_count": 41,
   "metadata": {},
   "outputs": [
    {
     "data": {
      "text/plain": [
       "<294401x52807 sparse matrix of type '<class 'numpy.float64'>'\n",
       "\twith 7227274 stored elements in Compressed Sparse Row format>"
      ]
     },
     "execution_count": 41,
     "metadata": {},
     "output_type": "execute_result"
    }
   ],
   "source": [
    "tfidf = feature_extraction.text.TfidfVectorizer(stop_words=stopwords)\n",
    "proc_comments = reviews.processed_comments.map(remove_special_characters)\n",
    "tdf_mat = tfidf.fit_transform(proc_comments)\n",
    "tdf_mat"
   ]
  },
  {
   "cell_type": "code",
   "execution_count": 42,
   "metadata": {},
   "outputs": [
    {
     "data": {
      "text/plain": [
       "52807"
      ]
     },
     "execution_count": 42,
     "metadata": {},
     "output_type": "execute_result"
    }
   ],
   "source": [
    "import collections\n",
    "word_scores = tdf_mat.mean(axis=0)\n",
    "word_scores = collections.Counter({w: word_scores[0, ind] for w, ind in tfidf.vocabulary_.items()})\n",
    "len(word_scores)"
   ]
  },
  {
   "cell_type": "code",
   "execution_count": 47,
   "metadata": {},
   "outputs": [],
   "source": [
    "unique_ngh = np.unique(reviews[\"neighborhood\"])\n",
    "ngh_word_scores = [tdf_mat[np.where(reviews[\"neighborhood\"] == n)[0]].mean(axis=0) for n in unique_ngh]"
   ]
  },
  {
   "cell_type": "code",
   "execution_count": 53,
   "metadata": {},
   "outputs": [
    {
     "data": {
      "text/plain": [
       "32"
      ]
     },
     "execution_count": 53,
     "metadata": {},
     "output_type": "execute_result"
    }
   ],
   "source": [
    "len(unique_ngh)"
   ]
  },
  {
   "cell_type": "code",
   "execution_count": 50,
   "metadata": {},
   "outputs": [],
   "source": [
    "ngh_word_scores = [collections.Counter({w: score[0, ind] for w, ind in tfidf.vocabulary_.items()})\n",
    "                   for score in ngh_word_scores]"
   ]
  },
  {
   "cell_type": "code",
   "execution_count": 51,
   "metadata": {},
   "outputs": [],
   "source": [
    "ngh_word_matrix = np.concatenate([tdf_mat[np.where(reviews[\"neighborhood\"] == n)[0]].mean(axis=0) for n in unique_ngh], axis=0)"
   ]
  },
  {
   "cell_type": "code",
   "execution_count": 52,
   "metadata": {},
   "outputs": [
    {
     "data": {
      "text/plain": [
       "(32, 52807)"
      ]
     },
     "execution_count": 52,
     "metadata": {},
     "output_type": "execute_result"
    }
   ],
   "source": [
    "ngh_word_matrix.shape"
   ]
  },
  {
   "cell_type": "code",
   "execution_count": 54,
   "metadata": {},
   "outputs": [],
   "source": [
    "import matplotlib.pyplot as plt"
   ]
  },
  {
   "cell_type": "code",
   "execution_count": 60,
   "metadata": {},
   "outputs": [
    {
     "data": {
      "image/png": "[encoded data removed]",
      "text/plain": [
       "<Figure size 504x288 with 1 Axes>"
      ]
     },
     "metadata": {
      "needs_background": "light"
     },
     "output_type": "display_data"
    }
   ],
   "source": [
    "plt.figure(figsize=(7, 4))\n",
    "plt.imshow(ngh_word_matrix, aspect=200)\n",
    "plt.show()"
   ]
  },
  {
   "cell_type": "code",
   "execution_count": 68,
   "metadata": {},
   "outputs": [
    {
     "name": "stdout",
     "output_type": "stream",
     "text": [
      "(32, 1, 261)\n"
     ]
    }
   ],
   "source": [
    "ngh_word_matrix_trunc = np.array([word for word in ngh_word_matrix.T if not (word < 1e-2).prod()]).T\n",
    "print(ngh_word_matrix_trunc.shape)"
   ]
  },
  {
   "cell_type": "code",
   "execution_count": 75,
   "metadata": {},
   "outputs": [
    {
     "data": {
      "image/png": "[encoded data removed]",
      "text/plain": [
       "<Figure size 1296x432 with 2 Axes>"
      ]
     },
     "metadata": {
      "needs_background": "light"
     },
     "output_type": "display_data"
    }
   ],
   "source": [
    "plt.figure(figsize=(18, 6))\n",
    "plt.imshow(ngh_word_matrix_trunc[:, 0], aspect=2)\n",
    "plt.colorbar()\n",
    "plt.show()"
   ]
  },
  {
   "cell_type": "code",
   "execution_count": null,
   "metadata": {},
   "outputs": [],
   "source": []
  }
 ],
 "metadata": {
  "kernelspec": {
   "display_name": "Python 3",
   "language": "python",
   "name": "python3"
  },
  "language_info": {
   "codemirror_mode": {
    "name": "ipython",
    "version": 3
   },
   "file_extension": ".py",
   "mimetype": "text/x-python",
   "name": "python",
   "nbconvert_exporter": "python",
   "pygments_lexer": "ipython3",
   "version": "3.6.8"
  }
 },
 "nbformat": 4,
 "nbformat_minor": 2
}
