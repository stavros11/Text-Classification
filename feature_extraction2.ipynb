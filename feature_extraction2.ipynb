{
 "cells": [
  {
   "cell_type": "code",
   "execution_count": 13,
   "metadata": {},
   "outputs": [],
   "source": [
    "import os\n",
    "import numpy as np\n",
    "import pandas as pd\n",
    "from time import time\n",
    "from utils import custom_preprocessing, dependencies\n",
    "\n",
    "import matplotlib.pyplot as plt\n",
    "import matplotlib\n",
    "import seaborn as sns\n",
    "matplotlib.rcParams['mathtext.fontset'] = 'cm'\n",
    "matplotlib.rcParams['font.family'] = 'STIXGeneral'\n",
    "matplotlib.rcParams[\"font.size\"] = 26\n",
    "\n",
    "data_dir = \"/home/stavros/DATA/AirbnbReviews\"\n",
    "#data_dir = \"D:/\""
   ]
  },
  {
   "cell_type": "code",
   "execution_count": 4,
   "metadata": {},
   "outputs": [
    {
     "name": "stdout",
     "output_type": "stream",
     "text": [
      "(218718, 6)\n",
      "(218580, 6)\n"
     ]
    }
   ],
   "source": [
    "area = \"boston\"\n",
    "area_dir = os.path.join(data_dir, area)\n",
    "\n",
    "data = pd.read_csv(os.path.join(area_dir, \"reviews.csv.gz\"))\n",
    "print(data.shape)\n",
    "\n",
    "clean_data = data[pd.notnull(data.comments)]\n",
    "print(clean_data.shape)"
   ]
  },
  {
   "cell_type": "markdown",
   "metadata": {},
   "source": [
    "Check how preprocessors work on specific examples (for sanity check)"
   ]
  },
  {
   "cell_type": "code",
   "execution_count": 13,
   "metadata": {},
   "outputs": [
    {
     "name": "stdout",
     "output_type": "stream",
     "text": [
      "Thanks to the Carney family for hosting us. The house was really beautiful and the best part was its proximity to downtown Boston. Made our trip all the more memorable!\n",
      "\n",
      "Thanks to the Host family for hosting us. The house was really beautiful and the best part was The house proximity to downtown Boston. Made us trip all the more memorable!\n",
      "\n",
      "{'house', 'part'}\n"
     ]
    }
   ],
   "source": [
    "ind = np.random.randint(0, len(clean_data))\n",
    "\n",
    "text = clean_data.iloc[ind].comments\n",
    "print(text)\n",
    "print()\n",
    "ptext = custom_preprocessing.preprocessing_pipeline(text)\n",
    "print(ptext)\n",
    "print()\n",
    "features = dependencies.find_features(ptext)\n",
    "print(features)"
   ]
  },
  {
   "cell_type": "markdown",
   "metadata": {},
   "source": [
    "Preprocess multiple reviews (either do this or load already preprocessed reviews from a saved pickle)"
   ]
  },
  {
   "cell_type": "code",
   "execution_count": 14,
   "metadata": {},
   "outputs": [
    {
     "name": "stdout",
     "output_type": "stream",
     "text": [
      "501 / 2000 found. - time: 26.520755529403687\n",
      "1001 / 2000 found. - time: 50.33985733985901\n",
      "1501 / 2000 found. - time: 76.03535342216492\n",
      "2001 / 2000 found. - time: 101.41226363182068\n"
     ]
    }
   ],
   "source": [
    "n_samples = 2000\n",
    "n_message = 500\n",
    "\n",
    "ids = np.arange(len(clean_data))\n",
    "np.random.shuffle(ids)\n",
    "\n",
    "sampled_columns = list(clean_data.columns) + [\"processed_comments\", \"word_features\"]\n",
    "sampled_data = pd.DataFrame(index=range(n_samples), columns=sampled_columns)\n",
    "\n",
    "start_time = time()\n",
    "i, ic = 0, 0\n",
    "while ic < n_samples:\n",
    "    data_row = clean_data.iloc[ids[i]]\n",
    "    i += 1\n",
    "    processed_review = custom_preprocessing.preprocessing_pipeline(data_row[\"comments\"])\n",
    "    \n",
    "    if processed_review is not None:\n",
    "        sampled_data.iloc[ic] = data_row\n",
    "        sampled_data.iloc[ic][\"processed_comments\"] = processed_review\n",
    "        sampled_data.iloc[ic][\"word_features\"] = dependencies.find_features(processed_review)\n",
    "        ic += 1\n",
    "\n",
    "    if ic % n_message == 0:\n",
    "        print(\"{} / {} found. - time: {}\".format(ic + 1, n_samples, time() - start_time))\n",
    "        \n",
    "# Save to pickle\n",
    "sampled_data.to_pickle(os.path.join(area_dir, \"reviews_with_word_features_{}samples.pkl\".format(n_samples)))"
   ]
  },
  {
   "cell_type": "code",
   "execution_count": 4,
   "metadata": {},
   "outputs": [],
   "source": [
    "area = \"boston\"\n",
    "n_samples = 2000\n",
    "\n",
    "area_dir = os.path.join(data_dir, area)\n",
    "sampled_data = pd.read_pickle(os.path.join(area_dir, \"reviews_with_word_features_{}samples.pkl\".format(n_samples)))"
   ]
  },
  {
   "cell_type": "code",
   "execution_count": 5,
   "metadata": {},
   "outputs": [
    {
     "data": {
      "text/html": [
       "<div>\n",
       "<style scoped>\n",
       "    .dataframe tbody tr th:only-of-type {\n",
       "        vertical-align: middle;\n",
       "    }\n",
       "\n",
       "    .dataframe tbody tr th {\n",
       "        vertical-align: top;\n",
       "    }\n",
       "\n",
       "    .dataframe thead th {\n",
       "        text-align: right;\n",
       "    }\n",
       "</style>\n",
       "<table border=\"1\" class=\"dataframe\">\n",
       "  <thead>\n",
       "    <tr style=\"text-align: right;\">\n",
       "      <th></th>\n",
       "      <th>listing_id</th>\n",
       "      <th>id</th>\n",
       "      <th>date</th>\n",
       "      <th>reviewer_id</th>\n",
       "      <th>reviewer_name</th>\n",
       "      <th>comments</th>\n",
       "      <th>processed_comments</th>\n",
       "      <th>word_features</th>\n",
       "    </tr>\n",
       "  </thead>\n",
       "  <tbody>\n",
       "    <tr>\n",
       "      <th>0</th>\n",
       "      <td>9549850</td>\n",
       "      <td>213510284</td>\n",
       "      <td>2017-11-21</td>\n",
       "      <td>15023148</td>\n",
       "      <td>Dennis</td>\n",
       "      <td>Gail's basement suite (bedroom, kitchenette/si...</td>\n",
       "      <td>Host basement suite bedroom kitchenette sittin...</td>\n",
       "      <td>{street, host, variety, hill, food}</td>\n",
       "    </tr>\n",
       "    <tr>\n",
       "      <th>1</th>\n",
       "      <td>18193552</td>\n",
       "      <td>520507608</td>\n",
       "      <td>2019-08-30</td>\n",
       "      <td>248627146</td>\n",
       "      <td>Claudia</td>\n",
       "      <td>Great location in the Seaport District. The co...</td>\n",
       "      <td>Great location in the Seaport District. The co...</td>\n",
       "      <td>{host, concierge}</td>\n",
       "    </tr>\n",
       "    <tr>\n",
       "      <th>2</th>\n",
       "      <td>28716462</td>\n",
       "      <td>354870110</td>\n",
       "      <td>2018-12-02</td>\n",
       "      <td>225156103</td>\n",
       "      <td>Casey</td>\n",
       "      <td>Good Location. Work out for us!</td>\n",
       "      <td>Good Location. Work out for Good Location!</td>\n",
       "      <td>{}</td>\n",
       "    </tr>\n",
       "    <tr>\n",
       "      <th>3</th>\n",
       "      <td>15368927</td>\n",
       "      <td>295434183</td>\n",
       "      <td>2018-07-23</td>\n",
       "      <td>133440138</td>\n",
       "      <td>Jaclyn</td>\n",
       "      <td>Great location, very private space to stay in!</td>\n",
       "      <td>Great location very private space to stay in!</td>\n",
       "      <td>{}</td>\n",
       "    </tr>\n",
       "    <tr>\n",
       "      <th>4</th>\n",
       "      <td>19625919</td>\n",
       "      <td>309055885</td>\n",
       "      <td>2018-08-17</td>\n",
       "      <td>11338797</td>\n",
       "      <td>Kath</td>\n",
       "      <td>Esthers place is as nice as it looks she provi...</td>\n",
       "      <td>Esthers place is as nice as Esthers place look...</td>\n",
       "      <td>{extras, travellers, esthers place}</td>\n",
       "    </tr>\n",
       "    <tr>\n",
       "      <th>...</th>\n",
       "      <td>...</td>\n",
       "      <td>...</td>\n",
       "      <td>...</td>\n",
       "      <td>...</td>\n",
       "      <td>...</td>\n",
       "      <td>...</td>\n",
       "      <td>...</td>\n",
       "      <td>...</td>\n",
       "    </tr>\n",
       "    <tr>\n",
       "      <th>1995</th>\n",
       "      <td>17138041</td>\n",
       "      <td>297303366</td>\n",
       "      <td>2018-07-27</td>\n",
       "      <td>90709502</td>\n",
       "      <td>Lori</td>\n",
       "      <td>The apartment was in a great location. It was ...</td>\n",
       "      <td>The apartment was in a great location. The apa...</td>\n",
       "      <td>{location, apartment, beds}</td>\n",
       "    </tr>\n",
       "    <tr>\n",
       "      <th>1996</th>\n",
       "      <td>18342681</td>\n",
       "      <td>260372695</td>\n",
       "      <td>2018-05-04</td>\n",
       "      <td>39637463</td>\n",
       "      <td>Molly</td>\n",
       "      <td>This place is great! Super close to the airpor...</td>\n",
       "      <td>This place is great! Super close to the airpor...</td>\n",
       "      <td>{check, place, touches, work}</td>\n",
       "    </tr>\n",
       "    <tr>\n",
       "      <th>1997</th>\n",
       "      <td>17333246</td>\n",
       "      <td>157768904</td>\n",
       "      <td>2017-06-04</td>\n",
       "      <td>19598336</td>\n",
       "      <td>Danielle</td>\n",
       "      <td>I stayed at this location for a weekend while ...</td>\n",
       "      <td>I stayed at this location for a weekend while ...</td>\n",
       "      <td>{delays, check, building, walking, host}</td>\n",
       "    </tr>\n",
       "    <tr>\n",
       "      <th>1998</th>\n",
       "      <td>3965492</td>\n",
       "      <td>336747410</td>\n",
       "      <td>2018-10-14</td>\n",
       "      <td>184573774</td>\n",
       "      <td>Pierre</td>\n",
       "      <td>Our stay at May’s was rather nice. Don’t expec...</td>\n",
       "      <td>Our stay at May s was rather nice. Don s expec...</td>\n",
       "      <td>{room, t, points, pipes, bit, stay}</td>\n",
       "    </tr>\n",
       "    <tr>\n",
       "      <th>1999</th>\n",
       "      <td>5593939</td>\n",
       "      <td>246579184</td>\n",
       "      <td>2018-03-25</td>\n",
       "      <td>97284889</td>\n",
       "      <td>Conner</td>\n",
       "      <td>Great place and in the perfect location! So cl...</td>\n",
       "      <td>Great place and in the perfect location! So cl...</td>\n",
       "      <td>{location}</td>\n",
       "    </tr>\n",
       "  </tbody>\n",
       "</table>\n",
       "<p>2000 rows × 8 columns</p>\n",
       "</div>"
      ],
      "text/plain": [
       "     listing_id         id        date reviewer_id reviewer_name  \\\n",
       "0       9549850  213510284  2017-11-21    15023148        Dennis   \n",
       "1      18193552  520507608  2019-08-30   248627146       Claudia   \n",
       "2      28716462  354870110  2018-12-02   225156103         Casey   \n",
       "3      15368927  295434183  2018-07-23   133440138        Jaclyn   \n",
       "4      19625919  309055885  2018-08-17    11338797          Kath   \n",
       "...         ...        ...         ...         ...           ...   \n",
       "1995   17138041  297303366  2018-07-27    90709502          Lori   \n",
       "1996   18342681  260372695  2018-05-04    39637463         Molly   \n",
       "1997   17333246  157768904  2017-06-04    19598336      Danielle   \n",
       "1998    3965492  336747410  2018-10-14   184573774        Pierre   \n",
       "1999    5593939  246579184  2018-03-25    97284889        Conner   \n",
       "\n",
       "                                               comments  \\\n",
       "0     Gail's basement suite (bedroom, kitchenette/si...   \n",
       "1     Great location in the Seaport District. The co...   \n",
       "2                       Good Location. Work out for us!   \n",
       "3       Great location, very private space to stay in!    \n",
       "4     Esthers place is as nice as it looks she provi...   \n",
       "...                                                 ...   \n",
       "1995  The apartment was in a great location. It was ...   \n",
       "1996  This place is great! Super close to the airpor...   \n",
       "1997  I stayed at this location for a weekend while ...   \n",
       "1998  Our stay at May’s was rather nice. Don’t expec...   \n",
       "1999  Great place and in the perfect location! So cl...   \n",
       "\n",
       "                                     processed_comments  \\\n",
       "0     Host basement suite bedroom kitchenette sittin...   \n",
       "1     Great location in the Seaport District. The co...   \n",
       "2            Good Location. Work out for Good Location!   \n",
       "3         Great location very private space to stay in!   \n",
       "4     Esthers place is as nice as Esthers place look...   \n",
       "...                                                 ...   \n",
       "1995  The apartment was in a great location. The apa...   \n",
       "1996  This place is great! Super close to the airpor...   \n",
       "1997  I stayed at this location for a weekend while ...   \n",
       "1998  Our stay at May s was rather nice. Don s expec...   \n",
       "1999  Great place and in the perfect location! So cl...   \n",
       "\n",
       "                                 word_features  \n",
       "0          {street, host, variety, hill, food}  \n",
       "1                            {host, concierge}  \n",
       "2                                           {}  \n",
       "3                                           {}  \n",
       "4          {extras, travellers, esthers place}  \n",
       "...                                        ...  \n",
       "1995               {location, apartment, beds}  \n",
       "1996             {check, place, touches, work}  \n",
       "1997  {delays, check, building, walking, host}  \n",
       "1998       {room, t, points, pipes, bit, stay}  \n",
       "1999                                {location}  \n",
       "\n",
       "[2000 rows x 8 columns]"
      ]
     },
     "execution_count": 5,
     "metadata": {},
     "output_type": "execute_result"
    }
   ],
   "source": [
    "sampled_data"
   ]
  },
  {
   "cell_type": "markdown",
   "metadata": {},
   "source": [
    "Check the features we found"
   ]
  },
  {
   "cell_type": "code",
   "execution_count": 6,
   "metadata": {},
   "outputs": [],
   "source": [
    "from collections import Counter\n",
    "\n",
    "all_features = Counter()\n",
    "for features in sampled_data.word_features:\n",
    "    for phrase in features:\n",
    "        for word in phrase.split(\" \"):\n",
    "            all_features[word] += 1"
   ]
  },
  {
   "cell_type": "code",
   "execution_count": 8,
   "metadata": {},
   "outputs": [
    {
     "name": "stdout",
     "output_type": "stream",
     "text": [
      "1071\n",
      "[('host', 538), ('place', 457), ('location', 410), ('apartment', 227), ('stay', 192), ('room', 156)]\n"
     ]
    }
   ],
   "source": [
    "print(len(all_features))\n",
    "print(all_features.most_common(6))"
   ]
  },
  {
   "cell_type": "code",
   "execution_count": 42,
   "metadata": {},
   "outputs": [],
   "source": [
    "def word_barchart(features, n_words=10, n_reviews=None):\n",
    "    words_bar = [word for word, _ in features.most_common(n_words)]\n",
    "    if n_reviews is None:\n",
    "        bar_counts = [count for _, count in features.most_common(n_words)]\n",
    "    else:\n",
    "        bar_counts = [count / n_reviews for _, count in features.most_common(n_words)]\n",
    "    y_pos = [i for i, _ in enumerate(words_bar)]\n",
    "\n",
    "    plt.figure(figsize=(10, 6))\n",
    "    cp = sns.color_palette()\n",
    "    plt.barh(y_pos, bar_counts, color=cp[0])\n",
    "    plt.yticks(y_pos, words_bar)\n",
    "    plt.xlabel(\"Word occurences\")\n",
    "    plt.show()"
   ]
  },
  {
   "cell_type": "code",
   "execution_count": 43,
   "metadata": {},
   "outputs": [
    {
     "data": {
      "image/png": "[encoded data removed]",
      "text/plain": [
       "<Figure size 720x432 with 1 Axes>"
      ]
     },
     "metadata": {
      "needs_background": "light"
     },
     "output_type": "display_data"
    }
   ],
   "source": [
    "word_barchart(all_features, n_words=10, n_reviews=len(sampled_data))"
   ]
  },
  {
   "cell_type": "markdown",
   "metadata": {},
   "source": [
    "### Cluster/Visualize the features using word2vec"
   ]
  },
  {
   "cell_type": "markdown",
   "metadata": {},
   "source": [
    "Check cosine distance values"
   ]
  },
  {
   "cell_type": "code",
   "execution_count": 20,
   "metadata": {},
   "outputs": [
    {
     "data": {
      "text/plain": [
       "<gensim.models.keyedvectors.Word2VecKeyedVectors at 0x7fc290a27320>"
      ]
     },
     "execution_count": 20,
     "metadata": {},
     "output_type": "execute_result"
    }
   ],
   "source": [
    "import gensim\n",
    "google_vec_file = os.path.join(data_dir, \"GoogleNews-vectors-negative300.bin.gz\")\n",
    "word2vec = gensim.models.KeyedVectors.load_word2vec_format(google_vec_file, binary=True, limit=200000)\n",
    "word2vec"
   ]
  },
  {
   "cell_type": "code",
   "execution_count": 21,
   "metadata": {},
   "outputs": [
    {
     "name": "stdout",
     "output_type": "stream",
     "text": [
      "275\n"
     ]
    }
   ],
   "source": [
    "words = [word for word, counts in all_features.most_common() if counts > 2 and word in word2vec]\n",
    "print(len(words))\n",
    "\n",
    "distance_matrix = np.eye(len(words))\n",
    "for i, word in enumerate(words):\n",
    "    for j, word2 in enumerate(words[i:]):\n",
    "        distance_matrix[i, i + j] = word2vec.distance(word, word2)"
   ]
  },
  {
   "cell_type": "code",
   "execution_count": 22,
   "metadata": {},
   "outputs": [
    {
     "name": "stdout",
     "output_type": "stream",
     "text": [
      "0.8918886431472036\n",
      "0.09334183694836762\n",
      "1.1293818950653076\n",
      "0.08670997619628906\n"
     ]
    },
    {
     "data": {
      "image/png": "[encoded data removed]",
      "text/plain": [
       "<Figure size 432x288 with 1 Axes>"
      ]
     },
     "metadata": {
      "needs_background": "light"
     },
     "output_type": "display_data"
    }
   ],
   "source": [
    "ids = np.triu_indices(len(words), k=1)\n",
    "print(distance_matrix[ids].mean())\n",
    "print(distance_matrix[ids].std())\n",
    "print(distance_matrix[ids].max())\n",
    "print(distance_matrix[ids].min())\n",
    "\n",
    "plt.hist(distance_matrix[ids], bins=50)\n",
    "plt.title(\"Distribution of distances\")\n",
    "plt.show()"
   ]
  },
  {
   "cell_type": "code",
   "execution_count": 25,
   "metadata": {},
   "outputs": [
    {
     "name": "stdout",
     "output_type": "stream",
     "text": [
      "Number of words closer than 0.1: 1\n",
      "Number of words closer than 0.2: 4\n",
      "Number of words closer than 0.3: 29\n",
      "Number of words closer than 0.4: 71\n",
      "Number of words closer than 0.5: 190\n"
     ]
    }
   ],
   "source": [
    "ids = np.triu_indices(len(words), k=1)\n",
    "cut_offs = [0.1, 0.2, 0.3, 0.4, 0.5]\n",
    "for cut_off in cut_offs:\n",
    "    n = (distance_matrix[ids] < cut_off).sum()\n",
    "    print(\"Number of words closer than {}: {}\".format(cut_off, n))"
   ]
  },
  {
   "cell_type": "code",
   "execution_count": 26,
   "metadata": {
    "scrolled": true
   },
   "outputs": [
    {
     "name": "stdout",
     "output_type": "stream",
     "text": [
      "host hosts\n",
      "location proximity\n",
      "apartment house\n",
      "apartment bedroom\n",
      "apartment condo\n",
      "room rooms\n",
      "house bedroom\n",
      "experience experiences\n",
      "space spaces\n",
      "bed beds\n",
      "area areas\n",
      "everything things\n",
      "everything nothing\n",
      "everything everyone\n",
      "restaurants restaurant\n",
      "problem problems\n",
      "issue issues\n",
      "bathroom kitchen\n",
      "bathroom bedroom\n",
      "bathroom shower\n",
      "bathroom bathrooms\n",
      "spot spots\n",
      "walk walking\n",
      "it that\n",
      "issues problems\n",
      "view views\n",
      "recommendations recommendation\n",
      "you we\n",
      "family friends\n",
      "bedroom bedrooms\n",
      "rooms bedrooms\n",
      "rooms bathrooms\n",
      "comfy cozy\n",
      "night nights\n",
      "pictures photos\n",
      "things thing\n",
      "accommodations accommodation\n",
      "me us\n",
      "clean cleaning\n",
      "husband boyfriend\n",
      "husband wife\n",
      "husband daughter\n",
      "we us\n",
      "day days\n",
      "responses response\n",
      "dog cats\n",
      "dog cat\n",
      "dog dogs\n",
      "lots lot\n",
      "lots plenty\n",
      "minute minutes\n",
      "minute hour\n",
      "restaurant cafe\n",
      "lot plenty\n",
      "spacious airy\n",
      "complaints complaint\n",
      "anyone everyone\n",
      "owner owners\n",
      "smell odor\n",
      "boyfriend daughter\n",
      "neighbors neighbor\n",
      "airy homey\n",
      "bars bar\n",
      "cats cat\n",
      "cats dogs\n",
      "transportation transport\n",
      "bedrooms bathrooms\n",
      "cat dogs\n",
      "wife daughter\n",
      "minutes hour\n",
      "friends friend\n"
     ]
    }
   ],
   "source": [
    "for i in np.where(distance_matrix[ids] < 0.4)[0]:\n",
    "    i1, i2 = ids[0][i], ids[1][i]\n",
    "    print(words[i1], words[i2])"
   ]
  },
  {
   "cell_type": "markdown",
   "metadata": {},
   "source": [
    "Merge words with distance < `cut_off`"
   ]
  },
  {
   "cell_type": "code",
   "execution_count": 38,
   "metadata": {},
   "outputs": [
    {
     "name": "stdout",
     "output_type": "stream",
     "text": [
      "275\n",
      "224\n"
     ]
    }
   ],
   "source": [
    "removed_words = set()\n",
    "merged_features = Counter()\n",
    "cut_off = 0.4\n",
    "\n",
    "for i, word in enumerate(words):\n",
    "    if word not in removed_words:\n",
    "        removed_words.add(word)\n",
    "        merged_features[word] = all_features[word]\n",
    "        for j in np.where(distance_matrix[i] < cut_off)[0]:\n",
    "            if words[j] not in removed_words:\n",
    "                removed_words.add(words[j])\n",
    "                merged_features[word] += all_features[words[j]]\n",
    "\n",
    "print(len(words))\n",
    "print(len(merged_features))"
   ]
  },
  {
   "cell_type": "code",
   "execution_count": 40,
   "metadata": {},
   "outputs": [
    {
     "data": {
      "text/plain": [
       "[('host', 618),\n",
       " ('place', 457),\n",
       " ('location', 413),\n",
       " ('apartment', 348),\n",
       " ('stay', 192),\n",
       " ('room', 172),\n",
       " ('bed', 115),\n",
       " ('neighborhood', 113),\n",
       " ('experience', 94),\n",
       " ('bathroom', 92),\n",
       " ('space', 90),\n",
       " ('everything', 83),\n",
       " ('time', 67),\n",
       " ('area', 67),\n",
       " ('communication', 65),\n",
       " ('restaurants', 63),\n",
       " ('issue', 62),\n",
       " ('home', 58),\n",
       " ('problem', 55),\n",
       " ('noise', 47),\n",
       " ('parking', 41),\n",
       " ('spot', 39),\n",
       " ('access', 37),\n",
       " ('view', 36),\n",
       " ('value', 35),\n",
       " ('street', 34),\n",
       " ('walk', 32),\n",
       " ('it', 31),\n",
       " ('check', 30),\n",
       " ('amenities', 26),\n",
       " ('work', 25),\n",
       " ('recommendations', 25),\n",
       " ('food', 24),\n",
       " ('you', 24),\n",
       " ('studio', 23),\n",
       " ('part', 22),\n",
       " ('places', 22),\n",
       " ('price', 21),\n",
       " ('family', 20),\n",
       " ('husband', 20),\n",
       " ('breeze', 19),\n",
       " ('night', 19),\n",
       " ('accommodations', 19),\n",
       " ('trouble', 18),\n",
       " ('dog', 18),\n",
       " ('lots', 18),\n",
       " ('people', 17),\n",
       " ('comfy', 17),\n",
       " ('breakfast', 16),\n",
       " ('touches', 16),\n",
       " ('pictures', 16),\n",
       " ('me', 16),\n",
       " ('unit', 15),\n",
       " ('top', 15),\n",
       " ('trip', 15),\n",
       " ('tips', 15),\n",
       " ('pleasure', 14),\n",
       " ('building', 14),\n",
       " ('this', 14),\n",
       " ('clean', 14),\n",
       " ('person', 13),\n",
       " ('instructions', 13),\n",
       " ('distance', 13),\n",
       " ('responses', 13),\n",
       " ('minute', 13),\n",
       " ('coffee', 12),\n",
       " ('size', 12),\n",
       " ('day', 12),\n",
       " ('towels', 11),\n",
       " ('touch', 11),\n",
       " ('spotless', 11),\n",
       " ('water', 11),\n",
       " ('wifi', 11),\n",
       " ('t', 11),\n",
       " ('mattress', 10),\n",
       " ('comfort', 10),\n",
       " ('air', 10),\n",
       " ('ease', 10),\n",
       " ('information', 10),\n",
       " ('spacious', 10),\n",
       " ('communicator', 9),\n",
       " ('decor', 9),\n",
       " ('hospitality', 9),\n",
       " ('complaints', 9),\n",
       " ('owner', 9),\n",
       " ('property', 8),\n",
       " ('thing', 8),\n",
       " ('quaint', 8),\n",
       " ('gem', 8),\n",
       " ('suggestions', 8),\n",
       " ('convenience', 8),\n",
       " ('lady', 8),\n",
       " ('option', 8),\n",
       " ('listing', 8),\n",
       " ('smell', 8),\n",
       " ('one', 7),\n",
       " ('downside', 7),\n",
       " ('directions', 7),\n",
       " ('comfortable', 7),\n",
       " ('master', 7),\n",
       " ('tv', 7),\n",
       " ('guests', 7),\n",
       " ('love', 7),\n",
       " ('neighbors', 7),\n",
       " ('bars', 7),\n",
       " ('transportation', 7),\n",
       " ('staff', 6),\n",
       " ('stairs', 6),\n",
       " ('shopping', 6),\n",
       " ('sheets', 6),\n",
       " ('hassle', 6),\n",
       " ('fun', 6),\n",
       " ('stylish', 6),\n",
       " ('deck', 6),\n",
       " ('charm', 6),\n",
       " ('freedom', 6),\n",
       " ('description', 6),\n",
       " ('base', 6),\n",
       " ('hostess', 6),\n",
       " ('furniture', 6),\n",
       " ('way', 6),\n",
       " ('bonus', 6),\n",
       " ('cute', 6),\n",
       " ('weekend', 6),\n",
       " ('visit', 6),\n",
       " ('surprise', 6),\n",
       " ('muffins', 5),\n",
       " ('anyone', 5),\n",
       " ('shape', 5),\n",
       " ('luxury', 5),\n",
       " ('vibe', 5),\n",
       " ('pressure', 5),\n",
       " ('delight', 5),\n",
       " ('guy', 5),\n",
       " ('than', 5),\n",
       " ('concerns', 5),\n",
       " ('job', 5),\n",
       " ('emergency', 5),\n",
       " ('snacks', 5),\n",
       " ('environment', 5),\n",
       " ('suite', 5),\n",
       " ('market', 5),\n",
       " ('process', 5),\n",
       " ('light', 5),\n",
       " ('reviews', 5),\n",
       " ('cleanliness', 5),\n",
       " ('advice', 5),\n",
       " ('variety', 4),\n",
       " ('floor', 4),\n",
       " ('choice', 4),\n",
       " ('conditioning', 4),\n",
       " ('weather', 4),\n",
       " ('welcome', 4),\n",
       " ('plugs', 4),\n",
       " ('couch', 4),\n",
       " ('bread', 4),\n",
       " ('others', 4),\n",
       " ('contact', 4),\n",
       " ('connection', 4),\n",
       " ('bedrooms', 4),\n",
       " ('luck', 4),\n",
       " ('sleep', 4),\n",
       " ('lack', 4),\n",
       " ('travel', 4),\n",
       " ('fault', 4),\n",
       " ('door', 4),\n",
       " ('couple', 4),\n",
       " ('which', 4),\n",
       " ('bit', 4),\n",
       " ('ride', 4),\n",
       " ('layout', 4),\n",
       " ('rental', 4),\n",
       " ('hill', 3),\n",
       " ('offerings', 3),\n",
       " ('city', 3),\n",
       " ('cafe', 3),\n",
       " ('negative', 3),\n",
       " ('condition', 3),\n",
       " ('musty', 3),\n",
       " ('books', 3),\n",
       " ('cloud', 3),\n",
       " ('oasis', 3),\n",
       " ('quality', 3),\n",
       " ('atmosphere', 3),\n",
       " ('pizza', 3),\n",
       " ('expectations', 3),\n",
       " ('homes', 3),\n",
       " ('ear', 3),\n",
       " ('key', 3),\n",
       " ('bath', 3),\n",
       " ('end', 3),\n",
       " ('homey', 3),\n",
       " ('respite', 3),\n",
       " ('warmth', 3),\n",
       " ('roommates', 3),\n",
       " ('shops', 3),\n",
       " ('setting', 3),\n",
       " ('flexibility', 3),\n",
       " ('utensils', 3),\n",
       " ('bakeries', 3),\n",
       " ('line', 3),\n",
       " ('facilities', 3),\n",
       " ('rest', 3),\n",
       " ('nightmare', 3),\n",
       " ('annoyance', 3),\n",
       " ('patio', 3),\n",
       " ('comments', 3),\n",
       " ('pros', 3),\n",
       " ('care', 3),\n",
       " ('train', 3),\n",
       " ('road', 3),\n",
       " ('cons', 3),\n",
       " ('advantage', 3),\n",
       " ('arrival', 3),\n",
       " ('service', 3),\n",
       " ('brownstone', 3),\n",
       " ('hotel', 3),\n",
       " ('linens', 3),\n",
       " ('friend', 3),\n",
       " ('uber', 3),\n",
       " ('sites', 3),\n",
       " ('visitor', 3),\n",
       " ('in', 3),\n",
       " ('kind', 3)]"
      ]
     },
     "execution_count": 40,
     "metadata": {},
     "output_type": "execute_result"
    }
   ],
   "source": [
    "merged_features.most_common()"
   ]
  },
  {
   "cell_type": "code",
   "execution_count": 50,
   "metadata": {},
   "outputs": [
    {
     "data": {
      "image/png": "[encoded data removed]",
      "text/plain": [
       "<Figure size 720x432 with 1 Axes>"
      ]
     },
     "metadata": {
      "needs_background": "light"
     },
     "output_type": "display_data"
    }
   ],
   "source": [
    "word_barchart(all_features, n_words=15, n_reviews=len(sampled_data))"
   ]
  },
  {
   "cell_type": "code",
   "execution_count": 49,
   "metadata": {},
   "outputs": [
    {
     "data": {
      "image/png": "[encoded data removed]",
      "text/plain": [
       "<Figure size 720x432 with 1 Axes>"
      ]
     },
     "metadata": {
      "needs_background": "light"
     },
     "output_type": "display_data"
    }
   ],
   "source": [
    "word_barchart(merged_features, n_words=15, n_reviews=len(sampled_data))"
   ]
  },
  {
   "cell_type": "markdown",
   "metadata": {},
   "source": [
    "### K-Means clustering"
   ]
  },
  {
   "cell_type": "code",
   "execution_count": 84,
   "metadata": {},
   "outputs": [
    {
     "name": "stdout",
     "output_type": "stream",
     "text": [
      "(275, 300)\n",
      "(275,)\n",
      "Cluster 0: 63 words\n",
      "Cluster 1: 61 words\n",
      "Cluster 2: 50 words\n",
      "Cluster 3: 30 words\n",
      "Cluster 4: 71 words\n"
     ]
    }
   ],
   "source": [
    "from sklearn import cluster\n",
    "\n",
    "sorted_feature_vecs = np.array([word2vec[word] for word, counts in all_features.most_common()\n",
    "                                if counts > 2 and word in word2vec])\n",
    "print(sorted_feature_vecs.shape)\n",
    "# Normalize\n",
    "norm = (sorted_feature_vecs**2).sum(axis=-1)\n",
    "sorted_feature_vecs = sorted_feature_vecs / np.sqrt(norm)[:, np.newaxis]\n",
    "\n",
    "kmeans = cluster.KMeans(n_clusters=5)\n",
    "feature_vecs_clustered = kmeans.fit_predict(sorted_feature_vecs)\n",
    "print(feature_vecs_clustered.shape)\n",
    "\n",
    "word_clusters = []\n",
    "for nc in range(kmeans.n_clusters):\n",
    "    ids = np.where(feature_vecs_clustered == nc)[0]\n",
    "    word_clusters.append(Counter())\n",
    "    for i in ids:\n",
    "        word, count = all_features.most_common()[i]\n",
    "        word_clusters[-1][word] = count\n",
    "    \n",
    "    print(\"Cluster {}: {} words\".format(nc, len(word_clusters[nc])))"
   ]
  },
  {
   "cell_type": "code",
   "execution_count": 89,
   "metadata": {},
   "outputs": [
    {
     "data": {
      "text/plain": [
       "[('experience', 87),\n",
       " ('communication', 65),\n",
       " ('noise', 47),\n",
       " ('access', 37),\n",
       " ('value', 35),\n",
       " ('view', 22),\n",
       " ('neighbourhood', 21),\n",
       " ('price', 21),\n",
       " ('breakfast', 16),\n",
       " ('trip', 15),\n",
       " ('tips', 15),\n",
       " ('shower', 14),\n",
       " ('person', 13),\n",
       " ('pictures', 13),\n",
       " ('accommodations', 12),\n",
       " ('me', 11),\n",
       " ('mattress', 10),\n",
       " ('air', 10),\n",
       " ('ease', 10),\n",
       " ('information', 10),\n",
       " ('quaint', 8),\n",
       " ('gem', 8),\n",
       " ('husband', 8),\n",
       " ('lady', 8),\n",
       " ('option', 8),\n",
       " ('listing', 8),\n",
       " ('directions', 7),\n",
       " ('comfortable', 7),\n",
       " ('minute', 7),\n",
       " ('shopping', 6),\n",
       " ('stylish', 6),\n",
       " ('deck', 6),\n",
       " ('freedom', 6),\n",
       " ('that', 6),\n",
       " ('response', 6),\n",
       " ('furniture', 6),\n",
       " ('weekend', 6),\n",
       " ('surprise', 6),\n",
       " ('nights', 5),\n",
       " ('vibe', 5),\n",
       " ('guy', 5),\n",
       " ('job', 5),\n",
       " ('smell', 5),\n",
       " ('environment', 5),\n",
       " ('days', 5),\n",
       " ('reviews', 5),\n",
       " ('cleanliness', 5),\n",
       " ('everyone', 4),\n",
       " ('conditioning', 4),\n",
       " ('welcome', 4),\n",
       " ('cats', 4),\n",
       " ('couch', 4),\n",
       " ('complaint', 4),\n",
       " ('recommendation', 4),\n",
       " ('which', 4),\n",
       " ('ride', 4),\n",
       " ('offerings', 3),\n",
       " ('city', 3),\n",
       " ('dogs', 3),\n",
       " ('oasis', 3),\n",
       " ('atmosphere', 3),\n",
       " ('bath', 3),\n",
       " ('warmth', 3),\n",
       " ('daughter', 3),\n",
       " ('rest', 3),\n",
       " ('nightmare', 3),\n",
       " ('transport', 3),\n",
       " ('comments', 3),\n",
       " ('pros', 3),\n",
       " ('care', 3),\n",
       " ('walking', 3)]"
      ]
     },
     "execution_count": 89,
     "metadata": {},
     "output_type": "execute_result"
    }
   ],
   "source": [
    "word_clusters[4].most_common()"
   ]
  },
  {
   "cell_type": "markdown",
   "metadata": {},
   "source": [
    "### PCA visualization"
   ]
  },
  {
   "cell_type": "code",
   "execution_count": 30,
   "metadata": {},
   "outputs": [
    {
     "name": "stdout",
     "output_type": "stream",
     "text": [
      "[0.42254725 0.2766825  0.25591326 0.23309138 0.20947953]\n"
     ]
    }
   ],
   "source": [
    "from sklearn import decomposition\n",
    "pca = decomposition.PCA(n_components=5)\n",
    "sorted_feature_vecs_pca = pca.fit_transform(sorted_feature_vecs)\n",
    "print(pca.explained_variance_)"
   ]
  },
  {
   "cell_type": "code",
   "execution_count": 32,
   "metadata": {},
   "outputs": [
    {
     "data": {
      "image/png": "[encoded data removed]",
      "text/plain": [
       "<Figure size 648x432 with 1 Axes>"
      ]
     },
     "metadata": {
      "needs_background": "light"
     },
     "output_type": "display_data"
    }
   ],
   "source": [
    "plt.figure(figsize=(9, 6))\n",
    "plt.scatter(sorted_feature_vecs_pca[:, 0], sorted_feature_vecs_pca[:, 1])\n",
    "plt.show()"
   ]
  },
  {
   "cell_type": "code",
   "execution_count": null,
   "metadata": {},
   "outputs": [],
   "source": []
  }
 ],
 "metadata": {
  "kernelspec": {
   "display_name": "Python 3",
   "language": "python",
   "name": "python3"
  },
  "language_info": {
   "codemirror_mode": {
    "name": "ipython",
    "version": 3
   },
   "file_extension": ".py",
   "mimetype": "text/x-python",
   "name": "python",
   "nbconvert_exporter": "python",
   "pygments_lexer": "ipython3",
   "version": "3.6.8"
  }
 },
 "nbformat": 4,
 "nbformat_minor": 2
}
