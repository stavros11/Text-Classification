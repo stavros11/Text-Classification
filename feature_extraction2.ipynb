{
 "cells": [
  {
   "cell_type": "code",
   "execution_count": 3,
   "metadata": {},
   "outputs": [],
   "source": [
    "import os\n",
    "import numpy as np\n",
    "import pandas as pd\n",
    "from time import time\n",
    "from utils import custom_preprocessing, dependencies\n",
    "\n",
    "import matplotlib.pyplot as plt\n",
    "import matplotlib\n",
    "import seaborn as sns\n",
    "matplotlib.rcParams['mathtext.fontset'] = 'cm'\n",
    "matplotlib.rcParams['font.family'] = 'STIXGeneral'\n",
    "matplotlib.rcParams[\"font.size\"] = 26\n",
    "\n",
    "data_dir = \"/home/stavros/DATA/AirbnbReviews\"\n",
    "#data_dir = \"D:/\""
   ]
  },
  {
   "cell_type": "code",
   "execution_count": 4,
   "metadata": {},
   "outputs": [
    {
     "name": "stdout",
     "output_type": "stream",
     "text": [
      "(218718, 6)\n",
      "(218580, 6)\n"
     ]
    }
   ],
   "source": [
    "area = \"boston\"\n",
    "area_dir = os.path.join(data_dir, area)\n",
    "\n",
    "data = pd.read_csv(os.path.join(area_dir, \"reviews.csv.gz\"))\n",
    "print(data.shape)\n",
    "\n",
    "clean_data = data[pd.notnull(data.comments)]\n",
    "print(clean_data.shape)"
   ]
  },
  {
   "cell_type": "markdown",
   "metadata": {},
   "source": [
    "Check how preprocessors work on specific examples (for sanity check)"
   ]
  },
  {
   "cell_type": "code",
   "execution_count": 13,
   "metadata": {},
   "outputs": [
    {
     "name": "stdout",
     "output_type": "stream",
     "text": [
      "Thanks to the Carney family for hosting us. The house was really beautiful and the best part was its proximity to downtown Boston. Made our trip all the more memorable!\n",
      "\n",
      "Thanks to the Host family for hosting us. The house was really beautiful and the best part was The house proximity to downtown Boston. Made us trip all the more memorable!\n",
      "\n",
      "{'house', 'part'}\n"
     ]
    }
   ],
   "source": [
    "ind = np.random.randint(0, len(clean_data))\n",
    "\n",
    "text = clean_data.iloc[ind].comments\n",
    "print(text)\n",
    "print()\n",
    "ptext = custom_preprocessing.preprocessing_pipeline(text)\n",
    "print(ptext)\n",
    "print()\n",
    "features = dependencies.find_features(ptext)\n",
    "print(features)"
   ]
  },
  {
   "cell_type": "markdown",
   "metadata": {},
   "source": [
    "Preprocess multiple reviews (either do this or load already preprocessed reviews from a saved pickle)"
   ]
  },
  {
   "cell_type": "code",
   "execution_count": 14,
   "metadata": {},
   "outputs": [
    {
     "name": "stdout",
     "output_type": "stream",
     "text": [
      "501 / 2000 found. - time: 26.520755529403687\n",
      "1001 / 2000 found. - time: 50.33985733985901\n",
      "1501 / 2000 found. - time: 76.03535342216492\n",
      "2001 / 2000 found. - time: 101.41226363182068\n"
     ]
    }
   ],
   "source": [
    "n_samples = 2000\n",
    "n_message = 500\n",
    "\n",
    "ids = np.arange(len(clean_data))\n",
    "np.random.shuffle(ids)\n",
    "\n",
    "sampled_columns = list(clean_data.columns) + [\"processed_comments\", \"word_features\"]\n",
    "sampled_data = pd.DataFrame(index=range(n_samples), columns=sampled_columns)\n",
    "\n",
    "start_time = time()\n",
    "i, ic = 0, 0\n",
    "while ic < n_samples:\n",
    "    data_row = clean_data.iloc[ids[i]]\n",
    "    i += 1\n",
    "    processed_review = custom_preprocessing.preprocessing_pipeline(data_row[\"comments\"])\n",
    "    \n",
    "    if processed_review is not None:\n",
    "        sampled_data.iloc[ic] = data_row\n",
    "        sampled_data.iloc[ic][\"processed_comments\"] = processed_review\n",
    "        sampled_data.iloc[ic][\"word_features\"] = dependencies.find_features(processed_review)\n",
    "        ic += 1\n",
    "\n",
    "    if ic % n_message == 0:\n",
    "        print(\"{} / {} found. - time: {}\".format(ic + 1, n_samples, time() - start_time))\n",
    "        \n",
    "# Save to pickle\n",
    "sampled_data.to_pickle(os.path.join(area_dir, \"reviews_with_word_features_{}samples.pkl\".format(n_samples)))"
   ]
  },
  {
   "cell_type": "code",
   "execution_count": 15,
   "metadata": {},
   "outputs": [
    {
     "data": {
      "text/html": [
       "<div>\n",
       "<style scoped>\n",
       "    .dataframe tbody tr th:only-of-type {\n",
       "        vertical-align: middle;\n",
       "    }\n",
       "\n",
       "    .dataframe tbody tr th {\n",
       "        vertical-align: top;\n",
       "    }\n",
       "\n",
       "    .dataframe thead th {\n",
       "        text-align: right;\n",
       "    }\n",
       "</style>\n",
       "<table border=\"1\" class=\"dataframe\">\n",
       "  <thead>\n",
       "    <tr style=\"text-align: right;\">\n",
       "      <th></th>\n",
       "      <th>listing_id</th>\n",
       "      <th>id</th>\n",
       "      <th>date</th>\n",
       "      <th>reviewer_id</th>\n",
       "      <th>reviewer_name</th>\n",
       "      <th>comments</th>\n",
       "      <th>processed_comments</th>\n",
       "      <th>word_features</th>\n",
       "    </tr>\n",
       "  </thead>\n",
       "  <tbody>\n",
       "    <tr>\n",
       "      <th>0</th>\n",
       "      <td>9549850</td>\n",
       "      <td>213510284</td>\n",
       "      <td>2017-11-21</td>\n",
       "      <td>15023148</td>\n",
       "      <td>Dennis</td>\n",
       "      <td>Gail's basement suite (bedroom, kitchenette/si...</td>\n",
       "      <td>Host basement suite bedroom kitchenette sittin...</td>\n",
       "      <td>{host, food, street, hill, variety}</td>\n",
       "    </tr>\n",
       "    <tr>\n",
       "      <th>1</th>\n",
       "      <td>18193552</td>\n",
       "      <td>520507608</td>\n",
       "      <td>2019-08-30</td>\n",
       "      <td>248627146</td>\n",
       "      <td>Claudia</td>\n",
       "      <td>Great location in the Seaport District. The co...</td>\n",
       "      <td>Great location in the Seaport District. The co...</td>\n",
       "      <td>{concierge, host}</td>\n",
       "    </tr>\n",
       "    <tr>\n",
       "      <th>2</th>\n",
       "      <td>28716462</td>\n",
       "      <td>354870110</td>\n",
       "      <td>2018-12-02</td>\n",
       "      <td>225156103</td>\n",
       "      <td>Casey</td>\n",
       "      <td>Good Location. Work out for us!</td>\n",
       "      <td>Good Location. Work out for Good Location!</td>\n",
       "      <td>{}</td>\n",
       "    </tr>\n",
       "    <tr>\n",
       "      <th>3</th>\n",
       "      <td>15368927</td>\n",
       "      <td>295434183</td>\n",
       "      <td>2018-07-23</td>\n",
       "      <td>133440138</td>\n",
       "      <td>Jaclyn</td>\n",
       "      <td>Great location, very private space to stay in!</td>\n",
       "      <td>Great location very private space to stay in!</td>\n",
       "      <td>{}</td>\n",
       "    </tr>\n",
       "    <tr>\n",
       "      <th>4</th>\n",
       "      <td>19625919</td>\n",
       "      <td>309055885</td>\n",
       "      <td>2018-08-17</td>\n",
       "      <td>11338797</td>\n",
       "      <td>Kath</td>\n",
       "      <td>Esthers place is as nice as it looks she provi...</td>\n",
       "      <td>Esthers place is as nice as Esthers place look...</td>\n",
       "      <td>{esthers place, travellers, extras}</td>\n",
       "    </tr>\n",
       "    <tr>\n",
       "      <th>...</th>\n",
       "      <td>...</td>\n",
       "      <td>...</td>\n",
       "      <td>...</td>\n",
       "      <td>...</td>\n",
       "      <td>...</td>\n",
       "      <td>...</td>\n",
       "      <td>...</td>\n",
       "      <td>...</td>\n",
       "    </tr>\n",
       "    <tr>\n",
       "      <th>1995</th>\n",
       "      <td>17138041</td>\n",
       "      <td>297303366</td>\n",
       "      <td>2018-07-27</td>\n",
       "      <td>90709502</td>\n",
       "      <td>Lori</td>\n",
       "      <td>The apartment was in a great location. It was ...</td>\n",
       "      <td>The apartment was in a great location. The apa...</td>\n",
       "      <td>{beds, apartment, location}</td>\n",
       "    </tr>\n",
       "    <tr>\n",
       "      <th>1996</th>\n",
       "      <td>18342681</td>\n",
       "      <td>260372695</td>\n",
       "      <td>2018-05-04</td>\n",
       "      <td>39637463</td>\n",
       "      <td>Molly</td>\n",
       "      <td>This place is great! Super close to the airpor...</td>\n",
       "      <td>This place is great! Super close to the airpor...</td>\n",
       "      <td>{check, place, touches, work}</td>\n",
       "    </tr>\n",
       "    <tr>\n",
       "      <th>1997</th>\n",
       "      <td>17333246</td>\n",
       "      <td>157768904</td>\n",
       "      <td>2017-06-04</td>\n",
       "      <td>19598336</td>\n",
       "      <td>Danielle</td>\n",
       "      <td>I stayed at this location for a weekend while ...</td>\n",
       "      <td>I stayed at this location for a weekend while ...</td>\n",
       "      <td>{check, host, building, delays, walking}</td>\n",
       "    </tr>\n",
       "    <tr>\n",
       "      <th>1998</th>\n",
       "      <td>3965492</td>\n",
       "      <td>336747410</td>\n",
       "      <td>2018-10-14</td>\n",
       "      <td>184573774</td>\n",
       "      <td>Pierre</td>\n",
       "      <td>Our stay at May’s was rather nice. Don’t expec...</td>\n",
       "      <td>Our stay at May s was rather nice. Don s expec...</td>\n",
       "      <td>{room, points, bit, pipes, t, stay}</td>\n",
       "    </tr>\n",
       "    <tr>\n",
       "      <th>1999</th>\n",
       "      <td>5593939</td>\n",
       "      <td>246579184</td>\n",
       "      <td>2018-03-25</td>\n",
       "      <td>97284889</td>\n",
       "      <td>Conner</td>\n",
       "      <td>Great place and in the perfect location! So cl...</td>\n",
       "      <td>Great place and in the perfect location! So cl...</td>\n",
       "      <td>{location}</td>\n",
       "    </tr>\n",
       "  </tbody>\n",
       "</table>\n",
       "<p>2000 rows × 8 columns</p>\n",
       "</div>"
      ],
      "text/plain": [
       "     listing_id         id        date reviewer_id reviewer_name  \\\n",
       "0       9549850  213510284  2017-11-21    15023148        Dennis   \n",
       "1      18193552  520507608  2019-08-30   248627146       Claudia   \n",
       "2      28716462  354870110  2018-12-02   225156103         Casey   \n",
       "3      15368927  295434183  2018-07-23   133440138        Jaclyn   \n",
       "4      19625919  309055885  2018-08-17    11338797          Kath   \n",
       "...         ...        ...         ...         ...           ...   \n",
       "1995   17138041  297303366  2018-07-27    90709502          Lori   \n",
       "1996   18342681  260372695  2018-05-04    39637463         Molly   \n",
       "1997   17333246  157768904  2017-06-04    19598336      Danielle   \n",
       "1998    3965492  336747410  2018-10-14   184573774        Pierre   \n",
       "1999    5593939  246579184  2018-03-25    97284889        Conner   \n",
       "\n",
       "                                               comments  \\\n",
       "0     Gail's basement suite (bedroom, kitchenette/si...   \n",
       "1     Great location in the Seaport District. The co...   \n",
       "2                       Good Location. Work out for us!   \n",
       "3       Great location, very private space to stay in!    \n",
       "4     Esthers place is as nice as it looks she provi...   \n",
       "...                                                 ...   \n",
       "1995  The apartment was in a great location. It was ...   \n",
       "1996  This place is great! Super close to the airpor...   \n",
       "1997  I stayed at this location for a weekend while ...   \n",
       "1998  Our stay at May’s was rather nice. Don’t expec...   \n",
       "1999  Great place and in the perfect location! So cl...   \n",
       "\n",
       "                                     processed_comments  \\\n",
       "0     Host basement suite bedroom kitchenette sittin...   \n",
       "1     Great location in the Seaport District. The co...   \n",
       "2            Good Location. Work out for Good Location!   \n",
       "3         Great location very private space to stay in!   \n",
       "4     Esthers place is as nice as Esthers place look...   \n",
       "...                                                 ...   \n",
       "1995  The apartment was in a great location. The apa...   \n",
       "1996  This place is great! Super close to the airpor...   \n",
       "1997  I stayed at this location for a weekend while ...   \n",
       "1998  Our stay at May s was rather nice. Don s expec...   \n",
       "1999  Great place and in the perfect location! So cl...   \n",
       "\n",
       "                                 word_features  \n",
       "0          {host, food, street, hill, variety}  \n",
       "1                            {concierge, host}  \n",
       "2                                           {}  \n",
       "3                                           {}  \n",
       "4          {esthers place, travellers, extras}  \n",
       "...                                        ...  \n",
       "1995               {beds, apartment, location}  \n",
       "1996             {check, place, touches, work}  \n",
       "1997  {check, host, building, delays, walking}  \n",
       "1998       {room, points, bit, pipes, t, stay}  \n",
       "1999                                {location}  \n",
       "\n",
       "[2000 rows x 8 columns]"
      ]
     },
     "execution_count": 15,
     "metadata": {},
     "output_type": "execute_result"
    }
   ],
   "source": [
    "sampled_data"
   ]
  },
  {
   "cell_type": "markdown",
   "metadata": {},
   "source": [
    "Check the features we found"
   ]
  },
  {
   "cell_type": "code",
   "execution_count": 25,
   "metadata": {},
   "outputs": [],
   "source": [
    "from collections import Counter\n",
    "\n",
    "all_features = Counter()\n",
    "for features in sampled_data.word_features:\n",
    "    for phrase in features:\n",
    "        for word in phrase.split(\" \"):\n",
    "            all_features[word] += 1"
   ]
  },
  {
   "cell_type": "code",
   "execution_count": 29,
   "metadata": {},
   "outputs": [
    {
     "name": "stdout",
     "output_type": "stream",
     "text": [
      "1071\n",
      "[('host', 538), ('place', 457), ('location', 410), ('apartment', 227), ('stay', 192), ('room', 156), ('neighborhood', 113), ('house', 97), ('experience', 87), ('space', 86), ('bed', 81), ('hosts', 80), ('time', 67), ('communication', 65), ('area', 62), ('everything', 61), ('home', 58), ('restaurants', 56), ('noise', 47), ('problem', 43), ('parking', 41), ('issue', 40), ('bathroom', 38), ('access', 37), ('kitchen', 37), ('value', 35), ('street', 34), ('beds', 34), ('spot', 34), ('check', 30), ('walk', 29), ('amenities', 26), ('it', 25), ('work', 25), ('food', 24), ('studio', 23), ('issues', 22), ('part', 22), ('view', 22), ('places', 22), ('neighbourhood', 21), ('price', 21), ('recommendations', 21), ('breeze', 19), ('trouble', 18), ('people', 17), ('you', 17), ('family', 17), ('breakfast', 16), ('touches', 16), ('bedroom', 16), ('rooms', 16), ('unit', 15), ('top', 15), ('trip', 15), ('tips', 15), ('pleasure', 14), ('shower', 14), ('views', 14), ('building', 14), ('this', 14), ('comfy', 14), ('night', 14), ('person', 13), ('pictures', 13), ('instructions', 13), ('things', 13), ('distance', 13), ('problems', 12), ('coffee', 12), ('accommodations', 12), ('size', 12), ('towels', 11), ('me', 11), ('touch', 11), ('spotless', 11), ('water', 11), ('wifi', 11), ('clean', 11), ('t', 11), ('mattress', 10), ('comfort', 10), ('air', 10), ('ease', 10), ('information', 10), ('communicator', 9), ('decor', 9), ('hospitality', 9), ('property', 8), ('condo', 8), ('thing', 8), ('quaint', 8), ('gem', 8), ('suggestions', 8), ('husband', 8), ('convenience', 8), ('lady', 8), ('option', 8), ('listing', 8), ('experiences', 7), ('one', 7), ('we', 7), ('downside', 7), ('airbnb', 7), ('accommodation', 7), ('day', 7), ('directions', 7), ('comfortable', 7), ('responses', 7), ('master', 7), ('tv', 7), ('dog', 7), ('guests', 7), ('lots', 7), ('love', 7), ('minute', 7), ('restaurant', 7), ('staff', 6), ('stairs', 6), ('shopping', 6), ('sheets', 6), ('hassle', 6), ('fun', 6), ('stylish', 6), ('deck', 6), ('charm', 6), ('freedom', 6), ('that', 6), ('response', 6), ('description', 6), ('base', 6), ('hostess', 6), ('lot', 6), ('furniture', 6), ('way', 6), ('bonus', 6), ('cute', 6), ('weekend', 6), ('visit', 6), ('surprise', 6), ('spacious', 6), ('complaints', 5), ('nothing', 5), ('spots', 5), ('muffins', 5), ('anyone', 5), ('areas', 5), ('owner', 5), ('shape', 5), ('nights', 5), ('luxury', 5), ('vibe', 5), ('pressure', 5), ('delight', 5), ('guy', 5), ('than', 5), ('concerns', 5), ('plenty', 5), ('us', 5), ('job', 5), ('emergency', 5), ('smell', 5), ('snacks', 5), ('environment', 5), ('suite', 5), ('market', 5), ('process', 5), ('light', 5), ('days', 5), ('boyfriend', 5), ('reviews', 5), ('cleanliness', 5), ('advice', 5), ('variety', 4), ('spaces', 4), ('neighbors', 4), ('owners', 4), ('everyone', 4), ('floor', 4), ('choice', 4), ('conditioning', 4), ('weather', 4), ('welcome', 4), ('airy', 4), ('plugs', 4), ('boston', 4), ('bars', 4), ('cats', 4), ('couch', 4), ('bread', 4), ('complaint', 4), ('recommendation', 4), ('others', 4), ('contact', 4), ('connection', 4), ('transportation', 4), ('bedrooms', 4), ('luck', 4), ('sleep', 4), ('lack', 4), ('travel', 4), ('fault', 4), ('cat', 4), ('door', 4), ('couple', 4), ('appartment', 4), ('which', 4), ('wife', 4), ('bit', 4), ('ride', 4), ('layout', 4), ('rental', 4), ('hill', 3), ('offerings', 3), ('city', 3), ('cafe', 3), ('negative', 3), ('photos', 3), ('condition', 3), ('cleaning', 3), ('musty', 3), ('dogs', 3), ('books', 3), ('cloud', 3), ('oasis', 3), ('sonder', 3), ('quality', 3), ('atmosphere', 3), ('pizza', 3), ('expectations', 3), ('homes', 3), ('key', 3), ('ear', 3), ('bath', 3), ('end', 3), ('bar', 3), ('homey', 3), ('respite', 3), ('warmth', 3), ('roommates', 3), ('shops', 3), ('setting', 3), ('minutes', 3), ('flexibility', 3), ('utensils', 3), ('bathrooms', 3), ('bakeries', 3), ('line', 3), ('friends', 3), ('daughter', 3), ('facilities', 3), ('cozy', 3), ('rest', 3), ('nightmare', 3), ('annoyance', 3), ('transport', 3), ('patio', 3), ('odor', 3), ('checkin', 3), ('comments', 3), ('pros', 3), ('care', 3), ('walking', 3), ('train', 3), ('road', 3), ('cons', 3), ('advantage', 3), ('arrival', 3), ('service', 3), ('proximity', 3), ('brownstone', 3), ('hotel', 3), ('linens', 3), ('friend', 3), ('uber', 3), ('neighbor', 3), ('sites', 3), ('hour', 3), ('visitor', 3), ('in', 3), ('kind', 3), ('concierge', 2), ('extras', 2), ('times', 2), ('rain', 2), ('staying', 2), ('self', 2), ('look', 2), ('abundance', 2), ('thought', 2), ('television', 2), ('glass', 2), ('for', 2), ('chill', 2), ('schedule', 2), ('resident', 2), ('interior', 2), ('side', 2), ('close', 2), ('roof', 2), ('decorations', 2), ('enjoyment', 2), ('detail', 2), ('trash', 2), ('lighting', 2), ('fixtures', 2), ('sense', 2), ('soaps', 2), ('transit', 2), ('quieter', 2), ('paintings', 2), ('staircase', 2), ('baby', 2), ('esther', 2), ('pad', 2), ('feature', 2), ('secure', 2), ('i', 2), ('meditation', 2), ('con', 2), ('life', 2), ('deal', 2), ('gift', 2), ('energy', 2), ('mother', 2), ('parks', 2), ('architecture', 2), ('knowledge', 2), ('supermarket', 2), ('setup', 2), ('subway', 2), ('kids', 2), ('anything', 2), ('cookies', 2), ('ac', 2), ('nook', 2), ('window', 2), ('cigarette', 2), ('smoke', 2), ('feel', 2), ('pastries', 2), ('bakery', 2), ('box', 2), ('difficulty', 2), ('supplies', 2), ('ambience', 2), ('stress', 2), ('stains', 2), ('refrigerator', 2), ('bottles', 2), ('kindness', 2), ('cosy', 2), ('what', 2), ('basement', 2), ('taste', 2), ('stores', 2), ('block', 2), ('progress', 2), ('appliances', 2), ('commute', 2), ('smile', 2), ('alley', 2), ('blast', 2), ('locations', 2), ('direction', 2), ('napkins', 2), ('trick', 2), ('dark', 2), ('refund', 2), ('business', 2), ('generosity', 2), ('well', 2), ('dishwasher', 2), ('bedding', 2), ('toilet', 2), ('find', 2), ('washer', 2), ('sofa', 2), ('sunlight', 2), ('doubt', 2), ('she', 2), ('negatives', 2), ('good', 2), ('sink', 2), ('peaceful', 2), ('communications', 2), ('steps', 2), ('elevator', 2), ('fact', 2), ('beverages', 2), ('arboretum', 2), ('prompt', 2), ('yard', 2), ('walls', 2), ('bargain', 2), ('temperature', 2), ('tea', 2), ('answers', 2), ('worry', 2), ('jam', 2), ('fruit', 2), ('machine', 2), ('pipes', 2), ('metro', 2), ('floors', 2), ('options', 2), ('dishes', 2), ('dryer', 2), ('breakfasts', 2), ('easy', 2), ('support', 2), ('point', 2), ('items', 2), ('quiet', 2), ('book', 2), ('luggage', 2), ('system', 2), ('manager', 2), ('stove', 2), ('store', 2), ('fit', 2), ('level', 2), ('drawback', 2), ('parts', 2), ('man', 2), ('community', 2), ('loft', 2), ('considerate', 2), ('get', 2), ('helpful', 2), ('eats', 2), ('exchange', 2), ('alarm', 2), ('fans', 2), ('note', 2), ('evening', 2), ('position', 2), ('internet', 2), ('amount', 2), ('heating', 2), ('etc', 2), ('recommend', 2), ('details', 2), ('aspects', 2), ('pan', 2), ('retriever', 2), ('roomy', 2), ('woman', 2), ('park', 2), ('showers', 2), ('pillows', 2), ('mine', 2), ('esthers', 1), ('travellers', 1), ('painless', 1), ('hosting', 1), ('thoughtfulness', 1), ('blizzard', 1), ('closet', 1), ('alleys', 1), ('pearl', 1), ('houseboat', 1), ('website', 1), ('jumping', 1), ('gratitude', 1), ('puppy', 1), ('alot', 1), ('crash', 1), ('communicate', 1), ('upscale', 1), ('neighboorhood', 1), ('chocolate', 1), ('feat', 1), ('immaculate', 1), ('meeting', 1), ('airport', 1), ('post', 1), ('townhouse', 1), ('manual', 1), ('fees', 1), ('positives', 1), ('background', 1), ('faucet', 1), ('dust', 1), ('savings', 1), ('descriptions', 1), ('caitlins', 1), ('ability', 1), ('fridge', 1), ('microwave', 1), ('ladies', 1), ('chad', 1), ('taverns', 1), ('pics', 1), ('spa', 1), ('skinny', 1), ('locale', 1), ('mi', 1), ('traffic', 1), ('heaters', 1), ('tenants', 1), ('flight', 1), ('dirt', 1), ('women', 1), ('son', 1), ('intersection', 1), ('humid', 1), ('versions', 1), ('types', 1), ('sandwiches', 1), ('challenge', 1), ('hipster', 1), ('c', 1), ('a', 1), ('lumpy', 1), ('mistake', 1), ('dive', 1), ('5.5', 1), ('right', 1), ('walks', 1), ('praise', 1), ('paper', 1), ('peace', 1), ('meditator', 1), ('instruction', 1), ('they', 1), ('saver', 1), ('impression', 1), ('surprises', 1), ('other', 1), ('diligence', 1), ('speed', 1), ('messages', 1), ('apartm', 1), ('i.', 1), ('lovers', 1), ('array', 1), ('bay', 1), ('souvenir', 1), ('experiene', 1), ('fool', 1), ('clothes', 1), ('surfaces', 1), ('more', 1), ('pillow', 1), ('ana', 1), ('taxi', 1), ('enthusiasm', 1), ('definition', 1), ('pieces', 1), ('toilets', 1), ('equipment', 1), ('thanks', 1), ('supervisor', 1), ('set', 1), ('tank', 1), ('lunch', 1), ('break', 1), ('going', 1), ('showerhead', 1), ('diversity', 1), ('stain', 1), ('finishes', 1), ('feeling', 1), ('hole', 1), ('term', 1), ('daylight', 1), ('call', 1), ('flavors', 1), ('lay', 1), ('journey', 1), ('rice', 1), ('balls', 1), ('tap', 1), ('lanterns', 1), ('breweries', 1), ('euphemism', 1), ('mail', 1), ('janes', 1), ('misrepresentation', 1), ('affordable', 1), ('shuttles', 1), ('inlaws', 1), ('decoration', 1), ('on', 1), ('boy', 1), ('rating', 1), ('neigbourhood', 1), ('systems', 1), ('efficiency', 1), ('updated', 1), ('acommodating', 1), ('wonder', 1), ('reports', 1), ('facade', 1), ('unhappiness', 1), ('century', 1), ('fatigue', 1), ('uncertainty', 1), ('waste', 1), ('again', 1), ('granola', 1), ('attentive', 1), ('drinks', 1), ('accessable', 1), ('rec', 1), ('landmarks', 1), ('circumstances', 1), ('alex', 1), ('goods', 1), ('tooth', 1), ('complex', 1), ('breathe', 1), ('restful', 1), ('presentation', 1), ('quibble', 1), ('living', 1), ('toast', 1), ('cheese', 1), ('greeting', 1), ('relief', 1), ('keys', 1), ('artwork', 1), ('puppies', 1), ('mattye', 1), ('victorian', 1), ('future', 1), ('with.thanks', 1), ('central', 1), ('desert', 1), ('intriguing', 1), ('humility', 1), ('landlord', 1), ('tacos', 1), ('entertainment', 1), ('design', 1), ('mats', 1), ('locates', 1), ('idea', 1), ('them', 1), ('manipulation', 1), ('drink', 1), ('promptness', 1), ('parents', 1), ('creak', 1), ('repairs', 1), ('garbage', 1), ('tub', 1), ('mirror', 1), ('heater', 1), ('remote', 1), ('improvement', 1), ('bathrobes', 1), ('conversations', 1), ('ceiling', 1), ('eve', 1), ('benefit', 1), ('highway', 1), ('music', 1), ('getaway', 1), ('travels', 1), ('karolina', 1), ('pickup', 1), ('center', 1), ('aunt', 1), ('bouncy', 1), ('residents', 1), ('fear', 1), ('folks', 1), ('communicative', 1), ('substance', 1), ('frame', 1), ('court', 1), ('breakdown', 1), ('arrangements', 1), ('arts', 1), ('guys', 1), ('passes', 1), ('suicide', 1), ('myself', 1), ('slack', 1), ('guest', 1), ('gardens', 1), ('dinner', 1), ('starbucks', 1), ('outfront', 1), ('organization', 1), ('neighboors', 1), ('warning', 1), ('allergies', 1), ('limit', 1), ('playground', 1), ('dope', 1), ('maker', 1), ('club', 1), ('utilities', 1), ('culture', 1), ('honeymoon', 1), ('soda', 1), ('nice', 1), ('bottle', 1), ('dirty', 1), ('frames', 1), ('being', 1), ('cooking', 1), ('place.closte', 1), ('security', 1), ('manner', 1), ('fix', 1), ('thinking', 1), ('100', 1), ('curtain', 1), ('bessie', 1), ('infront', 1), ('neighbour', 1), ('route', 1), ('stuff', 1), ('neiborhood', 1), ('bother', 1), ('essentials', 1), ('hotels', 1), ('maverick', 1), ('ying', 1), ('wasn', 1), ('getting', 1), ('lockbox', 1), ('disadvantages', 1), ('mishap', 1), ('deli', 1), ('thoughtful', 1), ('introduction', 1), ('near', 1), ('traction', 1), ('radiator', 1), ('blocks', 1), ('panels', 1), ('baths', 1), ('member', 1), ('dude', 1), ('drive', 1), ('aera', 1), ('pass', 1), ('character', 1), ('rent', 1), ('seating', 1), ('groceries', 1), ('penthouse', 1), ('laundry', 1), ('roommate', 1), ('hooks', 1), ('apparent', 1), ('refreshing', 1), ('stories', 1), ('courtyard', 1), ('notes', 1), ('miya', 1), ('conditions', 1), ('flights', 1), ('those', 1), ('gripe', 1), ('safe', 1), ('kitty', 1), ('banana', 1), ('pity', 1), ('with', 1), ('ones', 1), ('message', 1), ('week', 1), ('apt', 1), ('localization', 1), ('guidance', 1), ('lobby', 1), ('lifesaver', 1), ('much', 1), ('mobility', 1), ('fire', 1), ('station', 1), ('dreamland', 1), ('regret', 1), ('shots', 1), ('galore', 1), ('attraction', 1), ('ways', 1), ('perfection', 1), ('personality', 1), ('sleepers', 1), ('solution', 1), ('justification', 1), ('consequence', 1), ('modern', 1), ('insulation', 1), ('opposite', 1), ('someone', 1), ('entry', 1), ('restaraunts', 1), ('something', 1), ('fumes', 1), ('requests', 1), ('responsiveness', 1), ('car', 1), ('carafe', 1), ('super', 1), ('headache', 1), ('blinds', 1), ('teenagers', 1), ('hall', 1), ('accommodating', 1), ('frills', 1), ('cess', 1), ('charming', 1), ('update', 1), ('north', 1), ('church', 1), ('whiskey', 1), ('sweets', 1), ('entrance', 1), ('sleeps', 1), ('notch', 1), ('treats', 1), ('prize', 1), ('addition', 1), ('mins', 1), ('corey', 1), ('teen', 1), ('cost', 1), ('dawn', 1), ('nature', 1), ('equipped', 1), ('cobblestone', 1), ('streets', 1), ('townhouses', 1), ('reflection', 1), ('intrusion', 1), ('settings', 1), ('brick', 1), ('wall', 1), ('privacy', 1), ('kit', 1), ('lounge', 1), ('concern', 1), ('inviting', 1), ('use', 1), ('henry', 1), ('respond', 1), ('stops', 1), ('heritage', 1), ('squirrels', 1), ('district', 1), ('izzy', 1), ('meals', 1), ('chorm', 1), ('flops', 1), ('booking', 1), ('angel', 1), ('pounds', 1), ('fruits', 1), ('thermostat', 1), ('reward', 1), ('company', 1), ('bags', 1), ('go', 1), ('tj', 1), ('material', 1), ('andrew', 1), ('faint', 1), ('faith', 1), ('s', 1), ('language', 1), ('needs', 1), ('artist', 1), ('proof', 1), ('inconvenient', 1), ('noises', 1), ('hector', 1), ('boat', 1), ('juice', 1), ('nautical', 1), ('ton', 1), ('furnishings', 1), ('cup', 1), ('burgers', 1), ('rates', 1), ('amenity', 1), ('sox', 1), ('hectors', 1), ('temperatures', 1), ('playroom', 1), ('ziyad', 1), ('organized', 1), ('drop', 1), ('saggy', 1), ('del', 1), ('venues', 1), ('b', 1), ('luz', 1), ('vocublary', 1), ('suggestion', 1), ('worth', 1), ('meditators', 1), ('buttery', 1), ('trips', 1), ('need', 1), ('gavin', 1), ('fields', 1), ('ambient', 1), ('assurances', 1), ('ingredients', 1), ('flowers', 1), ('temparature', 1), ('vents', 1), ('chats', 1), ('joy', 1), ('slant', 1), ('gps', 1), ('glitches', 1), ('inside', 1), ('duty', 1), ('attractions', 1), ('cleanness', 1), ('sidee', 1), ('gold', 1), ('shuttle', 1), ('crockery', 1), ('cutlery', 1), ('blends', 1), ('beers', 1), ('posters', 1), ('collection', 1), ('sunset', 1), ('terrace', 1), ('bright', 1), ('couches', 1), ('fashion', 1), ('appartement', 1), ('group', 1), ('team', 1), ('knife', 1), ('dining', 1), ('temper', 1), ('means', 1), ('ugh', 1), ('beware', 1), ('bunch', 1), ('deficiencies', 1), ('host!!!she', 1), ('approach', 1), ('localisation', 1), ('sidewalk', 1), ('death', 1), ('storage', 1), ('glitch', 1), ('millennials', 1), ('session', 1), ('slice', 1), ('towel', 1), ('flat', 1), ('gesture', 1), ('shadow', 1), ('conversation', 1), ('brenna', 1), ('scene', 1), ('keylla', 1), ('sharing', 1), ('feedback', 1), ('maintenance', 1), ('compassionate', 1), ('laundrymat', 1), ('selections', 1), ('afer', 1), ('monster', 1), ('lock', 1), ('climb', 1), ('case', 1), ('pleasant', 1), ('oil', 1), ('party', 1), ('chance', 1), ('rooftop', 1), ('anthony', 1), ('tile', 1), ('memory', 1), ('hilary', 1), ('am', 1), ('disappoint', 1), ('arrangement', 1), ('he', 1), ('gregory', 1), ('sleeper', 1), ('corner', 1), ('ferry', 1), ('diner', 1), ('reason', 1), ('pride', 1), ('bnb', 1), ('mattresses', 1), ('depression', 1), ('units', 1), ('struggle', 1), ('seamless', 1), ('all', 1), ('mornings', 1), ('bugs', 1), ('ideal', 1), ('mugs', 1), ('porch', 1), ('panda', 1), ('code', 1), ('activity', 1), ('slum', 1), ('prices', 1), ('help', 1), ('wish', 1), ('conditioner', 1), ('confusion', 1), ('curses', 1), ('fall', 1), ('situation', 1), ('commuter', 1), ('rail', 1), ('pubs', 1), ('history', 1), ('italian', 1), ('start', 1), ('natalia', 1), ('teacups', 1), ('homage', 1), ('delightful', 1), ('meal', 1), ('plan', 1), ('min', 1), ('vanessa', 1), ('story', 1), ('performance', 1), ('sunny', 1), ('middle', 1), ('ceilings', 1), ('reply', 1), ('stroll', 1), ('moment', 1), ('desk', 1), ('earplugs', 1), ('noisy', 1), ('gathering', 1), ('ness', 1), ('izzie', 1), ('cousin', 1), ('facility', 1), ('cafes', 1), ('couldn', 1), ('storm', 1), ('mat', 1), ('piter', 1), ('communicators', 1), ('logistics', 1), ('questions', 1), ('mavericks', 1), ('alternative', 1), ('apartments', 1), ('paige', 1), ('accomodation', 1), ('downsides', 1), ('co', 1), ('skills', 1), ('string', 1), ('airbnbs', 1), ('ameneties', 1), ('aren', 1), ('ky', 1), ('traveler', 1), ('delays', 1), ('points', 1)]\n"
     ]
    }
   ],
   "source": [
    "print(len(all_features))\n",
    "print(all_features.most_common())"
   ]
  },
  {
   "cell_type": "markdown",
   "metadata": {},
   "source": [
    "### Cluster/Visualize the features using word2vec"
   ]
  },
  {
   "cell_type": "markdown",
   "metadata": {},
   "source": [
    "Check cosine distance values"
   ]
  },
  {
   "cell_type": "code",
   "execution_count": 21,
   "metadata": {},
   "outputs": [
    {
     "data": {
      "text/plain": [
       "<gensim.models.keyedvectors.Word2VecKeyedVectors at 0x7f6533b9ea58>"
      ]
     },
     "execution_count": 21,
     "metadata": {},
     "output_type": "execute_result"
    }
   ],
   "source": [
    "import gensim\n",
    "google_vec_file = os.path.join(data_dir, \"GoogleNews-vectors-negative300.bin.gz\")\n",
    "word2vec = gensim.models.KeyedVectors.load_word2vec_format(google_vec_file, binary=True, limit=200000)\n",
    "word2vec"
   ]
  },
  {
   "cell_type": "code",
   "execution_count": 53,
   "metadata": {},
   "outputs": [
    {
     "name": "stdout",
     "output_type": "stream",
     "text": [
      "275\n"
     ]
    }
   ],
   "source": [
    "words = [word for word, counts in all_features.most_common() if counts > 2 and word in word2vec]\n",
    "print(len(words))\n",
    "\n",
    "distance_matrix = np.eye(len(words))\n",
    "for i, word in enumerate(words):\n",
    "    for j, word2 in enumerate(words[i:]):\n",
    "        distance_matrix[i, i + j] = word2vec.distance(word, word2)"
   ]
  },
  {
   "cell_type": "code",
   "execution_count": 69,
   "metadata": {},
   "outputs": [
    {
     "name": "stdout",
     "output_type": "stream",
     "text": [
      "0.8918886431472036\n",
      "0.09334183694836762\n",
      "1.1293818950653076\n",
      "0.08670997619628906\n"
     ]
    },
    {
     "data": {
      "image/png": "[encoded data removed]",
      "text/plain": [
       "<Figure size 432x288 with 1 Axes>"
      ]
     },
     "metadata": {
      "needs_background": "light"
     },
     "output_type": "display_data"
    }
   ],
   "source": [
    "ids = np.triu_indices(len(words), k=1)\n",
    "print(distance_matrix[ids].mean())\n",
    "print(distance_matrix[ids].std())\n",
    "print(distance_matrix[ids].max())\n",
    "print(distance_matrix[ids].min())\n",
    "plt.hist(distance_matrix[ids], bins=50)\n",
    "plt.show()"
   ]
  },
  {
   "cell_type": "code",
   "execution_count": 79,
   "metadata": {
    "scrolled": true
   },
   "outputs": [
    {
     "name": "stdout",
     "output_type": "stream",
     "text": [
      "host hosts\n",
      "place spot\n",
      "place places\n",
      "location proximity\n",
      "apartment house\n",
      "apartment bedroom\n",
      "apartment condo\n",
      "apartment brownstone\n",
      "apartment hotel\n",
      "room bathroom\n",
      "room kitchen\n",
      "room bedroom\n",
      "room rooms\n",
      "neighborhood area\n",
      "neighborhood street\n",
      "neighborhood neighbors\n",
      "neighborhood city\n",
      "house home\n",
      "house bedroom\n",
      "house homes\n",
      "experience experiences\n",
      "space spaces\n",
      "bed bathroom\n",
      "bed beds\n",
      "bed bedroom\n",
      "bed mattress\n",
      "bed couch\n",
      "bed sleep\n",
      "time day\n",
      "area areas\n",
      "everything things\n",
      "everything thing\n",
      "everything nothing\n",
      "everything everyone\n",
      "home homes\n",
      "restaurants restaurant\n",
      "restaurants bars\n",
      "restaurants shops\n",
      "restaurants bakeries\n",
      "problem issue\n",
      "problem issues\n",
      "problem trouble\n",
      "problem problems\n",
      "issue issues\n",
      "bathroom kitchen\n",
      "bathroom bedroom\n",
      "bathroom shower\n",
      "bathroom stairs\n",
      "bathroom bedrooms\n",
      "bathroom bath\n",
      "bathroom bathrooms\n",
      "kitchen bedroom\n",
      "kitchen restaurant\n",
      "kitchen bathrooms\n",
      "kitchen patio\n",
      "beds rooms\n",
      "spot spots\n",
      "walk walking\n",
      "amenities accommodations\n",
      "amenities spacious\n",
      "amenities bathrooms\n",
      "amenities facilities\n",
      "it this\n",
      "it me\n",
      "it that\n",
      "work job\n",
      "food snacks\n",
      "issues problems\n",
      "issues concerns\n",
      "view views\n",
      "places spots\n",
      "places areas\n",
      "price market\n",
      "recommendations suggestions\n",
      "recommendations recommendation\n",
      "trouble problems\n",
      "people person\n",
      "people others\n",
      "you me\n",
      "you we\n",
      "you us\n",
      "family husband\n",
      "family wife\n",
      "family friends\n",
      "family daughter\n",
      "touches touch\n",
      "bedroom condo\n",
      "bedroom bedrooms\n",
      "bedroom bath\n",
      "rooms spaces\n",
      "rooms bedrooms\n",
      "rooms bathrooms\n",
      "trip visit\n",
      "trip travel\n",
      "tips advice\n",
      "pleasure delight\n",
      "shower bath\n",
      "shower bathrooms\n",
      "this we\n",
      "this that\n",
      "comfy comfortable\n",
      "comfy stylish\n",
      "comfy spacious\n",
      "comfy homey\n",
      "comfy cozy\n",
      "night day\n",
      "night weekend\n",
      "night nights\n",
      "person anyone\n",
      "pictures photos\n",
      "things thing\n",
      "problems concerns\n",
      "accommodations accommodation\n",
      "towels linens\n",
      "me guy\n",
      "me us\n",
      "me everyone\n",
      "clean cleaning\n",
      "mattress furniture\n",
      "mattress couch\n",
      "comfort warmth\n",
      "decor furniture\n",
      "decor homey\n",
      "decor linens\n",
      "thing way\n",
      "thing guy\n",
      "thing kind\n",
      "quaint homey\n",
      "husband boyfriend\n",
      "husband wife\n",
      "husband daughter\n",
      "husband friend\n",
      "option choice\n",
      "we us\n",
      "day weekend\n",
      "day days\n",
      "day hour\n",
      "responses response\n",
      "dog cats\n",
      "dog cat\n",
      "dog dogs\n",
      "lots lot\n",
      "lots plenty\n",
      "minute minutes\n",
      "minute hour\n",
      "restaurant cafe\n",
      "restaurant pizza\n",
      "restaurant bar\n",
      "restaurant hotel\n",
      "stylish spacious\n",
      "that which\n",
      "lot plenty\n",
      "lot bit\n",
      "furniture linens\n",
      "spacious airy\n",
      "spacious homey\n",
      "complaints concerns\n",
      "complaints complaint\n",
      "muffins snacks\n",
      "anyone everyone\n",
      "owner owners\n",
      "vibe atmosphere\n",
      "vibe homey\n",
      "smell odor\n",
      "environment atmosphere\n",
      "days minutes\n",
      "boyfriend wife\n",
      "boyfriend roommates\n",
      "boyfriend daughter\n",
      "boyfriend friend\n",
      "neighbors friends\n",
      "neighbors neighbor\n",
      "airy homey\n",
      "bars bar\n",
      "cats cat\n",
      "cats dogs\n",
      "transportation transport\n",
      "bedrooms bath\n",
      "bedrooms bathrooms\n",
      "cat dogs\n",
      "wife daughter\n",
      "wife friend\n",
      "bit kind\n",
      "homey cozy\n",
      "roommates friends\n",
      "shops bakeries\n",
      "minutes hour\n",
      "friends friend\n",
      "daughter friend\n",
      "friend neighbor\n"
     ]
    }
   ],
   "source": [
    "for i in np.where(distance_matrix[ids] < 0.5)[0]:\n",
    "    i1, i2 = ids[0][i], ids[1][i]\n",
    "    print(words[i1], words[i2])"
   ]
  },
  {
   "cell_type": "code",
   "execution_count": 84,
   "metadata": {},
   "outputs": [
    {
     "name": "stdout",
     "output_type": "stream",
     "text": [
      "(275, 300)\n",
      "(275,)\n",
      "Cluster 0: 63 words\n",
      "Cluster 1: 61 words\n",
      "Cluster 2: 50 words\n",
      "Cluster 3: 30 words\n",
      "Cluster 4: 71 words\n"
     ]
    }
   ],
   "source": [
    "from sklearn import cluster\n",
    "\n",
    "sorted_feature_vecs = np.array([word2vec[word] for word, counts in all_features.most_common()\n",
    "                                if counts > 2 and word in word2vec])\n",
    "print(sorted_feature_vecs.shape)\n",
    "# Normalize\n",
    "norm = (sorted_feature_vecs**2).sum(axis=-1)\n",
    "sorted_feature_vecs = sorted_feature_vecs / np.sqrt(norm)[:, np.newaxis]\n",
    "\n",
    "kmeans = cluster.KMeans(n_clusters=5)\n",
    "feature_vecs_clustered = kmeans.fit_predict(sorted_feature_vecs)\n",
    "print(feature_vecs_clustered.shape)\n",
    "\n",
    "word_clusters = []\n",
    "for nc in range(kmeans.n_clusters):\n",
    "    ids = np.where(feature_vecs_clustered == nc)[0]\n",
    "    word_clusters.append(Counter())\n",
    "    for i in ids:\n",
    "        word, count = all_features.most_common()[i]\n",
    "        word_clusters[-1][word] = count\n",
    "    \n",
    "    print(\"Cluster {}: {} words\".format(nc, len(word_clusters[nc])))"
   ]
  },
  {
   "cell_type": "code",
   "execution_count": 89,
   "metadata": {},
   "outputs": [
    {
     "data": {
      "text/plain": [
       "[('experience', 87),\n",
       " ('communication', 65),\n",
       " ('noise', 47),\n",
       " ('access', 37),\n",
       " ('value', 35),\n",
       " ('view', 22),\n",
       " ('neighbourhood', 21),\n",
       " ('price', 21),\n",
       " ('breakfast', 16),\n",
       " ('trip', 15),\n",
       " ('tips', 15),\n",
       " ('shower', 14),\n",
       " ('person', 13),\n",
       " ('pictures', 13),\n",
       " ('accommodations', 12),\n",
       " ('me', 11),\n",
       " ('mattress', 10),\n",
       " ('air', 10),\n",
       " ('ease', 10),\n",
       " ('information', 10),\n",
       " ('quaint', 8),\n",
       " ('gem', 8),\n",
       " ('husband', 8),\n",
       " ('lady', 8),\n",
       " ('option', 8),\n",
       " ('listing', 8),\n",
       " ('directions', 7),\n",
       " ('comfortable', 7),\n",
       " ('minute', 7),\n",
       " ('shopping', 6),\n",
       " ('stylish', 6),\n",
       " ('deck', 6),\n",
       " ('freedom', 6),\n",
       " ('that', 6),\n",
       " ('response', 6),\n",
       " ('furniture', 6),\n",
       " ('weekend', 6),\n",
       " ('surprise', 6),\n",
       " ('nights', 5),\n",
       " ('vibe', 5),\n",
       " ('guy', 5),\n",
       " ('job', 5),\n",
       " ('smell', 5),\n",
       " ('environment', 5),\n",
       " ('days', 5),\n",
       " ('reviews', 5),\n",
       " ('cleanliness', 5),\n",
       " ('everyone', 4),\n",
       " ('conditioning', 4),\n",
       " ('welcome', 4),\n",
       " ('cats', 4),\n",
       " ('couch', 4),\n",
       " ('complaint', 4),\n",
       " ('recommendation', 4),\n",
       " ('which', 4),\n",
       " ('ride', 4),\n",
       " ('offerings', 3),\n",
       " ('city', 3),\n",
       " ('dogs', 3),\n",
       " ('oasis', 3),\n",
       " ('atmosphere', 3),\n",
       " ('bath', 3),\n",
       " ('warmth', 3),\n",
       " ('daughter', 3),\n",
       " ('rest', 3),\n",
       " ('nightmare', 3),\n",
       " ('transport', 3),\n",
       " ('comments', 3),\n",
       " ('pros', 3),\n",
       " ('care', 3),\n",
       " ('walking', 3)]"
      ]
     },
     "execution_count": 89,
     "metadata": {},
     "output_type": "execute_result"
    }
   ],
   "source": [
    "word_clusters[4].most_common()"
   ]
  },
  {
   "cell_type": "markdown",
   "metadata": {},
   "source": [
    "PCA visualization"
   ]
  },
  {
   "cell_type": "code",
   "execution_count": 30,
   "metadata": {},
   "outputs": [
    {
     "name": "stdout",
     "output_type": "stream",
     "text": [
      "[0.42254725 0.2766825  0.25591326 0.23309138 0.20947953]\n"
     ]
    }
   ],
   "source": [
    "from sklearn import decomposition\n",
    "pca = decomposition.PCA(n_components=5)\n",
    "sorted_feature_vecs_pca = pca.fit_transform(sorted_feature_vecs)\n",
    "print(pca.explained_variance_)"
   ]
  },
  {
   "cell_type": "code",
   "execution_count": 32,
   "metadata": {},
   "outputs": [
    {
     "data": {
      "image/png": "[encoded data removed]",
      "text/plain": [
       "<Figure size 648x432 with 1 Axes>"
      ]
     },
     "metadata": {
      "needs_background": "light"
     },
     "output_type": "display_data"
    }
   ],
   "source": [
    "plt.figure(figsize=(9, 6))\n",
    "plt.scatter(sorted_feature_vecs_pca[:, 0], sorted_feature_vecs_pca[:, 1])\n",
    "plt.show()"
   ]
  },
  {
   "cell_type": "code",
   "execution_count": null,
   "metadata": {},
   "outputs": [],
   "source": []
  }
 ],
 "metadata": {
  "kernelspec": {
   "display_name": "Python 3",
   "language": "python",
   "name": "python3"
  },
  "language_info": {
   "codemirror_mode": {
    "name": "ipython",
    "version": 3
   },
   "file_extension": ".py",
   "mimetype": "text/x-python",
   "name": "python",
   "nbconvert_exporter": "python",
   "pygments_lexer": "ipython3",
   "version": "3.6.8"
  }
 },
 "nbformat": 4,
 "nbformat_minor": 2
}
