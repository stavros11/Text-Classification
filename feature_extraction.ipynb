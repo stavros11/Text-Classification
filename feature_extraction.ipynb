{
 "cells": [
  {
   "cell_type": "code",
   "execution_count": 13,
   "metadata": {},
   "outputs": [],
   "source": [
    "import os\n",
    "import numpy as np\n",
    "import pandas as pd\n",
    "from time import time\n",
    "\n",
    "import matplotlib.pyplot as plt\n",
    "import matplotlib\n",
    "import seaborn as sns\n",
    "matplotlib.rcParams['mathtext.fontset'] = 'cm'\n",
    "matplotlib.rcParams['font.family'] = 'STIXGeneral'\n",
    "matplotlib.rcParams[\"font.size\"] = 26\n",
    "\n",
    "data_dir = \"/home/stavros/DATA/AirbnbReviews\"\n",
    "#data_dir = \"D:/\""
   ]
  },
  {
   "cell_type": "code",
   "execution_count": 14,
   "metadata": {},
   "outputs": [
    {
     "name": "stdout",
     "output_type": "stream",
     "text": [
      "(1166689, 6)\n",
      "(1166096, 6)\n"
     ]
    }
   ],
   "source": [
    "area = \"nyc\"\n",
    "area_dir = os.path.join(data_dir, area)\n",
    "\n",
    "data = pd.read_csv(os.path.join(area_dir, \"reviews.csv.gz\"))\n",
    "print(data.shape)\n",
    "\n",
    "clean_data = data[pd.notnull(data.comments)]\n",
    "print(clean_data.shape)"
   ]
  },
  {
   "cell_type": "code",
   "execution_count": 15,
   "metadata": {
    "scrolled": true
   },
   "outputs": [
    {
     "name": "stdout",
     "output_type": "stream",
     "text": [
      "501 / 2000 found.\n",
      "1001 / 2000 found.\n",
      "1501 / 2000 found.\n",
      "2001 / 2000 found.\n"
     ]
    }
   ],
   "source": [
    "import langdetect\n",
    "from utils import dependencies\n",
    "from utils import preprocessing\n",
    "\n",
    "\n",
    "normalizer = preprocessing.CorpusNormalizer(\n",
    "                 html_stripping=False, contraction_expansion=True,\n",
    "                 accented_char_removal=True, text_lower_case=True,\n",
    "                 text_lemmatization=False, special_char_removal=False,\n",
    "                 stopword_removal=False, remove_digits=False)\n",
    "\n",
    "n_samples = 2000\n",
    "n_message = 500\n",
    "\n",
    "ids = np.arange(len(clean_data))\n",
    "np.random.shuffle(ids)\n",
    "\n",
    "sampled_columns = list(clean_data.columns) + [\"processed_comments\", \"word_features\"]\n",
    "sampled_data = pd.DataFrame(index=range(n_samples), columns=sampled_columns)\n",
    "i, ic = 0, 0\n",
    "while ic < n_samples:\n",
    "    data_row = clean_data.iloc[ids[i]]\n",
    "    review = data_row[\"comments\"]\n",
    "    i += 1\n",
    "    if (not isinstance(review, str)) or len(review) < 5:\n",
    "        # Skip invalid reviews\n",
    "        continue\n",
    "    if \"canceled\" in review:\n",
    "        # If it is an automated cancellation review then skip\n",
    "        continue\n",
    "    try:\n",
    "        review_lang = langdetect.detect(review)\n",
    "    except:\n",
    "        continue\n",
    "    if review_lang != \"en\":\n",
    "        continue\n",
    "        \n",
    "    processed_review = normalizer([review])[0]\n",
    "    sampled_data.iloc[ic] = data_row\n",
    "    sampled_data.iloc[ic][\"processed_comments\"] = processed_review\n",
    "    sampled_data.iloc[ic][\"word_features\"] = dependencies.find_features(processed_review)\n",
    "    ic += 1\n",
    "        \n",
    "    if ic % n_message == 0:\n",
    "        print(\"{} / {} found.\".format(ic + 1, n_samples))"
   ]
  },
  {
   "cell_type": "code",
   "execution_count": 19,
   "metadata": {},
   "outputs": [
    {
     "name": "stdout",
     "output_type": "stream",
     "text": [
      "Index(['listing_id', 'id', 'date', 'reviewer_id', 'reviewer_name', 'comments'], dtype='object')\n",
      "(2000, 8)\n",
      "Index(['listing_id', 'id', 'date', 'reviewer_id', 'reviewer_name', 'comments',\n",
      "       'processed_comments', 'word_features'],\n",
      "      dtype='object')\n"
     ]
    }
   ],
   "source": [
    "sampled_data.to_csv(os.path.join(area_dir, \"reviews_with_word_features_{}samples.csv\".format(n_samples)), \n",
    "                    index=False)\n",
    "\n",
    "print(clean_data.columns)\n",
    "print(sampled_data.shape)\n",
    "print(sampled_data.columns)"
   ]
  },
  {
   "cell_type": "code",
   "execution_count": 20,
   "metadata": {},
   "outputs": [
    {
     "name": "stdout",
     "output_type": "stream",
     "text": [
      "1285\n"
     ]
    }
   ],
   "source": [
    "import collections\n",
    "\n",
    "total_counter = collections.Counter()\n",
    "for counter in sampled_data.word_features:\n",
    "    total_counter += counter\n",
    "print(len(total_counter))"
   ]
  },
  {
   "cell_type": "code",
   "execution_count": 21,
   "metadata": {
    "scrolled": false
   },
   "outputs": [
    {
     "data": {
      "text/plain": [
       "[('place', 646),\n",
       " ('location', 526),\n",
       " ('host', 438),\n",
       " ('apartment', 362),\n",
       " ('stay', 293),\n",
       " ('room', 163),\n",
       " ('neighborhood', 147),\n",
       " ('you', 125),\n",
       " ('space', 117),\n",
       " ('bed', 106),\n",
       " ('hosts', 104),\n",
       " ('experience', 103),\n",
       " ('time', 94),\n",
       " ('it', 70),\n",
       " ('area', 69),\n",
       " ('communication', 63),\n",
       " ('value', 60),\n",
       " ('restaurants', 55),\n",
       " ('house', 50),\n",
       " ('access', 40),\n",
       " ('home', 39),\n",
       " ('neighbourhood', 38),\n",
       " ('problem', 38),\n",
       " ('spot', 37),\n",
       " ('bathroom', 36),\n",
       " ('people', 36),\n",
       " ('beds', 33),\n",
       " ('issue', 32),\n",
       " ('food', 29),\n",
       " ('check', 29)]"
      ]
     },
     "execution_count": 21,
     "metadata": {},
     "output_type": "execute_result"
    }
   ],
   "source": [
    "total_counter.most_common(30)"
   ]
  },
  {
   "cell_type": "markdown",
   "metadata": {},
   "source": [
    "This leads to memory error"
   ]
  },
  {
   "cell_type": "code",
   "execution_count": 12,
   "metadata": {},
   "outputs": [],
   "source": [
    "import gensim\n",
    "google_vec_file = os.path.join(data_dir, \"GoogleNews-vectors-negative300.bin.gz\")\n",
    "word2vec = gensim.models.KeyedVectors.load_word2vec_format(google_vec_file, binary=True, limit=200000)\n",
    "\n",
    "import pickle\n",
    "pickle.dump(word2vec, open(os.path.join(data_dir, \"word2vec_google.pkl\"), 'wb'))"
   ]
  },
  {
   "cell_type": "code",
   "execution_count": 55,
   "metadata": {},
   "outputs": [
    {
     "name": "stdout",
     "output_type": "stream",
     "text": [
      "neighbourhood not in Word2Vec vocab.\n",
      "appartment not in Word2Vec vocab.\n",
      "street noise not in Word2Vec vocab.\n",
      "airbnb not in Word2Vec vocab.\n",
      "check in not in Word2Vec vocab.\n"
     ]
    },
    {
     "data": {
      "text/plain": [
       "(95, 300)"
      ]
     },
     "execution_count": 55,
     "metadata": {},
     "output_type": "execute_result"
    }
   ],
   "source": [
    "word_vectors = []\n",
    "word2vecind = {}\n",
    "for word, _ in total_counter.most_common(100):\n",
    "    if word in word2vec.vocab:\n",
    "        word2vecind[word] = len(word_vectors)\n",
    "        word_vectors.append(word2vec[word])\n",
    "    else:\n",
    "        print(\"{} not in Word2Vec vocab.\".format(word))\n",
    "\n",
    "word_vectors = np.array(word_vectors)\n",
    "word_vectors.shape"
   ]
  },
  {
   "cell_type": "code",
   "execution_count": 57,
   "metadata": {},
   "outputs": [
    {
     "name": "stdout",
     "output_type": "stream",
     "text": [
      "(95, 5)\n"
     ]
    }
   ],
   "source": [
    "from sklearn import decomposition\n",
    "pca = decomposition.PCA(n_components=5)\n",
    "\n",
    "wordvecs_reduced = pca.fit_transform(word_vectors)\n",
    "print(wordvecs_reduced.shape)"
   ]
  },
  {
   "cell_type": "code",
   "execution_count": 59,
   "metadata": {},
   "outputs": [
    {
     "name": "stdout",
     "output_type": "stream",
     "text": [
      "[0.5031363  0.35331637 0.27677715 0.2451345  0.23419106]\n"
     ]
    },
    {
     "data": {
      "image/png": "[encoded data removed]",
      "text/plain": [
       "<Figure size 504x288 with 1 Axes>"
      ]
     },
     "metadata": {
      "needs_background": "light"
     },
     "output_type": "display_data"
    }
   ],
   "source": [
    "print(pca.explained_variance_)\n",
    "plt.figure(figsize=(7, 4))\n",
    "plt.scatter(wordvecs_reduced[:, 0], wordvecs_reduced[:, 1], color=\"blue\")\n",
    "plt.show()"
   ]
  },
  {
   "cell_type": "code",
   "execution_count": 27,
   "metadata": {},
   "outputs": [
    {
     "data": {
      "text/plain": [
       "(95, 5)"
      ]
     },
     "execution_count": 27,
     "metadata": {},
     "output_type": "execute_result"
    }
   ],
   "source": [
    "from sklearn import cluster\n",
    "kmeans = cluster.KMeans(n_clusters=5)\n",
    "words_clustered = kmeans.fit_transform(word_vectors)\n",
    "words_clustered.shape"
   ]
  },
  {
   "cell_type": "code",
   "execution_count": 42,
   "metadata": {},
   "outputs": [
    {
     "name": "stdout",
     "output_type": "stream",
     "text": [
      "{'convenience', 'comfort', 'communication', 'amenities', 'views', 'access', 'accommodations', 'wifi', 'view', 'value', 'experience'}\n",
      "{'home', 'host', 'location', 'gem', 'neighborhood', 'places', 'bars', 'tips', 'spots', 'hosts', 'place', 'area', 'spot'}\n",
      "{'apartment', 'loft', 'brownstone', 'kitchen', 'bathroom', 'house', 'bedroom', 'studio'}\n",
      "{'which', 'work', 'amount', 'lot', 'pleasure', 'days', 'communicator', 'it', 'hostess', 'touch', 'trouble', 'recommendations', 'vibe', 'way', 'clean', 'weather', 'time', 'you', 'issue', 'breeze', 'master', 'issues', 'noise', 'me', 'touches', 'suggestions', 'guy', 'problem', 'person', 'cat', 'trip', 'things', 'family', 'us', 'price', 'problems', 'fun', 'check', 'walk', 'cats', 'this', 'people', 'one', 'stay', 'part'}\n",
      "{'size', 'rooms', 'food', 'towels', 'welcome', 'room', 'parking', 'cleanliness', 'shops', 'beds', 'space', 'restaurants', 'hospitality', 'decor', 'bed', 'shower', 'street', 'building'}\n"
     ]
    }
   ],
   "source": [
    "vecind2word = {v: k for k, v in word2vecind.items()}\n",
    "clusters = [{vecind2word[i] for i in np.where(kmeans.labels_ == n)[0]} for n in range(kmeans.n_clusters)]\n",
    "for cluster in clusters:\n",
    "    print(cluster)"
   ]
  },
  {
   "cell_type": "code",
   "execution_count": 50,
   "metadata": {},
   "outputs": [],
   "source": [
    "categories = [\"clean\", \"host\", \"location\", \"value\"]\n",
    "for word in categories:\n",
    "    assert word in word2vec.vocab"
   ]
  },
  {
   "cell_type": "code",
   "execution_count": 54,
   "metadata": {},
   "outputs": [
    {
     "name": "stdout",
     "output_type": "stream",
     "text": [
      "place: [0.8325644  0.74842465 0.6726596  0.9157255 ]\n",
      "location: [0.97479033 0.82070947 0.         0.85033464]\n",
      "host: [0.9393692  0.         0.82070947 1.0019288 ]\n",
      "apartment: [0.89290535 1.0502918  0.78139174 0.9863219 ]\n",
      "stay: [0.7624167  0.8861873  0.8261593  0.97917396]\n",
      "room: [0.8714406  0.93346524 0.86026    0.987429  ]\n",
      "neighborhood: [0.89349914 0.96486574 0.6623925  0.9690883 ]\n",
      "you: [0.88288915 0.9634835  0.9329579  0.87056786]\n",
      "space: [0.86487275 0.90905786 0.74970853 0.84904605]\n",
      "bed: [0.85696244 0.9281334  0.9166598  0.98183423]\n",
      "hosts: [0.9723166 0.2905022 0.8412068 1.0202814]\n",
      "experience: [0.9860507  0.95252246 0.84158754 0.7925668 ]\n",
      "time: [0.89732057 0.9517934  0.8008967  0.85190344]\n",
      "it: [0.76111764 0.94642377 0.789051   0.7760515 ]\n",
      "area: [0.8992999  0.89961255 0.5375757  0.95438087]\n",
      "communication: [0.97707725 0.99670446 0.857627   0.8742633 ]\n",
      "value: [ 9.7388792e-01  1.0019288e+00  8.5033464e-01 -1.1920929e-07]\n",
      "restaurants: [0.8824699  0.92270434 0.7361413  0.9251872 ]\n",
      "house: [0.86009365 0.9913127  0.79141414 0.9111997 ]\n",
      "access: [0.8565166  0.901623   0.70750344 0.7974872 ]\n",
      "home: [0.8571358 0.8563928 0.792563  0.8922883]\n",
      "neighbourhood not in vocab.\n",
      "problem: [0.890477   0.9847659  0.89928794 0.89909565]\n",
      "spot: [0.88577956 0.82870406 0.6669092  0.9591327 ]\n",
      "bathroom: [0.7812191  1.0704113  0.87623656 1.0085125 ]\n",
      "people: [0.87556297 0.96232635 0.92244035 0.88606524]\n",
      "beds: [0.8520556 0.9565906 0.8302587 0.9056777]\n",
      "issue: [0.9737364  0.9745131  0.8952373  0.86633587]\n",
      "food: [0.82039756 0.93303    0.87066245 0.8639713 ]\n",
      "check: [0.7725877 0.9541388 0.8769078 0.9748569]\n",
      "tips: [0.86019975 0.91731864 0.95831627 0.9597821 ]\n",
      "walk: [0.84580624 0.92553747 0.8658712  0.98592365]\n",
      "places: [0.89825654 0.9021034  0.65140975 0.9557292 ]\n",
      "recommendations: [0.92407197 0.9930987  0.9452184  0.92287207]\n",
      "view: [0.9530937 1.0085515 0.7889995 0.8004054]\n",
      "noise: [0.88412905 0.9286877  0.9332029  0.91735697]\n",
      "pleasure: [0.95249045 0.93327636 0.94352096 0.82940483]\n",
      "street: [0.910724   0.97773314 0.77760863 0.93105227]\n",
      "price: [0.9682421 1.0082383 0.8369577 0.5133943]\n",
      "bedroom: [0.87925553 1.0701301  0.8827534  0.9545251 ]\n",
      "part: [0.8708154  0.82813805 0.86229193 0.9018389 ]\n",
      "hospitality: [0.9053142 0.813921  0.8678358 0.859846 ]\n",
      "building: [0.8670522 0.9167479 0.7063766 0.8967669]\n",
      "parking: [0.9041652  0.98087233 0.7524451  0.9278062 ]\n",
      "amenities: [0.81013983 0.90654975 0.6927617  0.81248766]\n",
      "towels: [0.76113963 0.9469055  1.0030715  0.9376647 ]\n",
      "appartment not in vocab.\n",
      "work: [0.7385143  0.9870173  0.9058293  0.88605654]\n",
      "family: [0.94566673 0.99467176 0.79923207 0.90577674]\n",
      "person: [0.9345776  0.9872074  0.7801071  0.87606496]\n"
     ]
    }
   ],
   "source": [
    "for word, _ in total_counter.most_common(50):\n",
    "    if word in word2vec.vocab:\n",
    "        distances = word2vec.distances(word, categories)\n",
    "        match_cat = categories[distances.argmin()]\n",
    "        print(\"{}: {}\".format(word, distances))\n",
    "    else:\n",
    "        print(\"{} not in vocab.\".format(word))"
   ]
  },
  {
   "cell_type": "code",
   "execution_count": null,
   "metadata": {},
   "outputs": [],
   "source": []
  }
 ],
 "metadata": {
  "kernelspec": {
   "display_name": "Python 3",
   "language": "python",
   "name": "python3"
  },
  "language_info": {
   "codemirror_mode": {
    "name": "ipython",
    "version": 3
   },
   "file_extension": ".py",
   "mimetype": "text/x-python",
   "name": "python",
   "nbconvert_exporter": "python",
   "pygments_lexer": "ipython3",
   "version": "3.6.8"
  }
 },
 "nbformat": 4,
 "nbformat_minor": 2
}
