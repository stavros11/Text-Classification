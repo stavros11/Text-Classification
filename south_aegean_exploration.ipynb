{
 "cells": [
  {
   "cell_type": "code",
   "execution_count": 2,
   "metadata": {},
   "outputs": [],
   "source": [
    "import os\n",
    "import numpy as np\n",
    "import pandas as pd\n",
    "from time import time\n",
    "from utils import custom_preprocessing, dependencies\n",
    "\n",
    "import matplotlib.pyplot as plt\n",
    "import matplotlib\n",
    "import seaborn as sns\n",
    "matplotlib.rcParams['mathtext.fontset'] = 'cm'\n",
    "matplotlib.rcParams['font.family'] = 'STIXGeneral'\n",
    "matplotlib.rcParams[\"font.size\"] = 26\n",
    "\n",
    "data_dir = \"/home/stavros/DATA/AirbnbReviews\"\n",
    "#data_dir = \"D:/\""
   ]
  },
  {
   "cell_type": "markdown",
   "metadata": {},
   "source": [
    "### Assign location to reviews\n",
    "\n",
    "and keep only Santorini, Mykonos and Rhodes"
   ]
  },
  {
   "cell_type": "code",
   "execution_count": 2,
   "metadata": {},
   "outputs": [
    {
     "name": "stderr",
     "output_type": "stream",
     "text": [
      "/home/stavros/PythonEvironments/neuralcoref-env/lib/python3.6/site-packages/IPython/core/interactiveshell.py:3058: DtypeWarning: Columns (61,62) have mixed types. Specify dtype option on import or set low_memory=False.\n",
      "  interactivity=interactivity, compiler=compiler, result=result)\n"
     ]
    },
    {
     "name": "stdout",
     "output_type": "stream",
     "text": [
      "(285025, 6)\n",
      "(22897, 106)\n",
      "(285025, 6)\n"
     ]
    }
   ],
   "source": [
    "area = \"south_aegean\"\n",
    "area_dir = os.path.join(data_dir, area)\n",
    "\n",
    "listings = pd.read_csv(os.path.join(area_dir, \"listings.csv.gz\"))\n",
    "reviews = pd.read_csv(os.path.join(area_dir, \"reviews.csv.gz\"))\n",
    "print(reviews.shape)\n",
    "print(listings.shape)\n",
    "\n",
    "clean_reviews = reviews[pd.notnull(reviews.comments)]\n",
    "print(reviews.shape)"
   ]
  },
  {
   "cell_type": "code",
   "execution_count": 3,
   "metadata": {},
   "outputs": [
    {
     "name": "stdout",
     "output_type": "stream",
     "text": [
      "Θήρας (Santorini) 3885\n",
      "Μυκόνου (Μykonos) 3197\n",
      "Ρόδου (Rhodes) 2951\n"
     ]
    }
   ],
   "source": [
    "location_counts = listings.neighbourhood_cleansed.value_counts()\n",
    "santorini_id, mykonos_id, rhodes_id = location_counts.keys()[:3]\n",
    "\n",
    "print(santorini_id, location_counts[0])\n",
    "print(mykonos_id, location_counts[1])\n",
    "print(rhodes_id, location_counts[2])\n",
    "\n",
    "location_dict = {\"Santorini\": santorini_id, \"Mykonos\": mykonos_id, \"Rhodes\": rhodes_id}"
   ]
  },
  {
   "cell_type": "code",
   "execution_count": 6,
   "metadata": {},
   "outputs": [],
   "source": [
    "location2ids = {k: set(listings[listings.neighbourhood_cleansed == ids][\"id\"]) for k, ids in location_dict.items()}"
   ]
  },
  {
   "cell_type": "code",
   "execution_count": 13,
   "metadata": {},
   "outputs": [
    {
     "name": "stdout",
     "output_type": "stream",
     "text": [
      "(284936, 7)\n",
      "(166698, 7)\n"
     ]
    },
    {
     "name": "stderr",
     "output_type": "stream",
     "text": [
      "/home/stavros/PythonEvironments/neuralcoref-env/lib/python3.6/site-packages/ipykernel_launcher.py:8: SettingWithCopyWarning: \n",
      "A value is trying to be set on a copy of a slice from a DataFrame.\n",
      "Try using .loc[row_indexer,col_indexer] = value instead\n",
      "\n",
      "See the caveats in the documentation: http://pandas.pydata.org/pandas-docs/stable/user_guide/indexing.html#returning-a-view-versus-a-copy\n",
      "  \n"
     ]
    }
   ],
   "source": [
    "def review_location(listing_id):\n",
    "    for loc, ids in location2ids.items():\n",
    "        if listing_id in ids:\n",
    "            return loc\n",
    "    return None\n",
    "            \n",
    "# Identify the listing location for each review (Santorini, Mykonos, Rhodes or None for the rest)\n",
    "clean_reviews[\"location\"] = clean_reviews[\"listing_id\"].map(review_location)\n",
    "print(clean_reviews.shape)\n",
    "# Keep only reviews in Santorini, Mykonos and Rhodes\n",
    "clean_reviews = clean_reviews[pd.notnull(clean_reviews[\"location\"])]\n",
    "print(clean_reviews.shape)"
   ]
  },
  {
   "cell_type": "code",
   "execution_count": 15,
   "metadata": {},
   "outputs": [
    {
     "name": "stdout",
     "output_type": "stream",
     "text": [
      "Number of reviews in Santorini: 100266\n",
      "Number of reviews in Mykonos: 40866\n",
      "Number of reviews in Rhodes: 25566\n"
     ]
    }
   ],
   "source": [
    "for loc in [\"Santorini\", \"Mykonos\", \"Rhodes\"]:\n",
    "    n = (clean_reviews[\"location\"] == loc).sum()\n",
    "    print(\"Number of reviews in {}: {}\".format(loc, n))"
   ]
  },
  {
   "cell_type": "code",
   "execution_count": 17,
   "metadata": {},
   "outputs": [],
   "source": [
    "clean_reviews.to_pickle(os.path.join(area_dir, \"reviews_with_location.pkl\"))"
   ]
  },
  {
   "cell_type": "markdown",
   "metadata": {},
   "source": [
    "### Explore pre-processed data"
   ]
  },
  {
   "cell_type": "markdown",
   "metadata": {},
   "source": [
    "Load preprocessed data for locations of interest"
   ]
  },
  {
   "cell_type": "code",
   "execution_count": 3,
   "metadata": {},
   "outputs": [
    {
     "name": "stdout",
     "output_type": "stream",
     "text": [
      "Santorini: (100266, 9)\n",
      "Mykonos: (40866, 9)\n",
      "Rhodes: (25566, 9)\n"
     ]
    }
   ],
   "source": [
    "area = \"south_aegean\"\n",
    "area_dir = os.path.join(data_dir, area)\n",
    "\n",
    "island_samples = {\"Santorini\": 100266, \"Mykonos\": 40866, \"Rhodes\": 25566}\n",
    "\n",
    "island_reviews = {k: pd.read_pickle(os.path.join(area_dir, \"reviews_with_aspects_{}_{}samples.pkl\".format(k, n)))\n",
    "                  for k, n in island_samples.items()}\n",
    "\n",
    "for k, r in island_reviews.items():\n",
    "    print(\"{}: {}\".format(k, r.shape))"
   ]
  },
  {
   "cell_type": "markdown",
   "metadata": {},
   "source": [
    "How many reviews have no aspects"
   ]
  },
  {
   "cell_type": "code",
   "execution_count": 4,
   "metadata": {},
   "outputs": [
    {
     "name": "stdout",
     "output_type": "stream",
     "text": [
      "Santorini: 16.34751560848144\n",
      "Mykonos: 16.926050995937942\n",
      "Rhodes: 28.737385590237032\n"
     ]
    }
   ],
   "source": [
    "for k, r in island_reviews.items():\n",
    "    print(\"{}: {}\".format(k, pd.isnull(r[\"aspects\"]).sum() * 100.0 / len(r)))\n",
    "    \n",
    "# Clean reviews\n",
    "for k, r in island_reviews.items():\n",
    "    island_reviews[k] = r[pd.notnull(r[\"aspects\"])]"
   ]
  },
  {
   "cell_type": "code",
   "execution_count": 5,
   "metadata": {},
   "outputs": [],
   "source": [
    "from utils import aspect_tools\n",
    "\n",
    "island_aspects = {k: aspect_tools.collect_aspects(r) for k, r in island_reviews.items()}"
   ]
  },
  {
   "cell_type": "code",
   "execution_count": 11,
   "metadata": {},
   "outputs": [
    {
     "data": {
      "image/png": "[encoded data removed]",
      "text/plain": [
       "<Figure size 720x432 with 1 Axes>"
      ]
     },
     "metadata": {
      "needs_background": "light"
     },
     "output_type": "display_data"
    }
   ],
   "source": [
    "island = \"Santorini\"\n",
    "aspect_tools.word_barchart(plt, island_aspects[island], n_reviews=len(island_reviews[island]))"
   ]
  },
  {
   "cell_type": "code",
   "execution_count": 7,
   "metadata": {},
   "outputs": [
    {
     "data": {
      "image/png": "[encoded data removed]",
      "text/plain": [
       "<Figure size 720x432 with 1 Axes>"
      ]
     },
     "metadata": {
      "needs_background": "light"
     },
     "output_type": "display_data"
    }
   ],
   "source": [
    "island = \"Mykonos\"\n",
    "aspect_tools.word_barchart(plt, island_aspects[island], n_reviews=len(island_reviews[island]))"
   ]
  }
 ],
 "metadata": {
  "kernelspec": {
   "display_name": "Python 3",
   "language": "python",
   "name": "python3"
  },
  "language_info": {
   "codemirror_mode": {
    "name": "ipython",
    "version": 3
   },
   "file_extension": ".py",
   "mimetype": "text/x-python",
   "name": "python",
   "nbconvert_exporter": "python",
   "pygments_lexer": "ipython3",
   "version": "3.6.8"
  }
 },
 "nbformat": 4,
 "nbformat_minor": 2
}
