{
 "cells": [
  {
   "cell_type": "code",
   "execution_count": 2,
   "metadata": {},
   "outputs": [],
   "source": [
    "import os\n",
    "import numpy as np\n",
    "import pandas as pd\n",
    "from time import time\n",
    "from utils import custom_preprocessing as preproc\n",
    "\n",
    "data_dir = \"/home/stavros/DATA/AirbnbReviews\"\n",
    "#data_dir = \"D:/\""
   ]
  },
  {
   "cell_type": "code",
   "execution_count": 2,
   "metadata": {},
   "outputs": [
    {
     "name": "stdout",
     "output_type": "stream",
     "text": [
      "(218718, 6)\n",
      "(218580, 6)\n"
     ]
    }
   ],
   "source": [
    "area = \"boston\"\n",
    "area_dir = os.path.join(data_dir, area)\n",
    "\n",
    "data = pd.read_csv(os.path.join(area_dir, \"reviews.csv.gz\"))\n",
    "print(data.shape)\n",
    "\n",
    "clean_data = data[pd.notnull(data.comments)]\n",
    "print(clean_data.shape)"
   ]
  },
  {
   "cell_type": "code",
   "execution_count": 7,
   "metadata": {},
   "outputs": [
    {
     "name": "stdout",
     "output_type": "stream",
     "text": [
      "Susan was incredibly accommodating. She was kind, welcoming, and very responsive in communicating prior to our arrival. Susan went out of her way to be sure we enjoyed our stay in comfort and convenience. I would highly recommend her to anyone traveling to Boston area. \n",
      "\n",
      "\n",
      "Susan was incredibly accommodating. She was kind welcoming and very responsive in communicating prior to our arrival. Susan went out of her way to be sure we enjoyed our stay in comfort and convenience. I would highly recommend her to anyone traveling to Boston area.\n"
     ]
    }
   ],
   "source": [
    "ind = np.random.randint(0, len(clean_data))\n",
    "\n",
    "text = clean_data.iloc[ind].comments\n",
    "print(text)\n",
    "\n",
    "print(\"\\n\")\n",
    "ptext = preproc.expand_contractions(text)\n",
    "ptext = preproc.remove_special_characters(ptext)\n",
    "print(ptext)"
   ]
  },
  {
   "cell_type": "code",
   "execution_count": 13,
   "metadata": {},
   "outputs": [],
   "source": [
    "import spacy\n",
    "from spacy import displacy\n",
    "nlp = spacy.load('en_core_web_sm', parse=True, tag=True, entity=True)"
   ]
  },
  {
   "cell_type": "code",
   "execution_count": 34,
   "metadata": {},
   "outputs": [
    {
     "data": {
      "text/html": [
       "<div class=\"entities\" style=\"line-height: 2.5; direction: ltr\">\n",
       "<mark class=\"entity\" style=\"background: #7aecec; padding: 0.45em 0.6em; margin: 0 0.25em; line-height: 1; border-radius: 0.35em; box-decoration-break: clone; -webkit-box-decoration-break: clone\">\n",
       "    Jason\n",
       "    <span style=\"font-size: 0.8em; font-weight: bold; line-height: 1; border-radius: 0.35em; text-transform: uppercase; vertical-align: middle; margin-left: 0.5rem\">ORG</span>\n",
       "</mark>\n",
       " is a great host and the apartment was beautiful clean and in a great location. I would definitely recommend and come back again!</div>"
      ],
      "text/plain": [
       "<IPython.core.display.HTML object>"
      ]
     },
     "metadata": {},
     "output_type": "display_data"
    }
   ],
   "source": [
    "ind = np.random.randint(0, len(clean_data))\n",
    "\n",
    "text = clean_data.iloc[ind].comments\n",
    "ptext = preproc.expand_contractions(text)\n",
    "ptext = preproc.remove_special_characters(ptext)\n",
    "\n",
    "ntext = nlp(ptext)\n",
    "displacy.render(ntext, style=\"ent\")"
   ]
  },
  {
   "cell_type": "code",
   "execution_count": 35,
   "metadata": {},
   "outputs": [],
   "source": [
    "import neuralcoref\n",
    "coref = neuralcoref.NeuralCoref(nlp.vocab)\n",
    "nlp.add_pipe(coref, name='neuralcoref')"
   ]
  },
  {
   "cell_type": "code",
   "execution_count": 44,
   "metadata": {},
   "outputs": [
    {
     "name": "stdout",
     "output_type": "stream",
     "text": [
      "Susan was incredibly accommodating. Susan was kind, welcoming, and very responsive.\n"
     ]
    }
   ],
   "source": [
    "doc = nlp(\"Susan was incredibly accommodating. She was kind, welcoming, and very responsive.\")\n",
    "print(doc._.coref_resolved)"
   ]
  },
  {
   "cell_type": "code",
   "execution_count": 3,
   "metadata": {},
   "outputs": [
    {
     "name": "stdout",
     "output_type": "stream",
     "text": [
      "Host was incredibly accommodating. Host was kind welcoming and very responsive.\n"
     ]
    }
   ],
   "source": [
    "text = \"Susan was incredibly accommodating. She was kind, welcoming, and very responsive.\"\n",
    "\n",
    "ptext = preproc.preprocessing_pipeline(text)\n",
    "print(ptext)"
   ]
  },
  {
   "cell_type": "code",
   "execution_count": 5,
   "metadata": {},
   "outputs": [
    {
     "data": {
      "text/plain": [
       "'host'"
      ]
     },
     "execution_count": 5,
     "metadata": {},
     "output_type": "execute_result"
    }
   ],
   "source": [
    "\"Host\".lower()"
   ]
  },
  {
   "cell_type": "code",
   "execution_count": null,
   "metadata": {},
   "outputs": [],
   "source": []
  }
 ],
 "metadata": {
  "kernelspec": {
   "display_name": "Python 3",
   "language": "python",
   "name": "python3"
  },
  "language_info": {
   "codemirror_mode": {
    "name": "ipython",
    "version": 3
   },
   "file_extension": ".py",
   "mimetype": "text/x-python",
   "name": "python",
   "nbconvert_exporter": "python",
   "pygments_lexer": "ipython3",
   "version": "3.6.8"
  }
 },
 "nbformat": 4,
 "nbformat_minor": 2
}
