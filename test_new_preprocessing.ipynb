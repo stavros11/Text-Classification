{
 "cells": [
  {
   "cell_type": "code",
   "execution_count": 1,
   "metadata": {},
   "outputs": [],
   "source": [
    "import os\n",
    "import numpy as np\n",
    "import pandas as pd\n",
    "from time import time\n",
    "\n",
    "data_dir = \"/home/stavros/DATA/AirbnbReviews\"\n",
    "#data_dir = \"D:/\""
   ]
  },
  {
   "cell_type": "code",
   "execution_count": 4,
   "metadata": {},
   "outputs": [
    {
     "name": "stdout",
     "output_type": "stream",
     "text": [
      "(218718, 6)\n",
      "(218580, 6)\n"
     ]
    }
   ],
   "source": [
    "area = \"boston\"\n",
    "area_dir = os.path.join(data_dir, area)\n",
    "\n",
    "data = pd.read_csv(os.path.join(area_dir, \"reviews.csv.gz\"))\n",
    "print(data.shape)\n",
    "\n",
    "clean_data = data[pd.notnull(data.comments)]\n",
    "print(clean_data.shape)"
   ]
  },
  {
   "cell_type": "code",
   "execution_count": 10,
   "metadata": {},
   "outputs": [
    {
     "name": "stdout",
     "output_type": "stream",
     "text": [
      "Had a wonderful stay at Rory's. Simple, easy check-in process, comfortable bed, and extremely clean. Loved the outdoor patio space as well. Rory was extremely responsive and easy to get ahold of. I even got locked out super late one night and he was nothing but kind when I called him to explain. I was able to get back in the unit quickly and appreciate his patience. Thanks Rory!!\n",
      "\n",
      "\n",
      "Had a wonderful stay at Rory. Simple, easy check-in process, comfortable bed, and extremely clean. Loved the outdoor patio space as well. Rory was extremely responsive and easy to get ahold of. I even got locked out super late one night and he was nothing but kind when I called him to explain. I was able to get back in the unit quickly and appreciate his patience. Thanks Rory!!\n"
     ]
    }
   ],
   "source": [
    "ind = np.random.randint(0, len(clean_data))\n",
    "\n",
    "text = clean_data.iloc[ind].comments\n",
    "print(text)\n",
    "\n",
    "print(\"\\n\")\n",
    "from utils import custom_preprocessing\n",
    "rtext = custom_preprocessing.CorpusNormalizer.expand_contractions(text)\n",
    "print(rtext)"
   ]
  },
  {
   "cell_type": "code",
   "execution_count": 12,
   "metadata": {},
   "outputs": [],
   "source": [
    "import spacy\n",
    "nlp = spacy.load('en_core_web_sm', parse=True, tag=True, entity=True)"
   ]
  },
  {
   "cell_type": "code",
   "execution_count": 17,
   "metadata": {},
   "outputs": [
    {
     "name": "stdout",
     "output_type": "stream",
     "text": [
      "(Rory, Rory, late one night)\n"
     ]
    }
   ],
   "source": [
    "text = \"Had a wonderful stay at Rory. Simple, easy check-in process, comfortable bed, and extremely clean. Loved the outdoor patio space as well. Rory was extremely responsive and easy to get ahold of. I even got locked out super late one night and he was nothing but kind when I called him to explain. I was able to get back in the unit quickly and appreciate his patience. Thanks Rory!!\"\n",
    "ntext = nlp(text)\n",
    "print(ntext.ents)"
   ]
  },
  {
   "cell_type": "code",
   "execution_count": 18,
   "metadata": {},
   "outputs": [
    {
     "name": "stdout",
     "output_type": "stream",
     "text": [
      "had a wonderful stay at rory. simple, easy check-in process, comfortable bed, and extremely clean. loved the outdoor patio space as well. rory was extremely responsive and easy to get ahold of. i even got locked out super late one night and he was nothing but kind when i called him to explain. i was able to get back in the unit quickly and appreciate his patience. thanks rory!!\n",
      "(late one night,)\n"
     ]
    }
   ],
   "source": [
    "ltext = text.lower()\n",
    "nltext = nlp(ltext)\n",
    "print(nltext)\n",
    "print(nltext.ents)"
   ]
  },
  {
   "cell_type": "code",
   "execution_count": null,
   "metadata": {},
   "outputs": [],
   "source": []
  }
 ],
 "metadata": {
  "kernelspec": {
   "display_name": "Python 3",
   "language": "python",
   "name": "python3"
  },
  "language_info": {
   "codemirror_mode": {
    "name": "ipython",
    "version": 3
   },
   "file_extension": ".py",
   "mimetype": "text/x-python",
   "name": "python",
   "nbconvert_exporter": "python",
   "pygments_lexer": "ipython3",
   "version": "3.6.8"
  }
 },
 "nbformat": 4,
 "nbformat_minor": 2
}
