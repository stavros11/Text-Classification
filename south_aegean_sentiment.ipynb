{
 "cells": [
  {
   "cell_type": "code",
   "execution_count": 5,
   "metadata": {},
   "outputs": [],
   "source": [
    "import os\n",
    "import numpy as np\n",
    "import pandas as pd\n",
    "from time import time\n",
    "from utils import custom_preprocessing, dependencies\n",
    "\n",
    "data_dir = \"/home/stavros/DATA/AirbnbReviews\"\n",
    "#data_dir = \"D:/\""
   ]
  },
  {
   "cell_type": "code",
   "execution_count": 6,
   "metadata": {},
   "outputs": [
    {
     "name": "stdout",
     "output_type": "stream",
     "text": [
      "Santorini: (100266, 10)\n",
      "Mykonos: (40866, 10)\n",
      "Rhodes: (25566, 10)\n",
      "\n",
      "Santorini: 16.34751560848144\n",
      "Mykonos: 16.926050995937942\n",
      "Rhodes: 28.737385590237032\n",
      "\n",
      "Santorini: (83875, 10)\n",
      "Mykonos: (33949, 10)\n",
      "Rhodes: (18219, 10)\n"
     ]
    }
   ],
   "source": [
    "area = \"south_aegean\"\n",
    "area_dir = os.path.join(data_dir, area)\n",
    "\n",
    "island_samples = {\"Santorini\": 100266, \"Mykonos\": 40866, \"Rhodes\": 25566}\n",
    "\n",
    "island_reviews = {k: pd.read_pickle(os.path.join(\n",
    "    area_dir, \"reviews_with_aspects_{}_{}samples_sentiment.pkl\".format(k, n)))\n",
    "                  for k, n in island_samples.items()}\n",
    "\n",
    "for k, r in island_reviews.items():\n",
    "    print(\"{}: {}\".format(k, r.shape))\n",
    "\n",
    "print()\n",
    "# Check how many reviews have no identified aspects (percentage)\n",
    "for k, r in island_reviews.items():\n",
    "    print(\"{}: {}\".format(k, pd.isnull(r[\"aspects\"]).sum() * 100.0 / len(r)))\n",
    "\n",
    "print()\n",
    "# Clean reviews\n",
    "for k, r in island_reviews.items():\n",
    "    island_reviews[k] = r[pd.notnull(r[\"aspects\"])]\n",
    "    print(\"{}: {}\".format(k, island_reviews[k].shape))"
   ]
  },
  {
   "cell_type": "code",
   "execution_count": 7,
   "metadata": {},
   "outputs": [
    {
     "data": {
      "text/plain": [
       "Index(['listing_id', 'id', 'date', 'reviewer_id', 'reviewer_name', 'comments',\n",
       "       'location', 'processed_comments', 'aspects', 'aspects_sentiment'],\n",
       "      dtype='object')"
      ]
     },
     "execution_count": 7,
     "metadata": {},
     "output_type": "execute_result"
    }
   ],
   "source": [
    "island_reviews[\"Rhodes\"].columns"
   ]
  },
  {
   "cell_type": "code",
   "execution_count": 8,
   "metadata": {},
   "outputs": [],
   "source": [
    "location_sentiment = island_reviews[\"Santorini\"][\"aspects_sentiment\"].map(lambda x: x[\"location\"] if \"location\" in x else 0)"
   ]
  },
  {
   "cell_type": "code",
   "execution_count": 12,
   "metadata": {},
   "outputs": [
    {
     "name": "stdout",
     "output_type": "stream",
     "text": [
      "(20615, 11)\n"
     ]
    },
    {
     "name": "stderr",
     "output_type": "stream",
     "text": [
      "/home/stavros/PythonEvironments/neuralcoref-env/lib/python3.6/site-packages/ipykernel_launcher.py:2: SettingWithCopyWarning: \n",
      "A value is trying to be set on a copy of a slice from a DataFrame.\n",
      "Try using .loc[row_indexer,col_indexer] = value instead\n",
      "\n",
      "See the caveats in the documentation: http://pandas.pydata.org/pandas-docs/stable/user_guide/indexing.html#returning-a-view-versus-a-copy\n",
      "  \n"
     ]
    }
   ],
   "source": [
    "santorini_loc_data = island_reviews[\"Santorini\"][location_sentiment != 0]\n",
    "santorini_loc_data[\"location_sentiment\"] = location_sentiment[location_sentiment != 0]\n",
    "print(santorini_loc_data.shape)"
   ]
  },
  {
   "cell_type": "code",
   "execution_count": 17,
   "metadata": {},
   "outputs": [],
   "source": [
    "unique_ids = np.unique(santorini_loc_data[\"listing_id\"])\n",
    "listing_loc_sentiment = {}\n",
    "for ids in unique_ids:\n",
    "    listing_data = santorini_loc_data[santorini_loc_data[\"listing_id\"] == ids]\n",
    "    ranks, counts = np.unique(listing_data[\"location_sentiment\"], return_counts=True)\n",
    "    listing_loc_sentiment[ids] = [(times, rank) for rank, times in zip(ranks, counts)]"
   ]
  },
  {
   "cell_type": "code",
   "execution_count": 25,
   "metadata": {},
   "outputs": [],
   "source": [
    "listing_loc_score = np.array([sum(times * (2 * int(rank > 0) - 1) for times, rank in listing_loc_sentiment[k]) \n",
    "                              for k in unique_ids])"
   ]
  },
  {
   "cell_type": "code",
   "execution_count": null,
   "metadata": {},
   "outputs": [],
   "source": []
  }
 ],
 "metadata": {
  "kernelspec": {
   "display_name": "Python 3",
   "language": "python",
   "name": "python3"
  },
  "language_info": {
   "codemirror_mode": {
    "name": "ipython",
    "version": 3
   },
   "file_extension": ".py",
   "mimetype": "text/x-python",
   "name": "python",
   "nbconvert_exporter": "python",
   "pygments_lexer": "ipython3",
   "version": "3.6.8"
  }
 },
 "nbformat": 4,
 "nbformat_minor": 2
}
