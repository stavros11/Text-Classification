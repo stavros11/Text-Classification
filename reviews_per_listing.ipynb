{
 "cells": [
  {
   "cell_type": "code",
   "execution_count": 2,
   "metadata": {},
   "outputs": [],
   "source": [
    "import os\n",
    "import numpy as np\n",
    "import pandas as pd\n",
    "from time import time\n",
    "from utils import aspect_tools\n",
    "\n",
    "data_dir = \"/home/stavros/DATA/AirbnbReviews\"\n",
    "#data_dir = \"D:/\""
   ]
  },
  {
   "cell_type": "code",
   "execution_count": 4,
   "metadata": {},
   "outputs": [
    {
     "name": "stdout",
     "output_type": "stream",
     "text": [
      "(200000, 8)\n",
      "(200000, 8)\n"
     ]
    }
   ],
   "source": [
    "area = \"nyc\"\n",
    "area_dir = os.path.join(data_dir, area)\n",
    "\n",
    "reviews = pd.read_pickle(os.path.join(area_dir, \"reviews_with_aspects_200000samples.pkl\"))\n",
    "print(reviews.shape)\n",
    "reviews = reviews[pd.notnull(reviews[\"processed_comments\"])]\n",
    "print(reviews.shape)"
   ]
  },
  {
   "cell_type": "code",
   "execution_count": 5,
   "metadata": {},
   "outputs": [
    {
     "data": {
      "text/plain": [
       "16276632    113\n",
       "891117      112\n",
       "9145202     109\n",
       "834190      109\n",
       "10186192    108\n",
       "           ... \n",
       "638894        1\n",
       "24358122      1\n",
       "31178681      1\n",
       "33528562      1\n",
       "31671911      1\n",
       "Name: listing_id, Length: 27849, dtype: int64"
      ]
     },
     "execution_count": 5,
     "metadata": {},
     "output_type": "execute_result"
    }
   ],
   "source": [
    "reviews[\"listing_id\"].value_counts()"
   ]
  },
  {
   "cell_type": "code",
   "execution_count": 6,
   "metadata": {},
   "outputs": [
    {
     "name": "stdout",
     "output_type": "stream",
     "text": [
      "(1166689, 6)\n",
      "(1166096, 6)\n"
     ]
    }
   ],
   "source": [
    "reviews = pd.read_csv(os.path.join(area_dir, \"reviews.csv.gz\"))\n",
    "print(reviews.shape)\n",
    "reviews = reviews[pd.notnull(reviews[\"listing_id\"])]\n",
    "reviews = reviews[pd.notnull(reviews[\"comments\"])]\n",
    "print(reviews.shape)"
   ]
  },
  {
   "cell_type": "code",
   "execution_count": 7,
   "metadata": {},
   "outputs": [
    {
     "data": {
      "text/plain": [
       "9145202     654\n",
       "903972      615\n",
       "891117      608\n",
       "10101135    603\n",
       "8168619     566\n",
       "           ... \n",
       "31286946      1\n",
       "36446225      1\n",
       "8972807       1\n",
       "34394888      1\n",
       "22085754      1\n",
       "Name: listing_id, Length: 38723, dtype: int64"
      ]
     },
     "execution_count": 7,
     "metadata": {},
     "output_type": "execute_result"
    }
   ],
   "source": [
    "reviews[\"listing_id\"].value_counts()"
   ]
  },
  {
   "cell_type": "code",
   "execution_count": 8,
   "metadata": {},
   "outputs": [
    {
     "name": "stdout",
     "output_type": "stream",
     "text": [
      "(379303, 6)\n",
      "(379118, 6)\n"
     ]
    }
   ],
   "source": [
    "area_dir = os.path.join(data_dir, \"athens\")\n",
    "reviews = pd.read_csv(os.path.join(area_dir, \"reviews.csv.gz\"))\n",
    "print(reviews.shape)\n",
    "reviews = reviews[pd.notnull(reviews[\"listing_id\"])]\n",
    "reviews = reviews[pd.notnull(reviews[\"comments\"])]\n",
    "print(reviews.shape)"
   ]
  },
  {
   "cell_type": "code",
   "execution_count": 12,
   "metadata": {},
   "outputs": [],
   "source": [
    "import collections\n",
    "reviews_per_listing = collections.Counter({k: v for k, v in reviews[\"listing_id\"].value_counts().items()})"
   ]
  },
  {
   "cell_type": "code",
   "execution_count": 15,
   "metadata": {},
   "outputs": [
    {
     "data": {
      "text/plain": [
       "[(1177492, 675),\n",
       " (1079291, 603),\n",
       " (2306865, 578),\n",
       " (6101639, 534),\n",
       " (3431705, 519),\n",
       " (2305770, 519),\n",
       " (1484797, 516),\n",
       " (1746907, 506),\n",
       " (7215898, 484),\n",
       " (1751520, 464),\n",
       " (5025556, 462),\n",
       " (3462705, 460),\n",
       " (526273, 458),\n",
       " (28186, 436),\n",
       " (724485, 432),\n",
       " (401423, 417),\n",
       " (4289381, 416),\n",
       " (2579525, 410),\n",
       " (80598, 410),\n",
       " (13553080, 405),\n",
       " (702480, 405),\n",
       " (10400201, 396),\n",
       " (2883333, 395),\n",
       " (2428866, 393),\n",
       " (306234, 392),\n",
       " (14081186, 390),\n",
       " (14583913, 382),\n",
       " (59663, 374),\n",
       " (5732674, 369),\n",
       " (727374, 369),\n",
       " (10898803, 365),\n",
       " (11403148, 365),\n",
       " (9337716, 359),\n",
       " (6101477, 356),\n",
       " (13145534, 356),\n",
       " (16278854, 354),\n",
       " (661314, 348),\n",
       " (11669024, 347),\n",
       " (1529526, 345),\n",
       " (5266430, 345),\n",
       " (17495305, 344),\n",
       " (9291989, 344),\n",
       " (5788192, 340),\n",
       " (3759135, 340),\n",
       " (2487816, 339),\n",
       " (2513822, 338),\n",
       " (7797582, 338),\n",
       " (1207614, 337),\n",
       " (6125281, 334),\n",
       " (918812, 334),\n",
       " (15841192, 333),\n",
       " (5725222, 332),\n",
       " (1094063, 329),\n",
       " (905315, 328),\n",
       " (2240132, 328),\n",
       " (783657, 325),\n",
       " (2299339, 325),\n",
       " (6622262, 323),\n",
       " (3630518, 323),\n",
       " (6069036, 323),\n",
       " (15046716, 321),\n",
       " (11038469, 321),\n",
       " (1374299, 319),\n",
       " (6241150, 319),\n",
       " (2610077, 318),\n",
       " (411452, 317),\n",
       " (571876, 317),\n",
       " (918776, 315),\n",
       " (12182711, 314),\n",
       " (1845240, 312),\n",
       " (12901507, 311),\n",
       " (17342963, 310),\n",
       " (12621601, 310),\n",
       " (3290710, 309),\n",
       " (14208866, 309),\n",
       " (5532480, 307),\n",
       " (18260240, 306),\n",
       " (12079076, 305),\n",
       " (7691143, 304),\n",
       " (11689383, 303),\n",
       " (14287680, 302),\n",
       " (1164882, 302),\n",
       " (14146634, 302),\n",
       " (9753325, 301),\n",
       " (203174, 300),\n",
       " (7871285, 299),\n",
       " (896212, 299),\n",
       " (1050677, 299),\n",
       " (5577982, 299),\n",
       " (2739623, 298),\n",
       " (13842245, 298),\n",
       " (1931405, 298),\n",
       " (7859388, 296),\n",
       " (12922484, 294),\n",
       " (40149, 293),\n",
       " (11137204, 290),\n",
       " (1447443, 289),\n",
       " (6064808, 289),\n",
       " (14032896, 288),\n",
       " (6513276, 287)]"
      ]
     },
     "execution_count": 15,
     "metadata": {},
     "output_type": "execute_result"
    }
   ],
   "source": [
    "reviews_per_listing.most_common(100)"
   ]
  },
  {
   "cell_type": "code",
   "execution_count": null,
   "metadata": {},
   "outputs": [],
   "source": []
  }
 ],
 "metadata": {
  "kernelspec": {
   "display_name": "Python 3",
   "language": "python",
   "name": "python3"
  },
  "language_info": {
   "codemirror_mode": {
    "name": "ipython",
    "version": 3
   },
   "file_extension": ".py",
   "mimetype": "text/x-python",
   "name": "python",
   "nbconvert_exporter": "python",
   "pygments_lexer": "ipython3",
   "version": "3.6.8"
  }
 },
 "nbformat": 4,
 "nbformat_minor": 2
}
