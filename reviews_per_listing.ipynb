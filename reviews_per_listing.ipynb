{
 "cells": [
  {
   "cell_type": "code",
   "execution_count": 1,
   "metadata": {},
   "outputs": [],
   "source": [
    "import os\n",
    "import numpy as np\n",
    "import pandas as pd\n",
    "from time import time\n",
    "from utils import aspect_tools\n",
    "\n",
    "data_dir = \"/home/stavros/DATA/AirbnbReviews\"\n",
    "#data_dir = \"D:/\""
   ]
  },
  {
   "cell_type": "code",
   "execution_count": 3,
   "metadata": {},
   "outputs": [
    {
     "name": "stdout",
     "output_type": "stream",
     "text": [
      "(379118, 8)\n",
      "(294403, 8)\n"
     ]
    }
   ],
   "source": [
    "area_dir = os.path.join(data_dir, \"athens\")\n",
    "reviews = pd.read_pickle(os.path.join(area_dir, \"reviews_with_aspects_379118samples.pkl\"))\n",
    "print(reviews.shape)\n",
    "reviews = reviews[pd.notnull(reviews[\"listing_id\"])]\n",
    "reviews = reviews[pd.notnull(reviews[\"comments\"])]\n",
    "print(reviews.shape)"
   ]
  },
  {
   "cell_type": "code",
   "execution_count": 4,
   "metadata": {
    "scrolled": true
   },
   "outputs": [
    {
     "data": {
      "text/plain": [
       "1177492     554\n",
       "1079291     520\n",
       "2306865     507\n",
       "1484797     464\n",
       "3431705     464\n",
       "           ... \n",
       "34097757      1\n",
       "13617762      1\n",
       "24426143      1\n",
       "32656017      1\n",
       "19618064      1\n",
       "Name: listing_id, Length: 8731, dtype: int64"
      ]
     },
     "execution_count": 4,
     "metadata": {},
     "output_type": "execute_result"
    }
   ],
   "source": [
    "reviews[\"listing_id\"].value_counts()"
   ]
  },
  {
   "cell_type": "code",
   "execution_count": 5,
   "metadata": {},
   "outputs": [
    {
     "name": "stdout",
     "output_type": "stream",
     "text": [
      "(554, 8)\n"
     ]
    }
   ],
   "source": [
    "top_listing_reviews = reviews[reviews[\"listing_id\"] == 1177492]\n",
    "print(top_listing_reviews.shape)"
   ]
  },
  {
   "cell_type": "code",
   "execution_count": 11,
   "metadata": {},
   "outputs": [
    {
     "data": {
      "text/plain": [
       "538"
      ]
     },
     "execution_count": 11,
     "metadata": {},
     "output_type": "execute_result"
    }
   ],
   "source": [
    "(top_listing_reviews[\"aspects\"].map(lambda x: len(x) > 0)).sum()"
   ]
  },
  {
   "cell_type": "code",
   "execution_count": 25,
   "metadata": {},
   "outputs": [],
   "source": [
    "import collections\n",
    "all_listing_aspects = collections.Counter()\n",
    "for aspects in top_listing_reviews.aspects:\n",
    "    for phrase, score in aspects.items():\n",
    "        to_add = 2 * int(score > 0) - 1\n",
    "        for word in phrase.split(\" \"):\n",
    "            all_listing_aspects[word] += to_add"
   ]
  },
  {
   "cell_type": "code",
   "execution_count": 26,
   "metadata": {},
   "outputs": [],
   "source": [
    "negative_listing_aspects = collections.Counter({k: -v for k, v in all_listing_aspects.items() if v < 0})"
   ]
  },
  {
   "cell_type": "code",
   "execution_count": 27,
   "metadata": {
    "scrolled": true
   },
   "outputs": [
    {
     "data": {
      "text/plain": [
       "[('issues', 5),\n",
       " ('break', 5),\n",
       " ('stairs', 3),\n",
       " ('problem', 3),\n",
       " ('trouble', 3),\n",
       " ('ferry', 2),\n",
       " ('strike', 2),\n",
       " ('steps', 2),\n",
       " ('mobility', 2),\n",
       " ('ruins', 2),\n",
       " ('problems', 2),\n",
       " ('bug', 2),\n",
       " ('event', 1),\n",
       " ('city', 1),\n",
       " ('traffic', 1),\n",
       " ('noise', 1),\n",
       " ('difficulties', 1),\n",
       " ('mishap', 1),\n",
       " ('ordeal', 1),\n",
       " ('photos', 1),\n",
       " ('lightning', 1),\n",
       " ('transportation', 1),\n",
       " ('heat', 1),\n",
       " ('steal', 1),\n",
       " ('word', 1),\n",
       " ('difficulty', 1),\n",
       " ('drawbacks', 1),\n",
       " ('lemon', 1),\n",
       " ('nothing', 1),\n",
       " ('plaka', 1),\n",
       " ('drawback', 1),\n",
       " ('points', 1),\n",
       " ('shame', 1),\n",
       " ('case', 1),\n",
       " ('accessibility', 1),\n",
       " ('concerns', 1),\n",
       " ('worry', 1),\n",
       " ('cons', 1),\n",
       " ('struggles', 1),\n",
       " ('niggles', 1),\n",
       " ('tiring', 1),\n",
       " ('close', 1),\n",
       " ('mintue', 1),\n",
       " ('taxis', 1),\n",
       " ('flight', 1),\n",
       " ('noisy', 1),\n",
       " ('shamelessness', 1),\n",
       " ('consequences', 1),\n",
       " ('staircase', 1),\n",
       " ('signage', 1),\n",
       " ('travel', 1),\n",
       " ('meals', 1),\n",
       " ('staff', 1),\n",
       " ('menu', 1),\n",
       " ('none', 1),\n",
       " ('baby', 1),\n",
       " ('cockroach', 1),\n",
       " ('bottle', 1),\n",
       " ('traveller', 1),\n",
       " ('dog', 1),\n",
       " ('enjoyable', 1),\n",
       " ('downside', 1),\n",
       " ('sink', 1),\n",
       " ('boil', 1),\n",
       " ('pillows', 1),\n",
       " ('schedules', 1),\n",
       " ('tanks', 1),\n",
       " ('inconvenience', 1)]"
      ]
     },
     "execution_count": 27,
     "metadata": {},
     "output_type": "execute_result"
    }
   ],
   "source": [
    "negative_listing_aspects.most_common()"
   ]
  },
  {
   "cell_type": "code",
   "execution_count": 17,
   "metadata": {},
   "outputs": [
    {
     "name": "stdout",
     "output_type": "stream",
     "text": [
      "(92, 8)\n"
     ]
    }
   ],
   "source": [
    "def has_negative_aspect(aspects):\n",
    "    for v in aspects.values():\n",
    "        if v < 0:\n",
    "            return True\n",
    "    return False\n",
    "\n",
    "negative_comments = top_listing_reviews[top_listing_reviews[\"aspects\"].map(has_negative_aspect)]\n",
    "print(negative_comments.shape)"
   ]
  },
  {
   "cell_type": "code",
   "execution_count": 36,
   "metadata": {},
   "outputs": [],
   "source": [
    "def make_word_aspects(aspects):\n",
    "    new_aspects = collections.Counter()\n",
    "    for aspect, score in aspects.items():\n",
    "        for word in aspect.split(\" \"):\n",
    "            new_aspects[word] = score\n",
    "    return new_aspects"
   ]
  },
  {
   "cell_type": "code",
   "execution_count": 37,
   "metadata": {},
   "outputs": [
    {
     "name": "stderr",
     "output_type": "stream",
     "text": [
      "/home/stavros/PythonEvironments/nlp-env/lib/python3.6/site-packages/ipykernel_launcher.py:1: SettingWithCopyWarning: \n",
      "A value is trying to be set on a copy of a slice from a DataFrame.\n",
      "Try using .loc[row_indexer,col_indexer] = value instead\n",
      "\n",
      "See the caveats in the documentation: http://pandas.pydata.org/pandas-docs/stable/user_guide/indexing.html#returning-a-view-versus-a-copy\n",
      "  \"\"\"Entry point for launching an IPython kernel.\n"
     ]
    }
   ],
   "source": [
    "top_listing_reviews[\"word_aspects\"] = top_listing_reviews[\"aspects\"].map(make_word_aspects)"
   ]
  },
  {
   "cell_type": "code",
   "execution_count": 48,
   "metadata": {},
   "outputs": [
    {
     "data": {
      "text/html": [
       "<div>\n",
       "<style scoped>\n",
       "    .dataframe tbody tr th:only-of-type {\n",
       "        vertical-align: middle;\n",
       "    }\n",
       "\n",
       "    .dataframe tbody tr th {\n",
       "        vertical-align: top;\n",
       "    }\n",
       "\n",
       "    .dataframe thead th {\n",
       "        text-align: right;\n",
       "    }\n",
       "</style>\n",
       "<table border=\"1\" class=\"dataframe\">\n",
       "  <thead>\n",
       "    <tr style=\"text-align: right;\">\n",
       "      <th></th>\n",
       "      <th>listing_id</th>\n",
       "      <th>id</th>\n",
       "      <th>date</th>\n",
       "      <th>reviewer_id</th>\n",
       "      <th>reviewer_name</th>\n",
       "      <th>comments</th>\n",
       "      <th>processed_comments</th>\n",
       "      <th>aspects</th>\n",
       "      <th>word_aspects</th>\n",
       "    </tr>\n",
       "  </thead>\n",
       "  <tbody>\n",
       "    <tr>\n",
       "      <th>245412</th>\n",
       "      <td>1177492</td>\n",
       "      <td>174520205</td>\n",
       "      <td>2017-07-26</td>\n",
       "      <td>32385519</td>\n",
       "      <td>Heather</td>\n",
       "      <td>We unfortunately only spent one of three night...</td>\n",
       "      <td>We unfortunately only spent one of three night...</td>\n",
       "      <td>{'bug': -1, 'baby cockroach': -1, 'location': ...</td>\n",
       "      <td>{'bug': -1, 'baby': -1, 'cockroach': -1, 'loca...</td>\n",
       "    </tr>\n",
       "  </tbody>\n",
       "</table>\n",
       "</div>"
      ],
      "text/plain": [
       "       listing_id         id        date reviewer_id reviewer_name  \\\n",
       "245412    1177492  174520205  2017-07-26    32385519       Heather   \n",
       "\n",
       "                                                 comments  \\\n",
       "245412  We unfortunately only spent one of three night...   \n",
       "\n",
       "                                       processed_comments  \\\n",
       "245412  We unfortunately only spent one of three night...   \n",
       "\n",
       "                                                  aspects  \\\n",
       "245412  {'bug': -1, 'baby cockroach': -1, 'location': ...   \n",
       "\n",
       "                                             word_aspects  \n",
       "245412  {'bug': -1, 'baby': -1, 'cockroach': -1, 'loca...  "
      ]
     },
     "execution_count": 48,
     "metadata": {},
     "output_type": "execute_result"
    }
   ],
   "source": [
    "top_listing_reviews[top_listing_reviews[\"word_aspects\"].map(lambda x: \"cockroach\" in x)]"
   ]
  },
  {
   "cell_type": "code",
   "execution_count": 50,
   "metadata": {},
   "outputs": [
    {
     "data": {
      "text/plain": [
       "'We unfortunately only spent one of three nights that we had planned at this apartment. We found two live cockroaches in the bathroom, and then a dead bug in the bed which strongly resembled photos of bedbugs. (We also both had bites after our stay). While bedbugs can happen anywhere, it was very concerning to me that the host did not take the situation seriously. He claimed the bug was a baby cockroach, and offered no type of solution for either type of bug.\\n\\nThe apartment was in a great location, on a quiet street, and Rio was quick to answer our messages. If he deals with the bug issues, this would be a nice apartment to stay in. Unfortunately, that is the best review I can give.\\n\\n(It should be noted that Rio gave a full refund for the two nights which we did not stay (but not for the first night). However, we lost a half day of our vacation in Athens, spent at the laundromat washing our things.)'"
      ]
     },
     "execution_count": 50,
     "metadata": {},
     "output_type": "execute_result"
    }
   ],
   "source": [
    "top_listing_reviews.loc[245412][\"comments\"]"
   ]
  },
  {
   "cell_type": "code",
   "execution_count": null,
   "metadata": {},
   "outputs": [],
   "source": []
  }
 ],
 "metadata": {
  "kernelspec": {
   "display_name": "Python 3",
   "language": "python",
   "name": "python3"
  },
  "language_info": {
   "codemirror_mode": {
    "name": "ipython",
    "version": 3
   },
   "file_extension": ".py",
   "mimetype": "text/x-python",
   "name": "python",
   "nbconvert_exporter": "python",
   "pygments_lexer": "ipython3",
   "version": "3.6.8"
  }
 },
 "nbformat": 4,
 "nbformat_minor": 2
}
