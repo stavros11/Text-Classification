{
 "cells": [
  {
   "cell_type": "code",
   "execution_count": 44,
   "metadata": {},
   "outputs": [],
   "source": [
    "import os\n",
    "import collections\n",
    "import numpy as np\n",
    "import pandas as pd\n",
    "from time import time\n",
    "\n",
    "import plotly.graph_objects as go\n",
    "from plotly.subplots import make_subplots\n",
    "\n",
    "data_dir = \"/home/stavros/DATA/TripAdvisorReviews\""
   ]
  },
  {
   "cell_type": "code",
   "execution_count": 14,
   "metadata": {},
   "outputs": [],
   "source": [
    "hotel_dir = os.path.join(data_dir, \"kresten_royal/the_kresten_royal_villas_1747reviews_withaspects\")\n",
    "data = containers.DataAspects.load(data_dir=hotel_dir)"
   ]
  },
  {
   "cell_type": "code",
   "execution_count": 7,
   "metadata": {},
   "outputs": [],
   "source": [
    "import gensim\n",
    "google_vec_file = os.path.join(\"/home/stavros/DATA/GoogleNews-vectors-negative300.bin.gz\")\n",
    "word2vec = gensim.models.KeyedVectors.load_word2vec_format(google_vec_file, binary=True, limit=200000)"
   ]
  },
  {
   "cell_type": "code",
   "execution_count": 8,
   "metadata": {},
   "outputs": [],
   "source": [
    "categories = [\"location\", \"cleanliness\", \"service\", \"value\"]"
   ]
  },
  {
   "cell_type": "code",
   "execution_count": 9,
   "metadata": {},
   "outputs": [
    {
     "name": "stdout",
     "output_type": "stream",
     "text": [
      "True\n",
      "True\n",
      "True\n",
      "True\n"
     ]
    }
   ],
   "source": [
    "for cat in categories:\n",
    "    print(cat in word2vec)"
   ]
  },
  {
   "cell_type": "code",
   "execution_count": 32,
   "metadata": {},
   "outputs": [
    {
     "name": "stdout",
     "output_type": "stream",
     "text": [
      "1829 890\n"
     ]
    }
   ],
   "source": [
    "single_words = set(word for word in data.container.words if len(word.split(\" \")) == 1)\n",
    "more_words = set(word for word in data.container.words if len(word.split(\" \")) > 1)\n",
    "print(len(single_words), len(more_words))"
   ]
  },
  {
   "cell_type": "code",
   "execution_count": 33,
   "metadata": {},
   "outputs": [
    {
     "name": "stdout",
     "output_type": "stream",
     "text": [
      "2203\n"
     ]
    }
   ],
   "source": [
    "# Map from single words to phrase\n",
    "single_words_map = {}\n",
    "for phrase in data.container.words:\n",
    "    for word in phrase.split(\" \"):\n",
    "        single_words_map[word] = phrase\n",
    "print(len(single_words_map))"
   ]
  },
  {
   "cell_type": "code",
   "execution_count": 35,
   "metadata": {},
   "outputs": [
    {
     "name": "stdout",
     "output_type": "stream",
     "text": [
      "1911 2203\n",
      "0.867453472537449\n"
     ]
    }
   ],
   "source": [
    "ordered_words = [word for word in single_words_map.keys() if word in word2vec]\n",
    "print(len(ordered_words), len(single_words_map))\n",
    "print(len(ordered_words) / len(single_words_map))"
   ]
  },
  {
   "cell_type": "code",
   "execution_count": 38,
   "metadata": {},
   "outputs": [
    {
     "data": {
      "text/plain": [
       "(1911, 4)"
      ]
     },
     "execution_count": 38,
     "metadata": {},
     "output_type": "execute_result"
    }
   ],
   "source": [
    "categorical_distances = np.array([word2vec.distances(word, categories) for word in ordered_words])\n",
    "categorical_distances.shape"
   ]
  },
  {
   "cell_type": "code",
   "execution_count": 51,
   "metadata": {},
   "outputs": [
    {
     "data": {
      "text/plain": [
       "(array([0, 1, 2, 3]), array([491, 632, 392, 396]))"
      ]
     },
     "execution_count": 51,
     "metadata": {},
     "output_type": "execute_result"
    }
   ],
   "source": [
    "np.unique(categorical_distances.argmin(axis=-1), return_counts=True)"
   ]
  },
  {
   "cell_type": "code",
   "execution_count": 52,
   "metadata": {},
   "outputs": [
    {
     "name": "stdout",
     "output_type": "stream",
     "text": [
      "1911\n",
      "1777\n"
     ]
    }
   ],
   "source": [
    "word2cat = {word: categories[dist.argmin()] for word, dist in zip(ordered_words, categorical_distances)}\n",
    "print(len(word2cat))\n",
    "phrase2cat = {single_words_map[word]: cat for word, cat in word2cat.items()}\n",
    "print(len(phrase2cat))"
   ]
  },
  {
   "cell_type": "code",
   "execution_count": 68,
   "metadata": {},
   "outputs": [
    {
     "data": {
      "text/plain": [
       "'hotels location'"
      ]
     },
     "execution_count": 68,
     "metadata": {},
     "output_type": "execute_result"
    }
   ],
   "source": [
    "single_words_map[\"location\"]"
   ]
  },
  {
   "cell_type": "code",
   "execution_count": 53,
   "metadata": {},
   "outputs": [],
   "source": [
    "groups = {cat: collections.Counter({}) for cat in categories}\n",
    "for phrase, cat in phrase2cat.items():\n",
    "    groups[cat][phrase] = data.container.appearances[phrase]"
   ]
  },
  {
   "cell_type": "code",
   "execution_count": 65,
   "metadata": {},
   "outputs": [
    {
     "name": "stdout",
     "output_type": "stream",
     "text": [
      "location False\n",
      "cleanliness False\n",
      "service False\n",
      "value False\n"
     ]
    }
   ],
   "source": [
    "for k, group in groups.items():\n",
    "    print(k, \"location\" in group)"
   ]
  },
  {
   "cell_type": "code",
   "execution_count": 63,
   "metadata": {},
   "outputs": [
    {
     "data": {
      "text/plain": [
       "[('people', 82),\n",
       " ('massage', 45),\n",
       " ('job', 44),\n",
       " ('music', 28),\n",
       " ('upgrade', 25),\n",
       " ('meals', 21),\n",
       " ('work', 16),\n",
       " ('working', 11),\n",
       " ('reception area', 10),\n",
       " ('pizza', 8),\n",
       " ('hours', 7),\n",
       " ('sandwiches', 7),\n",
       " ('country', 7),\n",
       " ('helpful', 6),\n",
       " ('bread', 6),\n",
       " ('life', 6),\n",
       " ('system', 6),\n",
       " ('mobility problems', 6),\n",
       " ('bar tender', 6),\n",
       " ('voucher', 5),\n",
       " ('activities', 5),\n",
       " ('car hire', 5),\n",
       " ('songs', 5),\n",
       " ('reach', 5),\n",
       " ('greeting', 5),\n",
       " ('gentleman', 5),\n",
       " ('flight', 4),\n",
       " ('journey', 4),\n",
       " ('trips', 4),\n",
       " ('treatments', 4),\n",
       " ('policy', 4),\n",
       " ('gesture', 4),\n",
       " ('flights', 4),\n",
       " ('group', 4),\n",
       " ('courses', 4),\n",
       " ('vouchers', 4),\n",
       " ('thanks', 4),\n",
       " ('ride', 4),\n",
       " ('company', 4),\n",
       " ('credit', 4),\n",
       " ('reports', 4),\n",
       " ('buffet meals', 3),\n",
       " ('cuts', 3),\n",
       " ('effort', 3),\n",
       " ('supplies', 3),\n",
       " ('advice', 3),\n",
       " ('drive', 3),\n",
       " ('session', 3),\n",
       " ('worked', 3),\n",
       " ('scheme', 3),\n",
       " ('faces', 3),\n",
       " ('singles', 3),\n",
       " ('checkout', 3),\n",
       " ('bell boy', 3),\n",
       " ('second', 3),\n",
       " ('beverages', 3),\n",
       " ('wait', 3),\n",
       " ('workers', 3),\n",
       " ('customers', 3),\n",
       " ('fix', 3),\n",
       " ('swimmer', 3),\n",
       " ('jets', 2),\n",
       " ('pour', 2),\n",
       " ('shuttle', 2),\n",
       " ('rental', 2),\n",
       " ('call', 2),\n",
       " ('phone', 2),\n",
       " ('offerings', 2),\n",
       " ('bus connections', 2),\n",
       " ('games', 2),\n",
       " ('omelette', 2),\n",
       " ('cover', 2),\n",
       " ('pizzas', 2),\n",
       " ('tour', 2),\n",
       " ('reflection', 2),\n",
       " ('solution', 2),\n",
       " ('queues', 2),\n",
       " ('jobs', 2),\n",
       " ('channel', 2),\n",
       " ('robes', 2),\n",
       " ('thank', 2),\n",
       " ('hair dryer', 2),\n",
       " ('cut', 2),\n",
       " ('repair', 2),\n",
       " ('amazing', 2),\n",
       " ('half', 2),\n",
       " ('excursions', 2),\n",
       " ('employees', 2),\n",
       " ('charge', 2),\n",
       " ('personnel', 2),\n",
       " ('care', 2),\n",
       " ('massages', 2),\n",
       " ('speed', 2),\n",
       " ('transfers', 2),\n",
       " ('warning', 2),\n",
       " ('queue', 2),\n",
       " ('breads', 2),\n",
       " ('musicians', 2),\n",
       " ('operation', 2),\n",
       " ('climb', 2),\n",
       " ('taps', 2),\n",
       " ('supply', 2),\n",
       " ('guide', 2),\n",
       " ('offers', 2),\n",
       " ('cruise', 2),\n",
       " ('flowing', 2),\n",
       " ('apology', 2),\n",
       " ('act', 2),\n",
       " ('white', 2),\n",
       " ('conditioned', 2),\n",
       " ('others', 2),\n",
       " ('account', 2),\n",
       " ('rest', 2),\n",
       " ('chat', 2),\n",
       " ('two', 2),\n",
       " ('staff members', 1),\n",
       " ('eg', 1),\n",
       " ('la a carte', 1),\n",
       " ('delays', 1),\n",
       " ('fi connection', 1),\n",
       " ('buffet breakfast', 1),\n",
       " ('game nights', 1),\n",
       " ('employee', 1),\n",
       " ('listening', 1),\n",
       " ('stations', 1),\n",
       " ('staff communication', 1),\n",
       " ('affair', 1),\n",
       " ('week period', 1),\n",
       " ('get', 1),\n",
       " ('relationship', 1),\n",
       " ('professionals', 1),\n",
       " ('chats', 1),\n",
       " ('clients', 1),\n",
       " ('seeing', 1),\n",
       " ('requests', 1),\n",
       " ('worshipers', 1),\n",
       " ('submarine trip', 1),\n",
       " ('lounge', 1),\n",
       " ('black', 1),\n",
       " ('groups', 1),\n",
       " ('blues', 1),\n",
       " ('climbing', 1),\n",
       " ('trouser debacle', 1),\n",
       " ('promo room', 1),\n",
       " ('unacceptable', 1),\n",
       " ('versions', 1),\n",
       " ('massive problem', 1),\n",
       " ('specialist treatments', 1),\n",
       " ('first', 1),\n",
       " ('management support', 1),\n",
       " ('drink order', 1),\n",
       " ('private', 1),\n",
       " ('tv selection', 1),\n",
       " ('worry brunch', 1),\n",
       " ('missed', 1),\n",
       " ('min journey', 1),\n",
       " ('room refresh', 1),\n",
       " ('junior suite', 1),\n",
       " ('upgraded', 1),\n",
       " ('masseur', 1),\n",
       " ('operator', 1),\n",
       " ('anytime', 1),\n",
       " ('internet problems', 1),\n",
       " ('monday night', 1),\n",
       " ('greet lady', 1),\n",
       " ('chill complex', 1),\n",
       " ('bus stops', 1),\n",
       " ('breakfasts', 1),\n",
       " ('cleaning services', 1),\n",
       " ('table process', 1),\n",
       " ('lay', 1),\n",
       " ('spa guys', 1),\n",
       " ('buffet lunch', 1),\n",
       " ('comments food', 1),\n",
       " ('drink offering', 1),\n",
       " ('sessions', 1),\n",
       " ('rose', 1),\n",
       " ('acts- singers', 1),\n",
       " ('introduction', 1),\n",
       " ('fares', 1),\n",
       " ('refund', 1),\n",
       " ('smell attacks', 1),\n",
       " ('solutions', 1),\n",
       " ('ask', 1),\n",
       " ('staffing issue', 1),\n",
       " ('generous', 1),\n",
       " ('cables', 1),\n",
       " ('recommended', 1),\n",
       " ('clearing', 1),\n",
       " ('taxi strike', 1),\n",
       " ('staff reception member', 1),\n",
       " ('scuba diving', 1),\n",
       " ('version', 1),\n",
       " ('three star star', 1),\n",
       " ('cable', 1),\n",
       " ('booking problem', 1),\n",
       " ('broken', 1),\n",
       " ('classics', 1),\n",
       " ('sea access', 1),\n",
       " ('gent', 1),\n",
       " ('courtesy', 1),\n",
       " ('radio station', 1),\n",
       " ('train tour', 1),\n",
       " ('night shows', 1),\n",
       " ('tenders fault', 1),\n",
       " ('heart attack', 1),\n",
       " ('baby buggy', 1),\n",
       " ('leader', 1),\n",
       " ('lower', 1),\n",
       " ('commitment', 1),\n",
       " ('reservation', 1),\n",
       " ('water temp', 1),\n",
       " ('roll', 1),\n",
       " ('front', 1),\n",
       " ('mid bar afternoon', 1),\n",
       " ('playing', 1),\n",
       " ('old', 1),\n",
       " ('non', 1),\n",
       " ('revue', 1),\n",
       " ('phoning', 1),\n",
       " ('spar treatments', 1),\n",
       " ('customer training', 1),\n",
       " ('service customer disaster', 1),\n",
       " ('cuppa', 1),\n",
       " ('zorba dance', 1),\n",
       " ('dedication', 1),\n",
       " ('paul', 1),\n",
       " ('responses', 1),\n",
       " ('self drinks', 1),\n",
       " ('sundresses', 1),\n",
       " ('us tables', 1),\n",
       " ('go dont it', 1),\n",
       " ('dancers', 1),\n",
       " ('friendship', 1),\n",
       " ('reaching', 1),\n",
       " ('provision', 1),\n",
       " ('traffic noise', 1),\n",
       " ('users', 1),\n",
       " ('relief', 1),\n",
       " ('arms', 1),\n",
       " ('rizos cruises', 1),\n",
       " ('program', 1),\n",
       " ('vehicles', 1),\n",
       " ('lady greeters', 1),\n",
       " ('conditioning units', 1),\n",
       " ('boxes', 1),\n",
       " ('thomson holidays', 1),\n",
       " ('heart beat', 1),\n",
       " ('advert', 1),\n",
       " ('tennis courts', 1),\n",
       " ('inclusive cocktails', 1),\n",
       " ('half board', 1),\n",
       " ('news channels', 1),\n",
       " ('knowledgeable', 1),\n",
       " ('beach h', 1),\n",
       " ('u', 1),\n",
       " ('transport system', 1),\n",
       " ('fixed', 1),\n",
       " ('special', 1),\n",
       " ('initiatives', 1),\n",
       " ('horror stories', 1),\n",
       " ('descent', 1),\n",
       " ('conversations', 1),\n",
       " ('remarks', 1),\n",
       " ('hearts', 1),\n",
       " ('efforts', 1),\n",
       " ('array', 1),\n",
       " ('product', 1),\n",
       " ('run', 1),\n",
       " ('couples massage', 1),\n",
       " ('pool arrears', 1),\n",
       " ('relationships', 1),\n",
       " ('becasue', 1),\n",
       " ('smith machine', 1),\n",
       " ('masters', 1),\n",
       " ('gettin drinks', 1),\n",
       " ('driving', 1),\n",
       " ('match', 1),\n",
       " ('emails', 1),\n",
       " ('servicing table process', 1),\n",
       " ('practice', 1),\n",
       " ('1st impressions', 1),\n",
       " ('companies', 1),\n",
       " ('cross word', 1),\n",
       " ('v', 1),\n",
       " ('travel representatives', 1),\n",
       " ('adults', 1),\n",
       " ('free internet', 1),\n",
       " ('promises', 1),\n",
       " ('bar crew', 1),\n",
       " ('wireless', 1),\n",
       " ('travelers', 1),\n",
       " ('competent', 1),\n",
       " ('tune', 1),\n",
       " ('engagement', 1),\n",
       " ('mini donuts', 1),\n",
       " ('report', 1),\n",
       " ('worker', 1),\n",
       " ('meet', 1),\n",
       " ('banks', 1),\n",
       " ('duty', 1),\n",
       " ('bingo', 1),\n",
       " ('line', 1),\n",
       " ('gone', 1),\n",
       " ('ups', 1),\n",
       " ('pleased', 1),\n",
       " ('oldies', 1),\n",
       " ('exercises', 1),\n",
       " ('timeshare scam', 1),\n",
       " ('talks', 1),\n",
       " ('local', 1),\n",
       " ('oversight', 1),\n",
       " ('superb', 1),\n",
       " ('last', 1),\n",
       " ('sad', 1),\n",
       " ('chinese', 1),\n",
       " ('conversation', 1),\n",
       " ('tipple', 1),\n",
       " ('godson', 1),\n",
       " ('kick', 1),\n",
       " ('fellow', 1),\n",
       " ('excursion', 1),\n",
       " ('queuing', 1),\n",
       " ('hrs', 1),\n",
       " ('surcharge', 1),\n",
       " ('business', 1),\n",
       " ('notices', 1),\n",
       " ('quests', 1),\n",
       " ('adult evening entertainment', 1),\n",
       " ('adult breaks', 1),\n",
       " ('steam', 1),\n",
       " ('excuse', 1),\n",
       " ('major problem', 1),\n",
       " ('rhodes drivers', 1),\n",
       " ('without', 1),\n",
       " ('spaghetti', 1),\n",
       " ('newspapers', 1),\n",
       " ('microwave', 1),\n",
       " ('movies', 1),\n",
       " ('hotel response', 1),\n",
       " ('restaurant recommendation', 1),\n",
       " ('play', 1),\n",
       " ('welcoming', 1),\n",
       " ('reply', 1),\n",
       " ('athe lead', 1),\n",
       " ('workout', 1),\n",
       " ('mixers', 1),\n",
       " ('demonstration', 1),\n",
       " ('chase', 1),\n",
       " ('guitar', 1),\n",
       " ('fir slog', 1),\n",
       " ('catering', 1),\n",
       " ('left', 1),\n",
       " ('wonderful', 1),\n",
       " ('function', 1),\n",
       " ('vacations', 1),\n",
       " ('professional', 1),\n",
       " ('musician', 1),\n",
       " ('passengers', 1),\n",
       " ('full', 1)]"
      ]
     },
     "execution_count": 63,
     "metadata": {},
     "output_type": "execute_result"
    }
   ],
   "source": [
    "groups[\"service\"].most_common()"
   ]
  },
  {
   "cell_type": "code",
   "execution_count": null,
   "metadata": {},
   "outputs": [],
   "source": []
  }
 ],
 "metadata": {
  "kernelspec": {
   "display_name": "Python 3",
   "language": "python",
   "name": "python3"
  },
  "language_info": {
   "codemirror_mode": {
    "name": "ipython",
    "version": 3
   },
   "file_extension": ".py",
   "mimetype": "text/x-python",
   "name": "python",
   "nbconvert_exporter": "python",
   "pygments_lexer": "ipython3",
   "version": "3.6.8"
  }
 },
 "nbformat": 4,
 "nbformat_minor": 2
}
