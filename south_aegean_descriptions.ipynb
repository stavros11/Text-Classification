{
 "cells": [
  {
   "cell_type": "code",
   "execution_count": 2,
   "metadata": {},
   "outputs": [],
   "source": [
    "import os\n",
    "import numpy as np\n",
    "import pandas as pd\n",
    "from time import time\n",
    "from utils import custom_preprocessing, dependencies\n",
    "\n",
    "data_dir = \"/home/stavros/DATA/AirbnbReviews\"\n",
    "#data_dir = \"D:/\""
   ]
  },
  {
   "cell_type": "code",
   "execution_count": 3,
   "metadata": {},
   "outputs": [
    {
     "name": "stderr",
     "output_type": "stream",
     "text": [
      "/home/stavros/PythonEvironments/neuralcoref-env/lib/python3.6/site-packages/IPython/core/interactiveshell.py:3058: DtypeWarning: Columns (61,62) have mixed types. Specify dtype option on import or set low_memory=False.\n",
      "  interactivity=interactivity, compiler=compiler, result=result)\n"
     ]
    },
    {
     "name": "stdout",
     "output_type": "stream",
     "text": [
      "(285025, 6)\n",
      "(22897, 106)\n",
      "(285025, 6)\n"
     ]
    }
   ],
   "source": [
    "area = \"south_aegean\"\n",
    "area_dir = os.path.join(data_dir, area)\n",
    "\n",
    "listings = pd.read_csv(os.path.join(area_dir, \"listings.csv.gz\"))\n",
    "reviews = pd.read_csv(os.path.join(area_dir, \"reviews.csv.gz\"))\n",
    "print(reviews.shape)\n",
    "print(listings.shape)\n",
    "\n",
    "clean_reviews = reviews[pd.notnull(reviews.comments)]\n",
    "print(reviews.shape)"
   ]
  },
  {
   "cell_type": "code",
   "execution_count": 4,
   "metadata": {},
   "outputs": [
    {
     "name": "stdout",
     "output_type": "stream",
     "text": [
      "id\n",
      "listing_url\n",
      "scrape_id\n",
      "last_scraped\n",
      "name\n",
      "summary\n",
      "space\n",
      "description\n",
      "experiences_offered\n",
      "neighborhood_overview\n",
      "notes\n",
      "transit\n",
      "access\n",
      "interaction\n",
      "house_rules\n",
      "thumbnail_url\n",
      "medium_url\n",
      "picture_url\n",
      "xl_picture_url\n",
      "host_id\n",
      "host_url\n",
      "host_name\n",
      "host_since\n",
      "host_location\n",
      "host_about\n",
      "host_response_time\n",
      "host_response_rate\n",
      "host_acceptance_rate\n",
      "host_is_superhost\n",
      "host_thumbnail_url\n",
      "host_picture_url\n",
      "host_neighbourhood\n",
      "host_listings_count\n",
      "host_total_listings_count\n",
      "host_verifications\n",
      "host_has_profile_pic\n",
      "host_identity_verified\n",
      "street\n",
      "neighbourhood\n",
      "neighbourhood_cleansed\n",
      "neighbourhood_group_cleansed\n",
      "city\n",
      "state\n",
      "zipcode\n",
      "market\n",
      "smart_location\n",
      "country_code\n",
      "country\n",
      "latitude\n",
      "longitude\n",
      "is_location_exact\n",
      "property_type\n",
      "room_type\n",
      "accommodates\n",
      "bathrooms\n",
      "bedrooms\n",
      "beds\n",
      "bed_type\n",
      "amenities\n",
      "square_feet\n",
      "price\n",
      "weekly_price\n",
      "monthly_price\n",
      "security_deposit\n",
      "cleaning_fee\n",
      "guests_included\n",
      "extra_people\n",
      "minimum_nights\n",
      "maximum_nights\n",
      "minimum_minimum_nights\n",
      "maximum_minimum_nights\n",
      "minimum_maximum_nights\n",
      "maximum_maximum_nights\n",
      "minimum_nights_avg_ntm\n",
      "maximum_nights_avg_ntm\n",
      "calendar_updated\n",
      "has_availability\n",
      "availability_30\n",
      "availability_60\n",
      "availability_90\n",
      "availability_365\n",
      "calendar_last_scraped\n",
      "number_of_reviews\n",
      "number_of_reviews_ltm\n",
      "first_review\n",
      "last_review\n",
      "review_scores_rating\n",
      "review_scores_accuracy\n",
      "review_scores_cleanliness\n",
      "review_scores_checkin\n",
      "review_scores_communication\n",
      "review_scores_location\n",
      "review_scores_value\n",
      "requires_license\n",
      "license\n",
      "jurisdiction_names\n",
      "instant_bookable\n",
      "is_business_travel_ready\n",
      "cancellation_policy\n",
      "require_guest_profile_picture\n",
      "require_guest_phone_verification\n",
      "calculated_host_listings_count\n",
      "calculated_host_listings_count_entire_homes\n",
      "calculated_host_listings_count_private_rooms\n",
      "calculated_host_listings_count_shared_rooms\n",
      "reviews_per_month\n"
     ]
    }
   ],
   "source": [
    "for column in listings.columns:\n",
    "    print(column)"
   ]
  },
  {
   "cell_type": "code",
   "execution_count": 12,
   "metadata": {},
   "outputs": [
    {
     "data": {
      "text/plain": [
       "(Phone number hidden by Airbnb)                                                                                                                                                                                                                                                                                                                                                                                                                                                                                        215\n",
       "(PHONE NUMBER HIDDEN)                                                                                                                                                                                                                                                                                                                                                                                                                                                                                                   75\n",
       "Please find bellow some useful information: •In order to assist you better, please let me know your scheduled time of arrival as soon as possible. Also, in case of any delay, please let us know. • In order to get a key and exact accommodation location details, upon arrival all customers must pass by my agency. •There is NO reception at the complex and no street names on the island. *** FROM OUR OFFICE YOU CAN RENT A CAR or A SCOOTER, BOOK A BOAT TOUR AROUND MILOS or LOCAL CUISINE COOKING LESSON     54\n",
       "Greece Overnight Stay Tax From 1 January 2018, you’ll need to pay an Overnight Stay Tax which has been introduced by the Greek Ministry of Tourism and aims to enhance the State’s revenue in the context of the current fiscal adjustment programme. This will be collected from you when you get to your accommodation. The tax works 0.50 Euros per night. Payment can be made by cash.                                                                                                                              30\n",
       "Adult Only                                                                                                                                                                                                                                                                                                                                                                                                                                                                                                              28\n",
       "                                                                                                                                                                                                                                                                                                                                                                                                                                                                                                                      ... \n",
       "Wireless internet is available in all areas of the villa. However, please note that during high season at peak hours internet speed may be reduced.                                                                                                                                                                                                                                                                                                                                                                      1\n",
       "Carbonaki Hotel has been assessed and registered against the provisions of ISO (Phone number hidden by Airbnb) of international standards Hotel Services                                                                                                                                                                                                                                                                                                                                                                 1\n",
       "The ground floor apartment, has its own entrance,offering total privacy to groups of people who travel together.                                                                                                                                                                                                                                                                                                                                                                                                         1\n",
       "I will be meeting guests at the port of Kea and taking them to the villa. Baby sitting can be arranged.  If guests wish I can book their ferry boat tickets for them, help find a car or scooter to rent. Suggest restaurants,supermarkets, cafes and bars. I can also help them rent a boat (with a skipper) to go round the island. I can also help them arrange to go scuba diving if they wish. If a chef is required for a home cooked Greek meal or a BBQ night, I can arrange it for the guests.                  1\n",
       "Wi Fi   - MARGARITA  PASSWORD: WELCOME2018                                                                                                                                                                                                                                                                                                                                                                                                                                                                               1\n",
       "Name: notes, Length: 6062, dtype: int64"
      ]
     },
     "execution_count": 12,
     "metadata": {},
     "output_type": "execute_result"
    }
   ],
   "source": [
    "listings[\"notes\"].value_counts()"
   ]
  },
  {
   "cell_type": "code",
   "execution_count": null,
   "metadata": {},
   "outputs": [],
   "source": []
  }
 ],
 "metadata": {
  "kernelspec": {
   "display_name": "Python 3",
   "language": "python",
   "name": "python3"
  },
  "language_info": {
   "codemirror_mode": {
    "name": "ipython",
    "version": 3
   },
   "file_extension": ".py",
   "mimetype": "text/x-python",
   "name": "python",
   "nbconvert_exporter": "python",
   "pygments_lexer": "ipython3",
   "version": "3.6.8"
  }
 },
 "nbformat": 4,
 "nbformat_minor": 2
}
