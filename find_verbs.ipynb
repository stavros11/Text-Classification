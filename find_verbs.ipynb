{
 "cells": [
  {
   "cell_type": "code",
   "execution_count": 2,
   "metadata": {},
   "outputs": [],
   "source": [
    "import os\n",
    "import collections\n",
    "import re\n",
    "import json\n",
    "import spacy\n",
    "import pandas as pd\n",
    "data_dir = \"/home/stavros/DATA/TripAdvisorReviews/kresten_palace_hotel_&_wellness'\""
   ]
  },
  {
   "cell_type": "code",
   "execution_count": 3,
   "metadata": {
    "scrolled": true
   },
   "outputs": [
    {
     "name": "stdout",
     "output_type": "stream",
     "text": [
      "(365, 24)\n",
      "Index(['id', 'absoluteUrl', 'createdDate', 'publishedDate', 'locationId',\n",
      "       'originalLanguage', 'language', 'stayDate', 'tripType', 'helpfulVotes',\n",
      "       'title', 'text', 'rating', 'additionalRatings', 'username', 'userId',\n",
      "       'user_hometownId', 'user_hometownName', 'response_id',\n",
      "       'response_publishedDate', 'response_language', 'response_username',\n",
      "       'response_connectionToSubject', 'response_text'],\n",
      "      dtype='object')\n"
     ]
    },
    {
     "data": {
      "text/plain": [
       "2019    86\n",
       "2016    48\n",
       "2018    47\n",
       "2017    45\n",
       "2015    41\n",
       "2014    29\n",
       "2012    20\n",
       "2011    14\n",
       "2013    13\n",
       "2010     8\n",
       "2005     5\n",
       "2006     3\n",
       "2007     2\n",
       "2008     1\n",
       "2009     1\n",
       "2004     1\n",
       "2003     1\n",
       "Name: publishedDate, dtype: int64"
      ]
     },
     "execution_count": 3,
     "metadata": {},
     "output_type": "execute_result"
    }
   ],
   "source": [
    "data = pd.read_csv(os.path.join(data_dir, \"kresten_palace_hotel_&_wellness'_365reviews.csv\"))\n",
    "print(data.shape)\n",
    "print(data.columns)\n",
    "\n",
    "published_year = data.publishedDate.apply(lambda x: x.split(\"-\")[0])\n",
    "published_year.value_counts()"
   ]
  },
  {
   "cell_type": "markdown",
   "metadata": {},
   "source": [
    "Expand contractions"
   ]
  },
  {
   "cell_type": "code",
   "execution_count": 4,
   "metadata": {},
   "outputs": [],
   "source": [
    "_CMAP_DIR = os.path.join(\"/home/stavros/GitHub/Review-Aspects-App/nlptools\", \"contractions.txt\")\n",
    "with open(_CMAP_DIR, \"r\") as file:\n",
    "  _CMAP = json.load(file)\n",
    "\n",
    "\n",
    "def expand_contractions(text, contraction_mapping=_CMAP):\n",
    "  contractions_pattern = re.compile('({})'.format('|'.join(\n",
    "      contraction_mapping.keys())), flags=re.IGNORECASE|re.DOTALL)\n",
    "\n",
    "  def expand_match(contraction):\n",
    "    match = contraction.group(0)\n",
    "    first_char = match[0]\n",
    "    if contraction_mapping.get(match):\n",
    "      expanded_contraction = contraction_mapping.get(match)\n",
    "    else:\n",
    "      expanded_contraction = contraction_mapping.get(match.lower())\n",
    "    expanded_contraction = first_char+expanded_contraction[1:]\n",
    "    return expanded_contraction\n",
    "\n",
    "  expanded_text = contractions_pattern.sub(expand_match, text)\n",
    "  expanded_text = re.sub(\"'s\", \"\", expanded_text)\n",
    "  expanded_text = re.sub(\"'\", \"\", expanded_text)\n",
    "  return expanded_text"
   ]
  },
  {
   "cell_type": "code",
   "execution_count": 5,
   "metadata": {},
   "outputs": [],
   "source": [
    "expanded_text = data.text.apply(lambda x: expand_contractions(x))"
   ]
  },
  {
   "cell_type": "markdown",
   "metadata": {},
   "source": [
    "Define stop word and special character sets"
   ]
  },
  {
   "cell_type": "code",
   "execution_count": 6,
   "metadata": {},
   "outputs": [
    {
     "data": {
      "text/plain": [
       "305"
      ]
     },
     "execution_count": 6,
     "metadata": {},
     "output_type": "execute_result"
    }
   ],
   "source": [
    "STOP_WORDS = set(\n",
    "    \"\"\"\n",
    "a about above across after afterwards again against all almost alone along\n",
    "already also although always am among amongst amount an and another any anyhow\n",
    "anyone anything anyway anywhere are around as at\n",
    "back be became because become becomes becoming been before beforehand behind\n",
    "being below beside besides between beyond both bottom but by\n",
    "call can cannot ca could\n",
    "did do does doing done down due during\n",
    "each eight either eleven else elsewhere empty enough even ever every\n",
    "everyone everything everywhere except\n",
    "few fifteen fifty first five for former formerly forty four from front full\n",
    "further\n",
    "get give go\n",
    "had has have he hence her here hereafter hereby herein hereupon hers herself\n",
    "him himself his how however hundred\n",
    "i if in indeed into is it its itself\n",
    "keep\n",
    "last latter latterly least less\n",
    "just\n",
    "made make many may me meanwhile might mine more moreover most mostly move much\n",
    "must my myself\n",
    "name namely neither never nevertheless next nine no nobody none noone nor not\n",
    "nothing now nowhere\n",
    "of off often on once one only onto or other others otherwise our ours ourselves\n",
    "out over own\n",
    "part per perhaps please put\n",
    "quite\n",
    "rather re really regarding\n",
    "same say see seem seemed seeming seems serious several she should show side\n",
    "since six sixty so some somehow someone something sometime sometimes somewhere\n",
    "still such\n",
    "take ten than that the their them themselves then thence there thereafter\n",
    "thereby therefore therein thereupon these they third this those though three\n",
    "through throughout thru thus to together too top toward towards twelve twenty\n",
    "two\n",
    "under until up unless upon us used using\n",
    "various very very via was we well were what whatever when whence whenever where\n",
    "whereafter whereas whereby wherein whereupon wherever whether which while\n",
    "whither who whoever whole whom whose why will with within without would\n",
    "yet you your yours yourself yourselves\n",
    "\"\"\".split()\n",
    ")\n",
    "len(STOP_WORDS)"
   ]
  },
  {
   "cell_type": "code",
   "execution_count": 7,
   "metadata": {},
   "outputs": [
    {
     "name": "stdout",
     "output_type": "stream",
     "text": [
      "{'', '  ', ' ', '\\n\\n\\n\\n', '\\n\\n\\n', '    ', '-', '\\n\\n', '/', '!', '&', ';', ',', '(', ')', '?', '   ', '\\n', '_', ':', '.', '...', '\"'}\n"
     ]
    }
   ],
   "source": [
    "SPECIAL_CHARS = set('.,!?/\\n;\" ()-_&:')\n",
    "for n in range(5): SPECIAL_CHARS.add(n * '\\n')\n",
    "for n in range(5): SPECIAL_CHARS.add(n * ' ')\n",
    "SPECIAL_CHARS.add(\"...\")\n",
    "print(SPECIAL_CHARS)\n",
    "\n",
    "INVALID_TOKENS = STOP_WORDS | SPECIAL_CHARS"
   ]
  },
  {
   "cell_type": "markdown",
   "metadata": {},
   "source": [
    "Apply spacy"
   ]
  },
  {
   "cell_type": "code",
   "execution_count": 8,
   "metadata": {},
   "outputs": [],
   "source": [
    "nlp = spacy.load('en_core_web_sm')\n",
    "processed_text = list(nlp.pipe(expanded_text))"
   ]
  },
  {
   "cell_type": "code",
   "execution_count": 14,
   "metadata": {},
   "outputs": [
    {
     "name": "stdout",
     "output_type": "stream",
     "text": [
      "Paid [Paid, for, a, sea, view, or, garden, view, ,, got, a, ground, floor, room, facing, trees, with, a, road, behind, .]\n",
      "got [got, a, ground, floor, room, facing, trees, with, a, road, behind]\n",
      "facing [facing, trees, with, a, road, behind]\n",
      "sticking [sticking, out, and, air, con]\n",
      "working [was, not, working]\n",
      "Would [Would]\n",
      "move [Would, not, move, us, to, another, room, because, they, said, they, had, closed, down, most, of, the, hotel, as, it, was, end, of, the, season, .]\n",
      "said [because, they, said, they, had, closed, down, most, of, the, hotel, as, it, was, end, of, the, season]\n",
      "closed [they, had, closed, down, most, of, the, hotel, as, it, was, end, of, the, season]\n",
      "sort [to, sort, out, the, bed, and, and, air, con]\n",
      "cleaned [The, room, was, cleaned, well, every, day, ., \n",
      "\n",
      "]\n",
      "travelled [We, travelled, at, the, end, of, Oct, into, first, week, of, Nov, ,, everything, is, closing]\n",
      "closing [,, everything, is, closing]\n",
      "help [to, help, and, receptionists, unhelpful]\n",
      "closed [They, actually, closed, the, hotel, the, day, before, we, left, and, transferred, us, to, their, other, hotel, but, the, room, was, not, ready, !]\n",
      "left [before, we, left, and, transferred, us, to, their, other, hotel]\n",
      "transferred [transferred, us, to, their, other, hotel]\n",
      "pack [to, pack, early, and]\n",
      "dry [to, dry, and, took, up, valuable, daylight, time, as, the, sun, sets, at, 5:30pm]\n",
      "took [took, up, valuable, daylight, time, as, the, sun, sets, at, 5:30pm]\n",
      "sets [as, the, sun, sets, at, 5:30pm]\n",
      "need [and, you, need, to, either, get, their, shuttle, bus, ,, the, normal, bus, or, hire, a, car]\n",
      "hire [hire, a, car]\n",
      "arrived [as, we, arrived, late, and, needed, water]\n",
      "needed [needed, water]\n",
      "leads [The, private, beach, leads, out, to, a, very, rocky, sea, entrance]\n",
      "enjoy [The, private, beach, leads, out, to, a, very, rocky, sea, entrance, ,, my, children, did, not, enjoy, swimming, there, ., \n",
      "\n",
      "]\n",
      "swimming [swimming, there]\n"
     ]
    }
   ],
   "source": [
    "for token in processed_text[0]:\n",
    "    if token.pos_ == \"VERB\":\n",
    "        print(token.text, list(token.subtree))"
   ]
  },
  {
   "cell_type": "code",
   "execution_count": 15,
   "metadata": {},
   "outputs": [
    {
     "data": {
      "text/plain": [
       "Paid for a sea view or garden view, got a ground floor room facing trees with a road behind. One of the beds had springs sticking out and air con was not working. Would not move us to another room because they said they had closed down most of the hotel as it was end of the season. They were quick to sort out the bed and and air con. The room was cleaned well every day. \n",
       "\n",
       "We travelled at the end of Oct into first week of Nov, everything is closing, no reps on hand to help and receptionists unhelpful. They actually closed the hotel the day before we left and transferred us to their other hotel but the room was not ready! Really inconvenient when you have to pack early and have wet clothes to dry and took up valuable daylight time as the sun sets at 5:30pm. \n",
       "\n",
       "Apart from the receptionists, the staff were really friendly and nice. Food and drinks are expensive at the hotel and you need to either get their shuttle bus, the normal bus or hire a car, there is not anything around there apart from a handy kiosk over the road which was lucky as we arrived late and needed water. \n",
       "\n",
       "The food was average and there was not any greek food apart from greek corner which had dolmades, olives and a few other bits.\n",
       "\n",
       "The private beach leads out to a very rocky sea entrance, my children did not enjoy swimming there. \n",
       "\n",
       "Overall, not impressed."
      ]
     },
     "execution_count": 15,
     "metadata": {},
     "output_type": "execute_result"
    }
   ],
   "source": [
    "processed_text[0]"
   ]
  },
  {
   "cell_type": "code",
   "execution_count": 13,
   "metadata": {},
   "outputs": [
    {
     "data": {
      "text/plain": [
       "[sea, view, or]"
      ]
     },
     "execution_count": 13,
     "metadata": {},
     "output_type": "execute_result"
    }
   ],
   "source": [
    "list(test_token.subtree)"
   ]
  },
  {
   "cell_type": "markdown",
   "metadata": {},
   "source": [
    "Find most common words"
   ]
  },
  {
   "cell_type": "markdown",
   "metadata": {},
   "source": [
    "1. Simple counting of most common words "
   ]
  },
  {
   "cell_type": "code",
   "execution_count": 18,
   "metadata": {},
   "outputs": [
    {
     "data": {
      "text/plain": [
       "[('hotel', 1059),\n",
       " ('room', 542),\n",
       " ('pool', 512),\n",
       " ('staff', 453),\n",
       " ('good', 430),\n",
       " ('food', 416),\n",
       " ('great', 290),\n",
       " ('nice', 264),\n",
       " ('day', 258),\n",
       " ('bar', 251)]"
      ]
     },
     "execution_count": 18,
     "metadata": {},
     "output_type": "execute_result"
    }
   ],
   "source": [
    "text_to_token = {} # Dict[str, List[spacy.Token]]\n",
    "for review in processed_text:\n",
    "    for token in review:\n",
    "        text = token.text.lower()\n",
    "        if text not in INVALID_TOKENS:\n",
    "            if text in text_to_token:\n",
    "                text_to_token[text].append(token)\n",
    "            else:\n",
    "                text_to_token[text] = [token]\n",
    "                \n",
    "text_score = collections.Counter({text: len(tokens) for text, tokens in text_to_token.items()})\n",
    "text_score.most_common(10)"
   ]
  },
  {
   "cell_type": "markdown",
   "metadata": {},
   "source": [
    "2. Find sentences using verbs"
   ]
  },
  {
   "cell_type": "code",
   "execution_count": 9,
   "metadata": {},
   "outputs": [],
   "source": [
    "class EnhancedToken:\n",
    "    \n",
    "    def __init__(self, token: spacy.tokens.Token, verb: spacy.tokens.Token):\n",
    "        self.token = token\n",
    "        self.verbs = [verb]\n",
    "        self._largest_sentence = list(verb.subtree)\n",
    "        \n",
    "    def append(self, verb: spacy.tokens.Token):\n",
    "        self.verbs.append(verb)\n",
    "        new_sentence = list(verb.subtree)\n",
    "        if len(new_sentence) > len(self._largest_sentence):\n",
    "            self._largest_sentence = list(new_sentence)\n",
    "    \n",
    "    @property\n",
    "    def sentence(self):\n",
    "        \"\"\"Returns the largest sentence generated from verb subtrees.\"\"\"\n",
    "        return self._largest_sentence\n",
    "    \n",
    "    @property\n",
    "    def sentence_str(self):\n",
    "        return \" \".join(x.text for x in self.sentence)    "
   ]
  },
  {
   "cell_type": "code",
   "execution_count": 20,
   "metadata": {},
   "outputs": [
    {
     "data": {
      "text/plain": [
       "[('hotel', 582),\n",
       " ('room', 316),\n",
       " ('pool', 209),\n",
       " ('day', 185),\n",
       " ('staff', 185),\n",
       " ('food', 163),\n",
       " ('rhodes', 147),\n",
       " ('good', 130),\n",
       " ('night', 125),\n",
       " ('kresten', 124)]"
      ]
     },
     "execution_count": 20,
     "metadata": {},
     "output_type": "execute_result"
    }
   ],
   "source": [
    "text_to_enhtoken = {} # Dict[str, List[EnhancedToken]]\n",
    "for review in processed_text:\n",
    "    token_to_enhtoken = {}\n",
    "    for verb in review:\n",
    "        if verb.pos_ == \"VERB\":\n",
    "            for token in verb.subtree:\n",
    "                text = token.text.lower()\n",
    "                if text not in INVALID_TOKENS:\n",
    "                    if text in text_to_enhtoken:\n",
    "                        if token in token_to_enhtoken:\n",
    "                            token_to_enhtoken[token].append(verb)\n",
    "                        else:\n",
    "                            enh_token = EnhancedToken(token, verb)\n",
    "                            token_to_enhtoken[token] = enh_token\n",
    "                            text_to_enhtoken[text].append(enh_token)\n",
    "                            \n",
    "                    else:\n",
    "                        assert token not in token_to_enhtoken\n",
    "                        enh_token = EnhancedToken(token, verb)\n",
    "                        token_to_enhtoken[token] = enh_token\n",
    "                        text_to_enhtoken[text] = [enh_token]\n",
    "                        \n",
    "                \n",
    "text_score = collections.Counter({text: len(tokens) for text, tokens in text_to_enhtoken.items()})\n",
    "text_score.most_common(10)"
   ]
  },
  {
   "cell_type": "code",
   "execution_count": 25,
   "metadata": {},
   "outputs": [
    {
     "data": {
      "text/plain": [
       "[('hotel', 582),\n",
       " ('room', 316),\n",
       " ('pool', 209),\n",
       " ('day', 185),\n",
       " ('staff', 185),\n",
       " ('food', 163),\n",
       " ('rhodes', 147),\n",
       " ('good', 130),\n",
       " ('night', 125),\n",
       " ('kresten', 124),\n",
       " ('bar', 119),\n",
       " ('like', 119),\n",
       " ('stay', 110),\n",
       " ('recommend', 104),\n",
       " ('beach', 103),\n",
       " ('time', 102),\n",
       " ('went', 102),\n",
       " ('restaurant', 101),\n",
       " ('stayed', 100),\n",
       " ('palace', 99)]"
      ]
     },
     "execution_count": 25,
     "metadata": {},
     "output_type": "execute_result"
    }
   ],
   "source": [
    "text_score.most_common(20)"
   ]
  },
  {
   "cell_type": "code",
   "execution_count": 26,
   "metadata": {},
   "outputs": [
    {
     "name": "stdout",
     "output_type": "stream",
     "text": [
      "guided by the restaurant manager Georgios and an always perfect service by Margarita , Antonius and Filip\n",
      "\n",
      ", the cost of beers changed , pool 3.6 Euro , restaurant 4 Euro and Bar 4.2 Euro .\n",
      "\n",
      "Special mention goes to Anna in the restaurant who looked after us all really well all week , making sure we could all sit together at breakfast and dinner .  \n",
      "\n",
      "The main restaurant as lovely , lots of staff , kept immaculately clean but had a great atmosphere , never too crowded , did not feel like a cattle market like some hotels can .\n",
      "\n",
      "lunches Equally the main bar and restaurant staff\n",
      "\n",
      "PS you can wear shorts at the restaurant , even dinner now , as the rules have been relaxed as its so hot there , so Thank you Giorgos for that ! \n",
      "\n",
      "\n",
      "\n",
      "the restaurant staff , always busy , if you talk to them they will talk to you .. \n",
      "\n",
      "\n",
      "not forgetting the Restaurant Manager Giorgos Mauros , firm but nice , a good man always motivating his staff and welcoming guests and keeping this complicated vast catering machine going\n",
      "\n",
      "Gave feedback that they need to label allergens in the main restaurant .\n",
      "\n",
      "First evening meal went into the restaurant which was just a basic family hotel dining room with self service buffet food .\n",
      "\n",
      "The manager made my adult son leave the restaurant as he had shorts on .\n",
      "\n",
      "Eventually after long discussions the restaurant manager provided him with long trousers .\n",
      "\n",
      "eating in the restaurant\n",
      "\n",
      "when they close off part of the restaurant but do not clearly indicate that its closed\n",
      "\n",
      "They stop you at the entrance when all restaurant is watching\n",
      "\n",
      "Than restaurant manager aproach and starts almost pushing you out physically !\n",
      "\n",
      "Guess how I felt in front of my family and whole restaurant .\n",
      "\n",
      "We just wanted to say a huge thank you to the lovely staff at the hotel , from George and the restaurant team , to the bar staff and reception staff , not forgetting the lovely cleaners ! \n",
      "\n",
      "\n",
      "\n",
      "who made us feel very welcome in the bars , restaurant and at the pool\n",
      "\n",
      "Can not fault the staff they are ever so helpful from the reception staff through to the bar , cleaners and restaurant staff .  \n",
      "\n",
      "I could understand if this was a nice restaurant .\n",
      "\n",
      "Can say I personally did not take to the restaurant manager at all\n",
      "\n",
      "And no forget the restaurant and the manager\n",
      "\n",
      "especially katriena in the restaurant\n",
      "\n",
      "The staff are all very friendly and welcoming- Giorgos and the restaurant team do a great job , very friendly Offer great service - all the staff showed great customer service and offered a fantastic customer experience . \n",
      "\n",
      "\n",
      "The restaurant was managed very efficiently by George there was a good variety of food in the restaurant  \n",
      "\n",
      "The restaurant was managed very efficiently by George there was a good variety of food in the restaurant  \n",
      "\n",
      "We met Giorgis in the restaurant Who always had a big smile on his face\n",
      "\n",
      "The all operation was run by Giorgos Mauros , the manager of the bar and restaurant at the hotel .\n",
      "\n",
      "at the time of eating the restaurant service as well as their staff , highlighted their excellent customer service .\n",
      "\n",
      ", we noticed who we assumed to be the restaurant manager have issues with some of the staff waiting on tables .\n",
      "\n",
      "Early season lunch is served at the pool bar / restaurant and could have done with a few more kitchen and waiting staff\n",
      "\n",
      "George the restaurant manager went above and beyond\n",
      "\n",
      "Restaurant staff appeared   rushed , when not talking to each other , causing a hectic atmosphere .\n",
      "\n",
      "you taking bowls of fruit from the restaurant back to your room-\n",
      "\n",
      "( Anna deserves a medal in restaurant ) \n",
      "\n",
      "\n",
      "\n",
      "We met a number of friendly and helpful staff members at the bar , pool restaurant but God help you if you ask for a help from reception . \n",
      "\n",
      "\n",
      "\n",
      "We ate from the pool restaurant pretty much every lunch time and found the food lovely and the staff at the pool were wonderful .\n",
      "\n",
      "One night we dined at the main restaurant for dinner\n",
      "\n",
      "Lots of good restaurant , I would recommend a restaurant called Rex   in Rhodes town\n",
      "\n",
      "Lots of good restaurant , I would recommend a restaurant called Rex   in Rhodes town\n",
      "\n",
      "hotel a bit tired looking , especially along the corridors towards bedrooms and food in restaurant bland tasting\n",
      "\n",
      "Drinks in the restaurant are over priced , so after 2 nights , we decided to just order a bottle of water during dinner , and have cans of coke / beer from the hotel shop afterwards whilst enjoying the entertainment outside .\n",
      "\n",
      "On our last evening my husband was not allowed to enter the restaurant because of his shorts ....\n",
      "\n",
      "he went back to the hotel room and grabbed my jumpsuit ( only sort of trousers I had with me ) and slipped it on in front of the restaurant doors\n",
      "\n",
      "( did n’t know that frills would suit him that well ) and was allowed entry to the restaurant everyone smiled or where clapped .\n",
      "\n",
      "at the buffet restaurant it took 20 minutes most nights to pay the bill because nobody came up to you , likewise with clearing the tables\n",
      "\n",
      "the dining staff working very hard to ensure the smooth running of the   restaurant\n",
      "\n",
      "as the clients came from several different countries , the restaurant manager was always welcoming with a smile and a hand shake\n",
      "\n",
      "if you ordered drinks in the restaurant or at the bar\n",
      "\n",
      "On the positive side , the buffet - based restaurant provided a varied and interesting menu and the restaurant staff were great , giving very friendly service and putting smiles on faces .\n",
      "\n",
      "On the positive side , the buffet - based restaurant provided a varied and interesting menu and the restaurant staff were great , giving very friendly service and putting smiles on faces .\n",
      "\n",
      "Supposed to be a buffet restaurant a.\n",
      "\n",
      "although very slippery at times pool bar and outside restaurant often slow service entertainment\n",
      "\n",
      "The staff really helped make our holiday extra special , especially in the restaurant ( Anna and both Kostas ) , the staff in the Spa and the superb cleaning teams !\n",
      "\n",
      "The staff in the restaurant also gave us bottles of water and a plate of fruit to take back to the room !  \n",
      "\n",
      "\n",
      "\n",
      "but we always went up to the main restaurant . \n",
      "\n",
      "\n",
      "\n",
      "Try Aktaiou restaurant for really great Greek food , full of locals\n",
      "\n",
      "We did find that you had to time when you went to a meal as the restaurant could get rather busy .\n",
      "\n",
      "The staff at our table in the restaurant , Eleni and Eva looked after us very well\n",
      "\n",
      "Drinks at the poolside bar were a little pricey , however , we went to the hotel shop ( same floor as restaurant and main bar ) and got bottles of water and cans of drinks from there .\n",
      "\n",
      "The buffet style restaurant offered plenty of choices where you could go up as many times as you wished and theme nights such as Chinese etc .\n",
      "\n",
      "We did not find this too much of an issue most of the time but did find that when you were eating hot meals in the restaurant area it could get a bit uncomfortable from the heat .\n",
      "\n",
      "We soon realised that it was a bit cooler to sit towards the back of the restaurant , rather than near the windows with the sun shining on them . \n",
      "\n",
      "\n",
      "\n",
      "Please please venture out and try the Panorama restaurant ( a short taxi ride )\n",
      "\n",
      "Likewise in the restaurant the tables often took a while to be cleared and also dirty plates took a while to be cleared away .\n",
      "\n",
      "The staff looked miserable most of the time and only the young lad in the restaurant was welcoming , polite and cheerful .\n",
      "\n",
      "Walk down the beach and turn left onto the footpath brings you to a great Restaurant and bar !\n",
      "\n",
      "The restaurant is poor , the food manages to be both badly cooked ( either under or over cooked ) and unimaginative .\n",
      "\n",
      "worked really hard to accommodate everyone in a really busy restaurant especially the very friendly Lino\n",
      "\n",
      "Please note the dress code for the restaurant at Dinner .\n",
      "\n",
      "Top marks however must go to the waiting staff who work tirelessly in what can be a very busy restaurant at peak times .\n",
      "\n",
      "The restaurant is an absolute joke , it is a busy inferno , no one shows you to a table\n",
      "\n",
      ", we were well looked after by Alexando and Katina in the restaurant\n",
      "\n",
      "The weather was very hot but had a lovely breeze , we would definitely return to Rhodes but not the hotel , it needs updating and AC in the restaurant , reception and bar area\n",
      "\n",
      "is only stated at next to the restaurant door\n",
      "\n",
      "We would like to say thank you to everyone in the hotel from the cleaning ladies to th reception ladies and the restaurant personnel .\n",
      "\n",
      "all inclusive too , so I stayed there at their seafront pool , with bar / restaurant until dinner time the next day .  \n",
      "\n",
      "my first night , i was ushered in by the restaurant manager , directed to a table with no cutlery , so i waited and waited\n",
      "\n",
      "were then upgraded to a sea view room for the rest of the week and given lunch vouchers for the main restaurant\n",
      "\n",
      "The one big disappointment was the food - although we did not personally have to queue to be allowed into the restaurant area , I think if the hotel had been any busier then we would have done .\n",
      "\n",
      "On day 3 we figured out if you go for your breakfast & evening meal as soon as the restaurant was opened\n",
      "\n",
      "On other occasions the restaurant staff were seen to be arguing amongst themselves and were oblivious to the needs around them , at times it was chaotic . \n",
      "\n",
      "\n",
      "In the evening the main restaurant offered a wide range of dishes - always a good selection .\n",
      "\n",
      "primarily we booked having seen a trip advisor review about someone who was gluten intolerant ( coeliac ) and that the maitre of the restaurant readily advised them on what they could eat at each meal . \n",
      "\n",
      "\n",
      "We asked if we could take a bottle from the restaurant and were told to buy it from the mini shop ! \n",
      "\n",
      "\n",
      "\n",
      "the maître of the restaurant met her every night to advise the food should could or could not eat . \n",
      "\n",
      "\n",
      "\n",
      "the lady at the restaurant looks you up and down everytime you go for the evening meal .\n",
      "\n",
      "The first night we were turned away from the restaurant as my partner had smart shorts on but it is only long trousers men at the evening meal . \n",
      "\n",
      "\n",
      "\n",
      "to pay the water in the restaurant (\n",
      "\n",
      "When we went to eat in the restaurant there , we were surrounded by stares which made us feel awkward and my girlfriend choke on her food .\n",
      "\n",
      "Wonderful restaurant staff played with him and fed him so we could enjoy our meal as well !\n",
      "\n",
      "The second restaurant is located by the pool\n",
      "\n",
      "We were verypleased with hotelaccomodation , the personnal in general , the food and the very helpfull and friendly service in the restaurant\n",
      "\n",
      "will push in front of you at the buffet restaurant\n",
      "\n",
      "The restaurant area is spacious , the food is good and diversified , every day you can choose between greek specialities , fish , sea food , turkey , delicios baclavas and kataifi and many other . \n",
      "\n",
      "\n",
      "I suggest that   some improvements are needed ,   like : removing flies from the restaurant , individual air conditioning in the rooms . \n",
      "\n",
      "\n",
      "We appreciated especialy the friendly personnel of reception -top chief- , restaurant - top Eleni - , the poolbar ...\n",
      "\n",
      "The restaurant is spacious , the food buffets very acceptable , not superior\n",
      "\n",
      "We asked for other rooms , since the rooms given for us were dark on the ground floor of a windy   side building and it was really a 12 minutes walking distance ( walk , scales , elevators ) to the reception and the hotel restaurant .\n",
      "\n",
      "The restaurant area was lacking a good airconditioning\n",
      "\n"
     ]
    }
   ],
   "source": [
    "for enhtoken in text_to_enhtoken[\"restaurant\"]:\n",
    "    print(enhtoken.sentence_str)\n",
    "    print()"
   ]
  },
  {
   "cell_type": "code",
   "execution_count": 16,
   "metadata": {},
   "outputs": [
    {
     "data": {
      "text/plain": [
       "{}"
      ]
     },
     "execution_count": 16,
     "metadata": {},
     "output_type": "execute_result"
    }
   ],
   "source": [
    "text_to_enhtoken"
   ]
  },
  {
   "cell_type": "code",
   "execution_count": null,
   "metadata": {},
   "outputs": [],
   "source": []
  }
 ],
 "metadata": {
  "kernelspec": {
   "display_name": "Python 3",
   "language": "python",
   "name": "python3"
  },
  "language_info": {
   "codemirror_mode": {
    "name": "ipython",
    "version": 3
   },
   "file_extension": ".py",
   "mimetype": "text/x-python",
   "name": "python",
   "nbconvert_exporter": "python",
   "pygments_lexer": "ipython3",
   "version": "3.6.9"
  }
 },
 "nbformat": 4,
 "nbformat_minor": 2
}
