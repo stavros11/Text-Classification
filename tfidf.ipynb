{
 "cells": [
  {
   "cell_type": "code",
   "execution_count": 11,
   "metadata": {},
   "outputs": [],
   "source": [
    "import os\n",
    "import numpy as np\n",
    "import pandas as pd\n",
    "from time import time\n",
    "\n",
    "import matplotlib.pyplot as plt\n",
    "import matplotlib\n",
    "import seaborn as sns\n",
    "matplotlib.rcParams['mathtext.fontset'] = 'cm'\n",
    "matplotlib.rcParams['font.family'] = 'STIXGeneral'\n",
    "matplotlib.rcParams[\"font.size\"] = 26\n",
    "\n",
    "from utils import preprocessing\n",
    "from sklearn.feature_extraction import text\n",
    "from sklearn import decomposition\n",
    "\n",
    "data_dir = \"/home/stavros/DATA/AirbnbReviews\"\n",
    "#data_dir = \"D:/\""
   ]
  },
  {
   "cell_type": "markdown",
   "metadata": {},
   "source": [
    "Load raw reviews (usually not used)"
   ]
  },
  {
   "cell_type": "code",
   "execution_count": 2,
   "metadata": {},
   "outputs": [],
   "source": [
    "area = \"south_aegean\"\n",
    "area_dir = os.path.join(data_dir, area)\n",
    "#file_list = [\"listings\", \"calendar\", \"reviews\"]\n",
    "file_list = [\"reviews\"]\n",
    "data = {k: pd.read_csv(os.path.join(area_dir, \"{}.csv.gz\".format(k))) for k in file_list}"
   ]
  },
  {
   "cell_type": "code",
   "execution_count": 3,
   "metadata": {},
   "outputs": [
    {
     "name": "stdout",
     "output_type": "stream",
     "text": [
      "\n",
      "reviews shape: (236061, 6)\n",
      "listing_id\n",
      "id\n",
      "date\n",
      "reviewer_id\n",
      "reviewer_name\n",
      "comments\n"
     ]
    }
   ],
   "source": [
    "for k, d in data.items():\n",
    "    print(\"\\n{} shape: {}\".format(k, d.shape))\n",
    "    for col in d.columns:\n",
    "        print(col)"
   ]
  },
  {
   "cell_type": "markdown",
   "metadata": {},
   "source": [
    "Remove `nan` reviews"
   ]
  },
  {
   "cell_type": "code",
   "execution_count": 4,
   "metadata": {},
   "outputs": [
    {
     "name": "stdout",
     "output_type": "stream",
     "text": [
      "(235997, 6)\n"
     ]
    }
   ],
   "source": [
    "clean_reviews = data[\"reviews\"][pd.notnull(data[\"reviews\"].comments)]\n",
    "print(clean_reviews.shape)"
   ]
  },
  {
   "cell_type": "markdown",
   "metadata": {},
   "source": [
    "Alternatively, use `apply_normalizer.py` to do the normalization (that generally takes time) and directly load the `DataFrame` that contains a `normalized_comments` column."
   ]
  },
  {
   "cell_type": "code",
   "execution_count": 2,
   "metadata": {},
   "outputs": [
    {
     "name": "stdout",
     "output_type": "stream",
     "text": [
      "(20000, 8)\n",
      "Index(['Unnamed: 0', 'listing_id', 'id', 'date', 'reviewer_id',\n",
      "       'reviewer_name', 'comments', 'normalized_comments'],\n",
      "      dtype='object')\n"
     ]
    }
   ],
   "source": [
    "area = \"nyc\"\n",
    "\n",
    "area_dir = os.path.join(data_dir, area)\n",
    "sampled_reviews = pd.read_csv(os.path.join(area_dir, \"nyc_reviews_nostopwords_en_20000samples.csv\"))\n",
    "print(sampled_reviews.shape)\n",
    "print(sampled_reviews.columns)"
   ]
  },
  {
   "cell_type": "markdown",
   "metadata": {},
   "source": [
    "### Apply TF-IDF to sampled data"
   ]
  },
  {
   "cell_type": "markdown",
   "metadata": {},
   "source": [
    "Note that even though reviews were cleaned before normalizing text, some have `nan` normalized comments (usually this is fixed if we use english only reviews)"
   ]
  },
  {
   "cell_type": "code",
   "execution_count": 6,
   "metadata": {
    "scrolled": true
   },
   "outputs": [
    {
     "name": "stdout",
     "output_type": "stream",
     "text": [
      "(20000, 8)\n"
     ]
    }
   ],
   "source": [
    "clean_sample = sampled_reviews[pd.notnull(sampled_reviews.normalized_comments)]\n",
    "print(clean_sample.shape)"
   ]
  },
  {
   "cell_type": "code",
   "execution_count": 7,
   "metadata": {
    "scrolled": true
   },
   "outputs": [
    {
     "name": "stdout",
     "output_type": "stream",
     "text": [
      "(20000, 14946)\n"
     ]
    }
   ],
   "source": [
    "vectorizer = text.TfidfVectorizer()\n",
    "sampled_vectors = vectorizer.fit_transform(clean_sample.normalized_comments)\n",
    "print(sampled_vectors.shape)"
   ]
  },
  {
   "cell_type": "code",
   "execution_count": 8,
   "metadata": {},
   "outputs": [
    {
     "name": "stdout",
     "output_type": "stream",
     "text": [
      "14946\n",
      "['great', 'stay', 'place', 'apartment', 'host', 'location', 'nice', 'clean', 'good', 'not', 'room', 'would', 'recommend', 'really', 'time', 'us', 'comfortable', 'subway', 'perfect', 'everything']\n"
     ]
    }
   ],
   "source": [
    "mean_scores = np.array(sampled_vectors.mean(axis=0))[0]\n",
    "sorted_ids = mean_scores.argsort()[::-1]\n",
    "print(len(sorted_ids))\n",
    "\n",
    "vocab = vectorizer.get_feature_names()\n",
    "important_words = [vocab[i] for i in sorted_ids]\n",
    "print(important_words[:20])"
   ]
  },
  {
   "cell_type": "markdown",
   "metadata": {},
   "source": [
    "SVD of the `sampled_vectors` matrix that TF-IDF analysis calculated"
   ]
  },
  {
   "cell_type": "code",
   "execution_count": 17,
   "metadata": {},
   "outputs": [
    {
     "name": "stdout",
     "output_type": "stream",
     "text": [
      "(20000, 10)\n",
      "[0.00495335 0.01203494 0.01031    0.00628691 0.00611581 0.00544208\n",
      " 0.00516576 0.0048224  0.00469466 0.00437864]\n"
     ]
    }
   ],
   "source": [
    "svd = decomposition.TruncatedSVD(n_components=10)\n",
    "svd_vector = svd.fit_transform(sampled_vectors)\n",
    "print(svd_vector.shape)\n",
    "print(svd.explained_variance_)"
   ]
  },
  {
   "cell_type": "code",
   "execution_count": 19,
   "metadata": {},
   "outputs": [
    {
     "data": {
      "text/plain": [
       "array([0.00517761, 0.01257982, 0.01077678, 0.00657155, 0.0063927 ,\n",
       "       0.00568847, 0.00539964, 0.00504073, 0.00490721, 0.00457688])"
      ]
     },
     "execution_count": 19,
     "metadata": {},
     "output_type": "execute_result"
    }
   ],
   "source": [
    "svd.explained_variance_ratio_"
   ]
  },
  {
   "cell_type": "code",
   "execution_count": 23,
   "metadata": {},
   "outputs": [
    {
     "data": {
      "image/png": "[encoded data removed]",
      "text/plain": [
       "<Figure size 1440x288 with 3 Axes>"
      ]
     },
     "metadata": {
      "needs_background": "light"
     },
     "output_type": "display_data"
    }
   ],
   "source": [
    "plt.figure(figsize=(20, 4))\n",
    "component_pairs = [(1, 2), (1, 3), (1, 4)]\n",
    "\n",
    "for i, (ix, iy) in enumerate(component_pairs):\n",
    "    plt.subplot(101 + 10 * len(component_pairs) + i)\n",
    "    plt.scatter(svd_vector[:, ix], svd_vector[:, iy])\n",
    "    plt.xlabel(\"$v_{}$\".format(ix))\n",
    "    plt.ylabel(\"$v_{}$\".format(iy))\n",
    "plt.show()"
   ]
  },
  {
   "cell_type": "code",
   "execution_count": 30,
   "metadata": {
    "scrolled": true
   },
   "outputs": [
    {
     "name": "stdout",
     "output_type": "stream",
     "text": [
      "The reservation was canceled 5 days before arrival. This is an automated posting.\n",
      "\n",
      "\n",
      "The reservation was canceled the day before arrival. This is an automated posting.\n",
      "\n",
      "\n",
      "The reservation was canceled 10 days before arrival. This is an automated posting.\n",
      "\n",
      "\n",
      "The host canceled this reservation 20 days before arrival. This is an automated posting.\n",
      "\n",
      "\n",
      "The host canceled this reservation 36 days before arrival. This is an automated posting.\n",
      "\n",
      "\n",
      "The host canceled this reservation 7 days before arrival. This is an automated posting.\n",
      "\n",
      "\n",
      "The host canceled this reservation 9 days before arrival. This is an automated posting.\n",
      "\n",
      "\n",
      "The host canceled my reservation 6 days before arrival.\n",
      "\n",
      "\n",
      "The reservation was canceled 107 days before arrival. This is an automated posting.\n",
      "\n",
      "\n",
      "The reservation was canceled 4 days before arrival. This is an automated posting.\n",
      "\n",
      "\n",
      "The host canceled my reservation 92 days before arrival.\n",
      "\n",
      "\n",
      "The reservation was canceled 49 days before arrival. This is an automated posting.\n",
      "\n",
      "\n",
      "The host canceled this reservation 14 days before arrival. This is an automated posting.\n",
      "\n",
      "\n",
      "The reservation was canceled 13 days before arrival. This is an automated posting.\n",
      "\n",
      "\n",
      "The reservation was canceled 7 days before arrival. This is an automated posting.\n",
      "\n",
      "\n",
      "The host canceled this reservation 34 days before arrival. This is an automated posting.\n",
      "\n",
      "\n",
      "The reservation was canceled 2 days before arrival. This is an automated posting.\n",
      "\n",
      "\n",
      "The host canceled my reservation 14 days before arrival.\n",
      "\n",
      "\n",
      "The host canceled this reservation 10 days before arrival. This is an automated posting.\n",
      "\n",
      "\n",
      "The host canceled this reservation 7 days before arrival. This is an automated posting.\n",
      "\n",
      "\n",
      "The host canceled this reservation 2 days before arrival. This is an automated posting.\n",
      "\n",
      "\n",
      "The host canceled this reservation 12 days before arrival. This is an automated posting.\n",
      "\n",
      "\n",
      "The host canceled this reservation 6 days before arrival. This is an automated posting.\n",
      "\n",
      "\n",
      "The host canceled this reservation the day before arrival. This is an automated posting.\n",
      "\n",
      "\n",
      "The host canceled this reservation 7 days before arrival. This is an automated posting.\n",
      "\n",
      "\n",
      "The host canceled this reservation 23 days before arrival. This is an automated posting.\n",
      "\n",
      "\n",
      "The host canceled this reservation 31 days before arrival. This is an automated posting.\n",
      "\n",
      "\n",
      "The host canceled my reservation 14 days before arrival.\n",
      "\n",
      "\n",
      "The reservation was canceled the day before arrival. This is an automated posting.\n",
      "\n",
      "\n",
      "The reservation was canceled 15 days before arrival. This is an automated posting.\n",
      "\n",
      "\n",
      "The reservation was canceled the day before arrival. This is an automated posting.\n",
      "\n",
      "\n",
      "The reservation was canceled 12 days before arrival. This is an automated posting.\n",
      "\n",
      "\n",
      "The reservation was canceled 14 days before arrival. This is an automated posting.\n",
      "\n",
      "\n",
      "The host canceled this reservation 11 days before arrival. This is an automated posting.\n",
      "\n",
      "\n",
      "The reservation was canceled 66 days before arrival. This is an automated posting.\n",
      "\n",
      "\n",
      "The reservation was canceled 82 days before arrival. This is an automated posting.\n",
      "\n",
      "\n",
      "The host canceled my reservation after arrival.\n",
      "\n",
      "\n",
      "The host canceled this reservation 19 days before arrival. This is an automated posting.\n",
      "\n",
      "\n",
      "The reservation was canceled 41 days before arrival. This is an automated posting.\n",
      "\n",
      "\n",
      "The host canceled my reservation 10 days before arrival.\n",
      "\n",
      "\n",
      "The reservation was canceled 30 days before arrival. This is an automated posting.\n",
      "\n",
      "\n",
      "The host canceled this reservation 46 days before arrival. This is an automated posting.\n",
      "\n",
      "\n",
      "The host canceled this reservation 58 days before arrival. This is an automated posting.\n",
      "\n",
      "\n",
      "The host canceled this reservation 33 days before arrival. This is an automated posting.\n",
      "\n",
      "\n",
      "The host canceled this reservation 21 days before arrival. This is an automated posting.\n",
      "\n",
      "\n",
      "The host canceled this reservation 11 days before arrival. This is an automated posting.\n",
      "\n",
      "\n",
      "The host canceled my reservation 10 days before arrival.\n",
      "\n",
      "\n",
      "The reservation was canceled 13 days before arrival. This is an automated posting.\n",
      "\n",
      "\n",
      "The reservation was canceled 33 days before arrival. This is an automated posting.\n",
      "\n",
      "\n",
      "The host canceled this reservation 24 days before arrival. This is an automated posting.\n",
      "\n",
      "\n",
      "The host canceled this reservation 158 days before arrival. This is an automated posting.\n",
      "\n",
      "\n",
      "The host canceled this reservation 2 days before arrival. This is an automated posting.\n",
      "\n",
      "\n",
      "The host canceled this reservation 12 days before arrival. This is an automated posting.\n",
      "\n",
      "\n",
      "The host canceled this reservation 20 days before arrival. This is an automated posting.\n",
      "\n",
      "\n",
      "The host canceled this reservation 10 days before arrival. This is an automated posting.\n",
      "\n",
      "\n",
      "The host canceled this reservation 14 days before arrival. This is an automated posting.\n",
      "\n",
      "\n",
      "The reservation was canceled 45 days before arrival. This is an automated posting.\n",
      "\n",
      "\n",
      "The reservation was canceled 67 days before arrival. This is an automated posting.\n",
      "\n",
      "\n",
      "The reservation was canceled 77 days before arrival. This is an automated posting.\n",
      "\n",
      "\n",
      "The reservation was canceled 60 days before arrival. This is an automated posting.\n",
      "\n",
      "\n",
      "The reservation was canceled 30 days before arrival. This is an automated posting.\n",
      "\n",
      "\n",
      "The reservation was canceled 52 days before arrival. This is an automated posting.\n",
      "\n",
      "\n",
      "The reservation was canceled 25 days before arrival. This is an automated posting.\n",
      "\n",
      "\n",
      "The reservation was canceled 10 days before arrival. This is an automated posting.\n",
      "\n",
      "\n",
      "The reservation was canceled 52 days before arrival. This is an automated posting.\n",
      "\n",
      "\n",
      "The reservation was canceled 109 days before arrival. This is an automated posting.\n",
      "\n",
      "\n",
      "The reservation was canceled 46 days before arrival. This is an automated posting.\n",
      "\n",
      "\n",
      "The host canceled my reservation 2 days before arrival.\n",
      "\n",
      "\n",
      "The host canceled this reservation 5 days before arrival. This is an automated posting.\n",
      "\n",
      "\n",
      "The reservation was canceled 195 days before arrival. This is an automated posting.\n",
      "\n",
      "\n",
      "The host canceled this reservation 115 days before arrival. This is an automated posting.\n",
      "\n",
      "\n",
      "The host canceled this reservation 160 days before arrival. This is an automated posting.\n",
      "\n",
      "\n",
      "The host canceled this reservation 140 days before arrival. This is an automated posting.\n",
      "\n",
      "\n",
      "The reservation was canceled 21 days before arrival. This is an automated posting.\n",
      "\n",
      "\n",
      "The host canceled this reservation 76 days before arrival. This is an automated posting.\n",
      "\n",
      "\n",
      "The host canceled this reservation 7 days before arrival. This is an automated posting.\n",
      "\n",
      "\n",
      "The host canceled this reservation 7 days before arrival. This is an automated posting.\n",
      "\n",
      "\n",
      "The host canceled my reservation 29 days before arrival.\n",
      "\n",
      "\n",
      "The host canceled my reservation.\n",
      "\n",
      "\n",
      "The host canceled my reservation 49 days before arrival.\n",
      "\n",
      "\n",
      "The host canceled my reservation 29 days before arrival.\n",
      "\n",
      "\n",
      "The host canceled this reservation 53 days before arrival. This is an automated posting.\n",
      "\n",
      "\n",
      "The host canceled this reservation 52 days before arrival. This is an automated posting.\n",
      "\n",
      "\n",
      "The host canceled my reservation 6 days before arrival.\n",
      "\n",
      "\n",
      "The host canceled my reservation 4 days before arrival.\n",
      "\n",
      "\n",
      "The host canceled this reservation the day before arrival. This is an automated posting.\n",
      "\n",
      "\n",
      "The host canceled this reservation 4 days before arrival. This is an automated posting.\n",
      "\n",
      "\n",
      "The host canceled this reservation 14 days before arrival. This is an automated posting.\n",
      "\n",
      "\n",
      "The reservation was canceled 3 days before arrival. This is an automated posting.\n",
      "\n",
      "\n",
      "The reservation was canceled 105 days before arrival. This is an automated posting.\n",
      "\n",
      "\n",
      "The host canceled my reservation 41 days before arrival.\n",
      "\n",
      "\n",
      "The reservation was canceled 40 days before arrival. This is an automated posting.\n",
      "\n",
      "\n",
      "The reservation was canceled 34 days before arrival. This is an automated posting.\n",
      "\n",
      "\n",
      "The reservation was canceled the day before arrival. This is an automated posting.\n",
      "\n",
      "\n",
      "The host canceled this reservation 8 days before arrival. This is an automated posting.\n",
      "\n",
      "\n",
      "The host canceled this reservation 2 days before arrival. This is an automated posting.\n",
      "\n",
      "\n",
      "The host canceled this reservation 3 days before arrival. This is an automated posting.\n",
      "\n",
      "\n",
      "The host canceled this reservation 2 days before arrival. This is an automated posting.\n",
      "\n",
      "\n",
      "The host canceled this reservation 7 days before arrival. This is an automated posting.\n",
      "\n",
      "\n",
      "The host canceled this reservation 20 days before arrival. This is an automated posting.\n",
      "\n",
      "\n",
      "The host canceled this reservation 61 days before arrival. This is an automated posting.\n",
      "\n",
      "\n",
      "The reservation was canceled 31 days before arrival. This is an automated posting.\n",
      "\n",
      "\n",
      "The reservation was canceled 14 days before arrival. This is an automated posting.\n",
      "\n",
      "\n",
      "The host canceled this reservation 2 days before arrival. This is an automated posting.\n",
      "\n",
      "\n",
      "The reservation was canceled 103 days before arrival. This is an automated posting.\n",
      "\n",
      "\n",
      "The host canceled this reservation 29 days before arrival. This is an automated posting.\n",
      "\n",
      "\n",
      "The reservation was canceled 58 days before arrival. This is an automated posting.\n",
      "\n",
      "\n",
      "The host canceled this reservation 14 days before arrival. This is an automated posting.\n",
      "\n",
      "\n",
      "The host canceled this reservation 34 days before arrival. This is an automated posting.\n",
      "\n",
      "\n",
      "The host canceled this reservation 3 days before arrival. This is an automated posting.\n",
      "\n",
      "\n",
      "The host canceled this reservation 258 days before arrival. This is an automated posting.\n",
      "\n",
      "\n",
      "The reservation was canceled 12 days before arrival. This is an automated posting.\n",
      "\n",
      "\n",
      "The host canceled this reservation 7 days before arrival. This is an automated posting.\n",
      "\n",
      "\n",
      "The reservation was canceled 87 days before arrival. This is an automated posting.\n",
      "\n",
      "\n",
      "The host canceled this reservation 8 days before arrival. This is an automated posting.\n",
      "\n",
      "\n",
      "The host canceled this reservation 26 days before arrival. This is an automated posting.\n",
      "\n",
      "\n",
      "The reservation was canceled 6 days before arrival. This is an automated posting.\n",
      "\n",
      "\n",
      "The host canceled this reservation 17 days before arrival. This is an automated posting.\n",
      "\n",
      "\n",
      "The host canceled this reservation 30 days before arrival. This is an automated posting.\n",
      "\n",
      "\n",
      "The reservation was canceled 20 days before arrival. This is an automated posting.\n",
      "\n",
      "\n",
      "The host canceled this reservation 40 days before arrival. This is an automated posting.\n",
      "\n",
      "\n",
      "The host canceled this reservation 9 days before arrival. This is an automated posting.\n",
      "\n",
      "\n",
      "The host canceled this reservation 40 days before arrival. This is an automated posting.\n",
      "\n",
      "\n",
      "The host canceled this reservation 12 days before arrival. This is an automated posting.\n",
      "\n",
      "\n",
      "The host canceled my reservation 23 days before arrival.\n",
      "\n",
      "\n",
      "The reservation was canceled the day before arrival. This is an automated posting.\n",
      "\n",
      "\n",
      "The reservation was canceled 19 days before arrival. This is an automated posting.\n",
      "\n",
      "\n",
      "The reservation was canceled 22 days before arrival. This is an automated posting.\n",
      "\n",
      "\n",
      "The host canceled this reservation 7 days before arrival. This is an automated posting.\n",
      "\n",
      "\n",
      "The host canceled this reservation 34 days before arrival. This is an automated posting.\n",
      "\n",
      "\n",
      "The host canceled this reservation 19 days before arrival. This is an automated posting.\n",
      "\n",
      "\n",
      "The host canceled this reservation the day before arrival. This is an automated posting.\n",
      "\n",
      "\n",
      "The reservation was canceled 26 days before arrival. This is an automated posting.\n",
      "\n",
      "\n",
      "The reservation was canceled 87 days before arrival. This is an automated posting.\n",
      "\n",
      "\n",
      "The host canceled this reservation 80 days before arrival. This is an automated posting.\n",
      "\n",
      "\n",
      "The host canceled this reservation 204 days before arrival. This is an automated posting.\n",
      "\n",
      "\n",
      "The host canceled this reservation 2 days before arrival. This is an automated posting.\n",
      "\n",
      "\n",
      "The host canceled my reservation 151 days before arrival.\n",
      "\n",
      "\n",
      "The host canceled my reservation the day before arrival.\n",
      "\n",
      "\n",
      "The reservation was canceled 67 days before arrival. This is an automated posting.\n",
      "\n",
      "\n",
      "The reservation was canceled 175 days before arrival. This is an automated posting.\n",
      "\n",
      "\n",
      "The host canceled this reservation 68 days before arrival. This is an automated posting.\n",
      "\n",
      "\n",
      "The host canceled this reservation 8 days before arrival. This is an automated posting.\n",
      "\n",
      "\n",
      "The host canceled this reservation 39 days before arrival. This is an automated posting.\n",
      "\n",
      "\n",
      "The host canceled this reservation 13 days before arrival. This is an automated posting.\n",
      "\n",
      "\n",
      "The host canceled this reservation 6 days before arrival. This is an automated posting.\n",
      "\n",
      "\n",
      "The host canceled this reservation 24 days before arrival. This is an automated posting.\n",
      "\n",
      "\n",
      "The host canceled this reservation 20 days before arrival. This is an automated posting.\n",
      "\n",
      "\n",
      "The host canceled this reservation 2 days before arrival. This is an automated posting.\n",
      "\n",
      "\n",
      "The reservation was canceled 76 days before arrival. This is an automated posting.\n",
      "\n",
      "\n",
      "The host canceled this reservation 38 days before arrival. This is an automated posting.\n",
      "\n",
      "\n",
      "The host canceled this reservation 3 days before arrival. This is an automated posting.\n",
      "\n",
      "\n",
      "The host canceled this reservation 24 days before arrival. This is an automated posting.\n",
      "\n",
      "\n",
      "The host canceled this reservation 160 days before arrival. This is an automated posting.\n",
      "\n",
      "\n"
     ]
    }
   ],
   "source": [
    "for ind in np.where(svd_vector[:10000, 1] > 0.5)[0]:\n",
    "    print(clean_sample.iloc[ind][\"comments\"])\n",
    "    print(\"\\n\")"
   ]
  },
  {
   "cell_type": "code",
   "execution_count": 16,
   "metadata": {
    "scrolled": true
   },
   "outputs": [
    {
     "data": {
      "image/png": "[encoded data removed]",
      "text/plain": [
       "<Figure size 1440x288 with 3 Axes>"
      ]
     },
     "metadata": {
      "needs_background": "light"
     },
     "output_type": "display_data"
    }
   ],
   "source": [
    "n = 3\n",
    "plt.figure(figsize=(20, 4))\n",
    "for i in range(n):\n",
    "    plt.subplot(101 + 10 * n + i)\n",
    "    plt.plot(svd.components_[i])\n",
    "    plt.xlabel(\"Word index\")\n",
    "    plt.ylabel(\"$v_{}$\".format(i))\n",
    "\n",
    "plt.show()"
   ]
  },
  {
   "cell_type": "code",
   "execution_count": 114,
   "metadata": {
    "scrolled": true
   },
   "outputs": [
    {
     "name": "stdout",
     "output_type": "stream",
     "text": [
      "num words = 33\n",
      "great 0.39747259703687543\n",
      "place 0.3166115452258556\n",
      "stay 0.2824625398288711\n",
      "location 0.2120381140812257\n",
      "host 0.19110613908665106\n",
      "nice 0.1770690063606745\n",
      "clean 0.1740459854136382\n",
      "apartment 0.17287421113695844\n",
      "good 0.14700922121163862\n",
      "would 0.14433255124467018\n",
      "recommend 0.1310207883498977\n",
      "room 0.10998437930521572\n",
      "comfortable 0.10997722868088451\n",
      "subway 0.10619589807796725\n",
      "really 0.1038519632181865\n",
      "everything 0.10263059380675318\n",
      "close 0.10255826157006608\n",
      "definitely 0.1015838768050314\n",
      "easy 0.0978557054062419\n",
      "us 0.08886402317397712\n",
      "need 0.08865568307160224\n",
      "perfect 0.08831909128560768\n",
      "time 0.08751321016470444\n",
      "well 0.081305574515578\n",
      "walk 0.07584458544523896\n",
      "get 0.07571387224707163\n",
      "super 0.07315063400738096\n",
      "space 0.07292450292486884\n",
      "make 0.0725467748334978\n",
      "check 0.07244954467416656\n",
      "thank 0.07173506131930396\n",
      "neighborhood 0.07066011255510506\n",
      "amazing 0.07002086644548865\n"
     ]
    }
   ],
   "source": [
    "n_comp = 0\n",
    "cut_off = 0.07\n",
    "\n",
    "n_words = (svd.components_[n_comp] > cut_off).sum()\n",
    "print(\"num words =\", n_words)\n",
    "\n",
    "if n_words < 50:\n",
    "    ids = svd.components_[n_comp].argsort()[::-1]\n",
    "    for i in ids[:n_words]:\n",
    "        print(vocab[i], svd.components_[n_comp, i])"
   ]
  },
  {
   "cell_type": "code",
   "execution_count": 116,
   "metadata": {},
   "outputs": [
    {
     "name": "stdout",
     "output_type": "stream",
     "text": [
      "num words = 7\n",
      "automate 0.42809491819399575\n",
      "posting 0.4259364892040187\n",
      "cancel 0.4188636062503983\n",
      "reservation 0.41147269841233874\n",
      "arrival 0.366957862850738\n",
      "day 0.30767979261898193\n",
      "host 0.22442450776002273\n"
     ]
    }
   ],
   "source": [
    "n_comp = 1\n",
    "cut_off = 0.07\n",
    "\n",
    "n_words = (svd.components_[n_comp] > cut_off).sum()\n",
    "print(\"num words =\", n_words)\n",
    "\n",
    "if n_words < 50:\n",
    "    ids = svd.components_[n_comp].argsort()[::-1]\n",
    "    for i in ids[:n_words]:\n",
    "        print(vocab[i], svd.components_[n_comp, i])"
   ]
  },
  {
   "cell_type": "code",
   "execution_count": null,
   "metadata": {},
   "outputs": [],
   "source": []
  }
 ],
 "metadata": {
  "kernelspec": {
   "display_name": "Python 3",
   "language": "python",
   "name": "python3"
  },
  "language_info": {
   "codemirror_mode": {
    "name": "ipython",
    "version": 3
   },
   "file_extension": ".py",
   "mimetype": "text/x-python",
   "name": "python",
   "nbconvert_exporter": "python",
   "pygments_lexer": "ipython3",
   "version": "3.6.8"
  }
 },
 "nbformat": 4,
 "nbformat_minor": 2
}
