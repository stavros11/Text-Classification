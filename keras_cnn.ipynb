{
 "cells": [
  {
   "cell_type": "code",
   "execution_count": 1,
   "metadata": {},
   "outputs": [
    {
     "name": "stdout",
     "output_type": "stream",
     "text": [
      "Version:  2.0.0\n",
      "Eager mode:  True\n",
      "Hub version:  0.6.0\n",
      "GPU is NOT AVAILABLE\n"
     ]
    }
   ],
   "source": [
    "import numpy as np\n",
    "import matplotlib.pyplot as plt\n",
    "import pandas as pd\n",
    "import tensorflow as tf\n",
    "from tensorflow.keras import layers\n",
    "\n",
    "import tensorflow_hub as hub\n",
    "#import tensorflow_datasets as tfds\n",
    "\n",
    "print(\"Version: \", tf.__version__)\n",
    "print(\"Eager mode: \", tf.executing_eagerly())\n",
    "print(\"Hub version: \", hub.__version__)\n",
    "print(\"GPU is\", \"available\" if tf.config.experimental.list_physical_devices(\"GPU\") else \"NOT AVAILABLE\")"
   ]
  },
  {
   "cell_type": "code",
   "execution_count": 2,
   "metadata": {},
   "outputs": [
    {
     "name": "stdout",
     "output_type": "stream",
     "text": [
      "Index(['sentence', 'sentiment', 'polarity'], dtype='object')\n"
     ]
    }
   ],
   "source": [
    "import data\n",
    "train_data, test_data = data.load_datasets_locally(\"/home/stavros/DATA/IMDb\")\n",
    "print(train_data.columns)"
   ]
  },
  {
   "cell_type": "markdown",
   "metadata": {},
   "source": [
    "## Notes\n",
    "\n",
    "Main problem with CNNs is overfitting. Almost 100% train accuracy but always <80% validation and test accuracy.\n",
    "\n",
    "Observations\n",
    "* Dropout (even with rate=0.5) did not help.\n",
    "* L2 regularization did not help, at least with the used parameters.\n",
    "* Using the `Subword` tokenizer from `tensorflow_datasets` did not help: it had the same overfitting (actually slightly worse) with the default `keras` tokenizer."
   ]
  },
  {
   "cell_type": "markdown",
   "metadata": {},
   "source": [
    "## Explore how keras `Tokenizer` works"
   ]
  },
  {
   "cell_type": "code",
   "execution_count": 4,
   "metadata": {},
   "outputs": [],
   "source": [
    "tokenizer = tf.keras.preprocessing.text.Tokenizer(num_words=10000, oov_token=\"<UNK>\")\n",
    "tokenizer.fit_on_texts(list(train_data.sentence) + list(test_data.sentence))"
   ]
  },
  {
   "cell_type": "code",
   "execution_count": 153,
   "metadata": {},
   "outputs": [],
   "source": [
    "x_train = tokenizer.texts_to_sequences(train_data.sentence)\n",
    "x_test = tokenizer.texts_to_sequences(test_data.sentence)"
   ]
  },
  {
   "cell_type": "code",
   "execution_count": 6,
   "metadata": {},
   "outputs": [],
   "source": [
    "tokens_count = np.zeros(10000 + 1)\n",
    "for sentence in x_train:\n",
    "    for token in sentence:\n",
    "        tokens_count[token] += 1"
   ]
  },
  {
   "cell_type": "code",
   "execution_count": 155,
   "metadata": {},
   "outputs": [
    {
     "name": "stdout",
     "output_type": "stream",
     "text": [
      "5942841\n"
     ]
    }
   ],
   "source": [
    "train_lengths = [len(sentence) for sentence in x_train]\n",
    "total_words = sum(train_lengths)\n",
    "print(total_words)\n",
    "\n",
    "test_lengths = [len(sentence) for sentence in x_test]"
   ]
  },
  {
   "cell_type": "code",
   "execution_count": 16,
   "metadata": {},
   "outputs": [
    {
     "data": {
      "image/png": "[encoded data removed]",
      "text/plain": [
       "<Figure size 432x288 with 1 Axes>"
      ]
     },
     "metadata": {
      "needs_background": "light"
     },
     "output_type": "display_data"
    }
   ],
   "source": [
    "plt.semilogy(tokens_count[1:])\n",
    "plt.xlabel(\"Token\")\n",
    "plt.ylabel(\"Number of appearances\")\n",
    "plt.show()"
   ]
  },
  {
   "cell_type": "markdown",
   "metadata": {},
   "source": [
    "Most commonly appearing tokens"
   ]
  },
  {
   "cell_type": "code",
   "execution_count": 14,
   "metadata": {},
   "outputs": [
    {
     "name": "stdout",
     "output_type": "stream",
     "text": [
      "<UNK>: 5.882523190507705\n",
      "the: 5.6563519030712754\n",
      "and: 2.7612550966785077\n",
      "a: 2.7434689906729797\n",
      "of: 2.454162916355999\n",
      "to: 2.283554279846962\n",
      "is: 1.8057525012027076\n",
      "br: 1.7141801370758531\n",
      "in: 1.580624485830935\n"
     ]
    }
   ],
   "source": [
    "for token in range(1, 10):\n",
    "    print(\"{}: {}\".format(tokenizer.index_word[token], tokens_count[token] * 100.0 / total_words))"
   ]
  },
  {
   "cell_type": "markdown",
   "metadata": {},
   "source": [
    "Distribution of sequence lengths"
   ]
  },
  {
   "cell_type": "code",
   "execution_count": 157,
   "metadata": {},
   "outputs": [
    {
     "name": "stdout",
     "output_type": "stream",
     "text": [
      "Mean train length: 237.71364\n",
      "Train length STD: 176.49367364852034\n",
      "Mean test length: 232.35268\n",
      "Test length STD: 171.5344785657321\n"
     ]
    },
    {
     "data": {
      "image/png": "[encoded data removed]",
      "text/plain": [
       "<Figure size 1080x288 with 2 Axes>"
      ]
     },
     "metadata": {
      "needs_background": "light"
     },
     "output_type": "display_data"
    }
   ],
   "source": [
    "plt.figure(figsize=(15, 4))\n",
    "\n",
    "plt.subplot(121)\n",
    "plt.hist(lengths, bins=100)\n",
    "print(\"Mean train length: {}\".format(np.mean(train_lengths)))\n",
    "print(\"Train length STD: {}\".format(np.std(train_lengths)))\n",
    "plt.xlabel(\"Lengths\")\n",
    "\n",
    "plt.subplot(122)\n",
    "plt.hist(lengths, bins=100)\n",
    "print(\"Mean test length: {}\".format(np.mean(test_lengths)))\n",
    "print(\"Test length STD: {}\".format(np.std(test_lengths)))\n",
    "plt.xlabel(\"Lengths\")\n",
    "\n",
    "plt.show()"
   ]
  },
  {
   "cell_type": "code",
   "execution_count": 28,
   "metadata": {},
   "outputs": [
    {
     "data": {
      "text/plain": [
       "10000"
      ]
     },
     "execution_count": 28,
     "metadata": {},
     "output_type": "execute_result"
    }
   ],
   "source": [
    "tokenizer.num_words"
   ]
  },
  {
   "cell_type": "code",
   "execution_count": 36,
   "metadata": {},
   "outputs": [
    {
     "data": {
      "text/plain": [
       "9996"
      ]
     },
     "execution_count": 36,
     "metadata": {},
     "output_type": "execute_result"
    }
   ],
   "source": [
    "len(set(token for sentence in x_train for token in sentence))"
   ]
  },
  {
   "cell_type": "code",
   "execution_count": 31,
   "metadata": {},
   "outputs": [
    {
     "data": {
      "text/plain": [
       "124253"
      ]
     },
     "execution_count": 31,
     "metadata": {},
     "output_type": "execute_result"
    }
   ],
   "source": [
    "len(tokenizer.index_word)"
   ]
  },
  {
   "cell_type": "markdown",
   "metadata": {},
   "source": [
    "## Explore `SubwordTextEncoder` tokenizer"
   ]
  },
  {
   "cell_type": "code",
   "execution_count": 4,
   "metadata": {},
   "outputs": [],
   "source": [
    "import tensorflow_datasets as tfds"
   ]
  },
  {
   "cell_type": "code",
   "execution_count": 5,
   "metadata": {},
   "outputs": [],
   "source": [
    "def corpus_generator():\n",
    "    for sentence in train_data.sentence:\n",
    "        yield sentence\n",
    "    for sentence in test_data.sentence:\n",
    "        yield sentence"
   ]
  },
  {
   "cell_type": "code",
   "execution_count": 7,
   "metadata": {},
   "outputs": [],
   "source": [
    "encoder = tfds.features.text.SubwordTextEncoder.build_from_corpus(corpus_generator(), target_vocab_size=20000)"
   ]
  },
  {
   "cell_type": "code",
   "execution_count": 9,
   "metadata": {},
   "outputs": [],
   "source": [
    "encoder.save_to_file(\"imdb_train_and_test_vocab20000\")"
   ]
  },
  {
   "cell_type": "code",
   "execution_count": 16,
   "metadata": {},
   "outputs": [],
   "source": [
    "train_data[\"tokenized_sentence\"] = [encoder.encode(s) for s in train_data.sentence]\n",
    "test_data[\"tokenized_sentence\"] = [encoder.encode(s) for s in test_data.sentence]"
   ]
  },
  {
   "cell_type": "code",
   "execution_count": 20,
   "metadata": {},
   "outputs": [
    {
     "name": "stdout",
     "output_type": "stream",
     "text": [
      "1\n",
      "20168\n",
      "\n",
      "1\n",
      "20168\n"
     ]
    }
   ],
   "source": [
    "print(min(np.array(x).min() for x in train_data[\"tokenized_sentence\"]))\n",
    "print(max(np.array(x).max() for x in train_data[\"tokenized_sentence\"]))\n",
    "print()\n",
    "print(min(np.array(x).min() for x in test_data[\"tokenized_sentence\"]))\n",
    "print(max(np.array(x).max() for x in test_data[\"tokenized_sentence\"]))"
   ]
  },
  {
   "cell_type": "markdown",
   "metadata": {},
   "source": [
    "## Tokenize data for CNN"
   ]
  },
  {
   "cell_type": "markdown",
   "metadata": {},
   "source": [
    "Use keras tokenizer"
   ]
  },
  {
   "cell_type": "code",
   "execution_count": 71,
   "metadata": {},
   "outputs": [],
   "source": [
    "tokenizer = tf.keras.preprocessing.text.Tokenizer(num_words=20000, oov_token=\"<UNK>\")\n",
    "tokenizer.fit_on_texts(list(train_data.sentence) + list(test_data.sentence))\n",
    "num_works = tokenizer.num_words + 1\n",
    "\n",
    "train_data[\"tokenized_sentence\"] = [tokenizer.texts_to_sequences([s])[0] for s in train_data.sentence]\n",
    "test_data[\"tokenized_sentence\"] = [tokenizer.texts_to_sequences([s])[0] for s in test_data.sentence]"
   ]
  },
  {
   "cell_type": "markdown",
   "metadata": {},
   "source": [
    "Use `SubwordTextEncoder` from `tensorflow_datasets`"
   ]
  },
  {
   "cell_type": "code",
   "execution_count": null,
   "metadata": {},
   "outputs": [],
   "source": [
    "encoder = ... # Load encoder\n",
    "num_words = encoder.vocab_size"
   ]
  },
  {
   "cell_type": "code",
   "execution_count": null,
   "metadata": {},
   "outputs": [],
   "source": [
    "train_data[\"tokenized_sentence\"] = [encoder.encode(s) for s in train_data.sentence]\n",
    "test_data[\"tokenized_sentence\"] = [encoder.encode(s) for s in test_data.sentence]"
   ]
  },
  {
   "cell_type": "markdown",
   "metadata": {},
   "source": [
    "## CNN sentiment classifier"
   ]
  },
  {
   "cell_type": "markdown",
   "metadata": {},
   "source": [
    "In order to use `preprocess`, `data` must have a new column (`tokenized_sentence`) with the numericalized version of the sentence. Use one of the above tokenizers to create it"
   ]
  },
  {
   "cell_type": "code",
   "execution_count": 72,
   "metadata": {},
   "outputs": [],
   "source": [
    "def preprocess(data: pd.DataFrame, sentence_length: int, n_classes: int = 2, dtype=tf.float32):    \n",
    "    x_train = np.zeros((len(data), sentence_length))\n",
    "    for i, sentence in enumerate(data.tokenized_sentence):\n",
    "        n = min(sentence_length, len(sentence))\n",
    "        x_train[i, :n] = np.array(sentence)[:sentence_length]\n",
    "    \n",
    "    y_train = data.polarity\n",
    "    if n_classes > 1:\n",
    "        y_train = tf.one_hot(y_train, depth=n_classes)\n",
    "    \n",
    "    x_train = tf.cast(x_train, dtype=dtype)\n",
    "    y_train = tf.cast(y_train, dtype=dtype)\n",
    "    return x_train, y_train"
   ]
  },
  {
   "cell_type": "code",
   "execution_count": 73,
   "metadata": {},
   "outputs": [
    {
     "name": "stdout",
     "output_type": "stream",
     "text": [
      "(25000, 128) (25000, 2)\n",
      "(2000, 128) (2000, 2)\n",
      "(25000, 128) (25000, 2)\n"
     ]
    }
   ],
   "source": [
    "sentence_length = 128\n",
    "\n",
    "x_train, y_train = preprocess(train_data, sentence_length, n_classes=2)\n",
    "x_val, y_val = preprocess(test_data[:2000], sentence_length, n_classes=2)\n",
    "x_test, y_test = preprocess(test_data, sentence_length, n_classes=2)\n",
    "\n",
    "print(x_train.shape, y_train.shape)\n",
    "print(x_val.shape, y_val.shape)\n",
    "print(x_test.shape, y_test.shape)"
   ]
  },
  {
   "cell_type": "code",
   "execution_count": 74,
   "metadata": {
    "scrolled": true
   },
   "outputs": [
    {
     "name": "stdout",
     "output_type": "stream",
     "text": [
      "Model: \"sequential_6\"\n",
      "_________________________________________________________________\n",
      "Layer (type)                 Output Shape              Param #   \n",
      "=================================================================\n",
      "embedding_6 (Embedding)      (None, 128, 4)            80740     \n",
      "_________________________________________________________________\n",
      "conv1d_18 (Conv1D)           (None, 128, 16)           272       \n",
      "_________________________________________________________________\n",
      "dropout_18 (Dropout)         (None, 128, 16)           0         \n",
      "_________________________________________________________________\n",
      "max_pooling1d_14 (MaxPooling (None, 64, 16)            0         \n",
      "_________________________________________________________________\n",
      "conv1d_19 (Conv1D)           (None, 64, 32)            1568      \n",
      "_________________________________________________________________\n",
      "dropout_19 (Dropout)         (None, 64, 32)            0         \n",
      "_________________________________________________________________\n",
      "max_pooling1d_15 (MaxPooling (None, 32, 32)            0         \n",
      "_________________________________________________________________\n",
      "conv1d_20 (Conv1D)           (None, 32, 64)            6208      \n",
      "_________________________________________________________________\n",
      "dropout_20 (Dropout)         (None, 32, 64)            0         \n",
      "_________________________________________________________________\n",
      "global_average_pooling1d_4 ( (None, 64)                0         \n",
      "_________________________________________________________________\n",
      "dense_6 (Dense)              (None, 2)                 130       \n",
      "=================================================================\n",
      "Total params: 88,918\n",
      "Trainable params: 88,918\n",
      "Non-trainable params: 0\n",
      "_________________________________________________________________\n",
      "None\n"
     ]
    }
   ],
   "source": [
    "from tensorflow.keras import layers\n",
    "from tensorflow.keras import regularizers\n",
    "\n",
    "embedding_dim = 4\n",
    "dropout_rate = 0.5\n",
    "l2_reg = 1e-4\n",
    "\n",
    "model = tf.keras.models.Sequential()\n",
    "model.add(layers.Input((sentence_length,)))\n",
    "model.add(layers.Embedding(num_words, embedding_dim))\n",
    "model.add(layers.Conv1D(filters=16, kernel_size=4, padding=\"same\", activation=\"relu\", \n",
    "                        kernel_regularizer=regularizers.l2(l2_reg)))\n",
    "model.add(layers.Dropout(rate=dropout_rate))\n",
    "model.add(layers.MaxPool1D())\n",
    "#model.add(layers.BatchNormalization())\n",
    "model.add(layers.Conv1D(filters=32, kernel_size=3, padding=\"same\", activation=\"relu\",\n",
    "                       kernel_regularizer=regularizers.l2(l2_reg)))\n",
    "model.add(layers.Dropout(rate=dropout_rate))\n",
    "model.add(layers.MaxPool1D())\n",
    "#model.add(layers.BatchNormalization())\n",
    "model.add(layers.Conv1D(filters=64, kernel_size=3, padding=\"same\", activation=\"relu\",\n",
    "                        kernel_regularizer=regularizers.l2(l2_reg)))\n",
    "model.add(layers.Dropout(rate=dropout_rate))\n",
    "model.add(layers.GlobalAveragePooling1D())\n",
    "model.add(layers.Dense(2, activation=\"softmax\", kernel_regularizer=regularizers.l2(l2_reg)))\n",
    "\n",
    "print(model.summary())"
   ]
  },
  {
   "cell_type": "code",
   "execution_count": 75,
   "metadata": {
    "scrolled": true
   },
   "outputs": [
    {
     "name": "stdout",
     "output_type": "stream",
     "text": [
      "Train on 25000 samples, validate on 2000 samples\n",
      "Epoch 1/15\n",
      "25000/25000 [==============================] - 6s 235us/sample - loss: 0.5767 - accuracy: 0.6608 - val_loss: 0.4823 - val_accuracy: 0.7765\n",
      "Epoch 2/15\n",
      "25000/25000 [==============================] - 4s 177us/sample - loss: 0.3081 - accuracy: 0.8738 - val_loss: 0.4361 - val_accuracy: 0.8060\n",
      "Epoch 3/15\n",
      "25000/25000 [==============================] - 4s 175us/sample - loss: 0.2258 - accuracy: 0.9143 - val_loss: 0.4170 - val_accuracy: 0.8110\n",
      "Epoch 4/15\n",
      "25000/25000 [==============================] - 4s 173us/sample - loss: 0.1755 - accuracy: 0.9375 - val_loss: 0.4417 - val_accuracy: 0.8055\n",
      "Epoch 5/15\n",
      "25000/25000 [==============================] - 4s 177us/sample - loss: 0.1413 - accuracy: 0.9506 - val_loss: 0.4858 - val_accuracy: 0.8030\n",
      "Epoch 6/15\n",
      "25000/25000 [==============================] - 4s 170us/sample - loss: 0.1116 - accuracy: 0.9617 - val_loss: 0.5456 - val_accuracy: 0.7905\n",
      "Epoch 7/15\n",
      "25000/25000 [==============================] - 5s 206us/sample - loss: 0.0912 - accuracy: 0.9698 - val_loss: 0.6054 - val_accuracy: 0.7855\n",
      "Epoch 8/15\n",
      "25000/25000 [==============================] - 9s 362us/sample - loss: 0.0795 - accuracy: 0.9744 - val_loss: 0.6615 - val_accuracy: 0.7825\n",
      "Epoch 9/15\n",
      "25000/25000 [==============================] - 6s 234us/sample - loss: 0.0604 - accuracy: 0.9822 - val_loss: 0.7540 - val_accuracy: 0.7765\n",
      "Epoch 10/15\n",
      "25000/25000 [==============================] - 6s 221us/sample - loss: 0.0563 - accuracy: 0.9820 - val_loss: 0.7887 - val_accuracy: 0.7835\n",
      "Epoch 11/15\n",
      "25000/25000 [==============================] - 6s 228us/sample - loss: 0.0447 - accuracy: 0.9873 - val_loss: 0.9280 - val_accuracy: 0.7705\n",
      "Epoch 12/15\n",
      "25000/25000 [==============================] - 5s 205us/sample - loss: 0.0437 - accuracy: 0.9870 - val_loss: 0.8938 - val_accuracy: 0.7820\n",
      "Epoch 13/15\n",
      "25000/25000 [==============================] - 5s 188us/sample - loss: 0.0383 - accuracy: 0.9895 - val_loss: 1.0345 - val_accuracy: 0.7685\n",
      "Epoch 14/15\n",
      "25000/25000 [==============================] - 6s 233us/sample - loss: 0.0335 - accuracy: 0.9920 - val_loss: 1.0860 - val_accuracy: 0.7695\n",
      "Epoch 15/15\n",
      "25000/25000 [==============================] - 6s 226us/sample - loss: 0.0293 - accuracy: 0.9936 - val_loss: 1.0922 - val_accuracy: 0.7760\n"
     ]
    },
    {
     "data": {
      "text/plain": [
       "<tensorflow.python.keras.callbacks.History at 0x7f9f00bffeb8>"
      ]
     },
     "execution_count": 75,
     "metadata": {},
     "output_type": "execute_result"
    }
   ],
   "source": [
    "model.compile(optimizer=\"adam\", loss=\"binary_crossentropy\", metrics=[\"accuracy\"])\n",
    "model.fit(x=x_train, y=y_train, epochs=15, batch_size=128, validation_data=(x_val, y_val))"
   ]
  },
  {
   "cell_type": "code",
   "execution_count": 76,
   "metadata": {},
   "outputs": [
    {
     "name": "stdout",
     "output_type": "stream",
     "text": [
      "Test accuracy: 0.77476\n"
     ]
    }
   ],
   "source": [
    "test_pred = model.predict(x_test)\n",
    "print(\"Test accuracy: {}\".format((test_pred.argmax(axis=1) == test_data.polarity).mean()))"
   ]
  },
  {
   "cell_type": "markdown",
   "metadata": {},
   "source": [
    "## Batches of varying length (do not truncate)"
   ]
  },
  {
   "cell_type": "code",
   "execution_count": 84,
   "metadata": {},
   "outputs": [],
   "source": [
    "def get_generator(data: pd.DataFrame, n_classes: int = 2):\n",
    "    for ids, label in zip(data.tokenized_sentence, data.polarity):\n",
    "        if n_classes > 1:\n",
    "            yield ids, tf.one_hot(label, depth=n_classes)\n",
    "        else:\n",
    "            yield np.array(ids), label\n",
    "\n",
    "output_types = (tf.int64, tf.float32)\n",
    "train_set = tf.data.Dataset.from_generator(lambda: get_generator(train_data, n_classes=2), output_types=output_types)\n",
    "test_set = tf.data.Dataset.from_generator(lambda: get_generator(test_data, n_classes=2), output_types=output_types)"
   ]
  },
  {
   "cell_type": "code",
   "execution_count": 90,
   "metadata": {},
   "outputs": [],
   "source": [
    "padded_shapes = ((None,),(2,))\n",
    "train_batches = train_set.shuffle(25000).padded_batch(100, padded_shapes = padded_shapes)\n",
    "val_batches = test_set.take(2000).padded_batch(100, padded_shapes = padded_shapes)"
   ]
  },
  {
   "cell_type": "code",
   "execution_count": 86,
   "metadata": {},
   "outputs": [
    {
     "name": "stdout",
     "output_type": "stream",
     "text": [
      "Model: \"sequential_8\"\n",
      "_________________________________________________________________\n",
      "Layer (type)                 Output Shape              Param #   \n",
      "=================================================================\n",
      "embedding_8 (Embedding)      (None, None, 4)           80740     \n",
      "_________________________________________________________________\n",
      "conv1d_24 (Conv1D)           (None, None, 16)          272       \n",
      "_________________________________________________________________\n",
      "dropout_24 (Dropout)         (None, None, 16)          0         \n",
      "_________________________________________________________________\n",
      "max_pooling1d_18 (MaxPooling (None, None, 16)          0         \n",
      "_________________________________________________________________\n",
      "conv1d_25 (Conv1D)           (None, None, 32)          1568      \n",
      "_________________________________________________________________\n",
      "dropout_25 (Dropout)         (None, None, 32)          0         \n",
      "_________________________________________________________________\n",
      "max_pooling1d_19 (MaxPooling (None, None, 32)          0         \n",
      "_________________________________________________________________\n",
      "conv1d_26 (Conv1D)           (None, None, 64)          6208      \n",
      "_________________________________________________________________\n",
      "dropout_26 (Dropout)         (None, None, 64)          0         \n",
      "_________________________________________________________________\n",
      "global_average_pooling1d_6 ( (None, 64)                0         \n",
      "_________________________________________________________________\n",
      "dense_8 (Dense)              (None, 2)                 130       \n",
      "=================================================================\n",
      "Total params: 88,918\n",
      "Trainable params: 88,918\n",
      "Non-trainable params: 0\n",
      "_________________________________________________________________\n",
      "None\n"
     ]
    }
   ],
   "source": [
    "from tensorflow.keras import layers\n",
    "from tensorflow.keras import regularizers\n",
    "\n",
    "embedding_dim = 4\n",
    "dropout_rate = 0.5\n",
    "l2_reg = 1e-4\n",
    "\n",
    "model = tf.keras.models.Sequential()\n",
    "model.add(layers.Embedding(num_words, embedding_dim))\n",
    "model.add(layers.Conv1D(filters=16, kernel_size=4, padding=\"same\", activation=\"relu\", \n",
    "                        kernel_regularizer=regularizers.l2(l2_reg)))\n",
    "model.add(layers.Dropout(rate=dropout_rate))\n",
    "model.add(layers.MaxPool1D())\n",
    "#model.add(layers.BatchNormalization())\n",
    "model.add(layers.Conv1D(filters=32, kernel_size=3, padding=\"same\", activation=\"relu\",\n",
    "                       kernel_regularizer=regularizers.l2(l2_reg)))\n",
    "model.add(layers.Dropout(rate=dropout_rate))\n",
    "model.add(layers.MaxPool1D())\n",
    "#model.add(layers.BatchNormalization())\n",
    "model.add(layers.Conv1D(filters=64, kernel_size=3, padding=\"same\", activation=\"relu\",\n",
    "                        kernel_regularizer=regularizers.l2(l2_reg)))\n",
    "model.add(layers.Dropout(rate=dropout_rate))\n",
    "model.add(layers.GlobalAveragePooling1D())\n",
    "model.add(layers.Dense(2, activation=\"softmax\", kernel_regularizer=regularizers.l2(l2_reg)))\n",
    "\n",
    "print(model.summary())"
   ]
  },
  {
   "cell_type": "code",
   "execution_count": 91,
   "metadata": {},
   "outputs": [
    {
     "name": "stdout",
     "output_type": "stream",
     "text": [
      "Epoch 1/5\n",
      "250/250 [==============================] - 37s 148ms/step - loss: 0.1103 - accuracy: 0.9662 - val_loss: 0.0000e+00 - val_accuracy: 0.0000e+00\n",
      "Epoch 2/5\n",
      "250/250 [==============================] - 39s 156ms/step - loss: 0.0885 - accuracy: 0.9745 - val_loss: 0.4146 - val_accuracy: 0.8485\n",
      "Epoch 3/5\n",
      "250/250 [==============================] - 39s 155ms/step - loss: 0.0733 - accuracy: 0.9806 - val_loss: 0.4397 - val_accuracy: 0.8510\n",
      "Epoch 4/5\n",
      "250/250 [==============================] - 37s 150ms/step - loss: 0.0609 - accuracy: 0.9834 - val_loss: 0.4590 - val_accuracy: 0.8490\n",
      "Epoch 5/5\n",
      "250/250 [==============================] - 36s 145ms/step - loss: 0.0559 - accuracy: 0.9862 - val_loss: 0.5569 - val_accuracy: 0.8365\n"
     ]
    },
    {
     "data": {
      "text/plain": [
       "<tensorflow.python.keras.callbacks.History at 0x7f9f013600f0>"
      ]
     },
     "execution_count": 91,
     "metadata": {},
     "output_type": "execute_result"
    }
   ],
   "source": [
    "model.compile(optimizer=\"adam\", loss=\"binary_crossentropy\", metrics=[\"accuracy\"])\n",
    "model.fit(train_batches, epochs=5, validation_data=val_batches)"
   ]
  },
  {
   "cell_type": "code",
   "execution_count": 92,
   "metadata": {},
   "outputs": [
    {
     "name": "stdout",
     "output_type": "stream",
     "text": [
      "Test accuracy: 0.79924\n"
     ]
    }
   ],
   "source": [
    "test_pred = model.predict(x_test)\n",
    "print(\"Test accuracy: {}\".format((test_pred.argmax(axis=1) == test_data.polarity).mean()))"
   ]
  },
  {
   "cell_type": "code",
   "execution_count": 93,
   "metadata": {},
   "outputs": [
    {
     "name": "stdout",
     "output_type": "stream",
     "text": [
      "Test accuracy: 0.7885\n"
     ]
    }
   ],
   "source": [
    "test_pred = model.predict(x_test[:2000])\n",
    "print(\"Test accuracy: {}\".format((test_pred.argmax(axis=1) == test_data.polarity[:2000]).mean()))"
   ]
  },
  {
   "cell_type": "code",
   "execution_count": null,
   "metadata": {},
   "outputs": [],
   "source": []
  }
 ],
 "metadata": {
  "kernelspec": {
   "display_name": "Python 3",
   "language": "python",
   "name": "python3"
  },
  "language_info": {
   "codemirror_mode": {
    "name": "ipython",
    "version": 3
   },
   "file_extension": ".py",
   "mimetype": "text/x-python",
   "name": "python",
   "nbconvert_exporter": "python",
   "pygments_lexer": "ipython3",
   "version": "3.6.8"
  }
 },
 "nbformat": 4,
 "nbformat_minor": 2
}
